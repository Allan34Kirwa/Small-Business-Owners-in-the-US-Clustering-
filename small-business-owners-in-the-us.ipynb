{
 "cells": [
  {
   "cell_type": "code",
   "execution_count": 1,
   "id": "66ceb386",
   "metadata": {
    "_cell_guid": "b1076dfc-b9ad-4769-8c92-a6c4dae69d19",
    "_uuid": "8f2839f25d086af736a60e9eeb907d3b93b6e0e5",
    "execution": {
     "iopub.execute_input": "2024-04-06T05:26:28.989525Z",
     "iopub.status.busy": "2024-04-06T05:26:28.989045Z",
     "iopub.status.idle": "2024-04-06T05:26:33.736899Z",
     "shell.execute_reply": "2024-04-06T05:26:33.734809Z"
    },
    "papermill": {
     "duration": 4.769515,
     "end_time": "2024-04-06T05:26:33.740160",
     "exception": false,
     "start_time": "2024-04-06T05:26:28.970645",
     "status": "completed"
    },
    "tags": []
   },
   "outputs": [
    {
     "name": "stdout",
     "output_type": "stream",
     "text": [
      "/kaggle/input/survey-of-consumer-finances-data/SCFP2019.csv\n",
      "/kaggle/input/data-dictionary-for-customer-segmentation-usa/hcbk.htm\n"
     ]
    }
   ],
   "source": [
    "\n",
    "import numpy as np # linear algebra\n",
    "import pandas as pd # data processing, CSV file I/O (e.g. pd.read_csv)\n",
    "import matplotlib.pyplot as plt\n",
    "import pandas as pd\n",
    "import plotly.express as px\n",
    "from scipy.stats.mstats import trimmed_var\n",
    "from sklearn.cluster import KMeans\n",
    "from sklearn.decomposition import PCA\n",
    "from sklearn.metrics import silhouette_score\n",
    "from sklearn.pipeline import make_pipeline\n",
    "from sklearn.preprocessing import StandardScaler\n",
    "import seaborn as sns\n",
    "\n",
    "import os\n",
    "for dirname, _, filenames in os.walk('/kaggle/input'):\n",
    "    for filename in filenames:\n",
    "        print(os.path.join(dirname, filename))\n",
    "\n"
   ]
  },
  {
   "cell_type": "markdown",
   "id": "712df1cb",
   "metadata": {
    "papermill": {
     "duration": 0.016592,
     "end_time": "2024-04-06T05:26:33.772372",
     "exception": false,
     "start_time": "2024-04-06T05:26:33.755780",
     "status": "completed"
    },
    "tags": []
   },
   "source": [
    "In this project assignment, you're going to focus on business owners in the United States. You'll start by examining some demographic characteristics of the group, such as age, income category, and debt vs home value. Then you'll select high-variance features, and create a clustering model to divide small business owners into subgroups. Finally, you'll create some visualizations to highlight the differences between these subgroups. Good luck! "
   ]
  },
  {
   "cell_type": "markdown",
   "id": "b4ba002b",
   "metadata": {
    "papermill": {
     "duration": 0.014218,
     "end_time": "2024-04-06T05:26:33.802126",
     "exception": false,
     "start_time": "2024-04-06T05:26:33.787908",
     "status": "completed"
    },
    "tags": []
   },
   "source": [
    "`1. Prepare Data"
   ]
  },
  {
   "cell_type": "markdown",
   "id": "67e83c91",
   "metadata": {
    "papermill": {
     "duration": 0.016719,
     "end_time": "2024-04-06T05:26:33.834531",
     "exception": false,
     "start_time": "2024-04-06T05:26:33.817812",
     "status": "completed"
    },
    "tags": []
   },
   "source": [
    "`a. Import`"
   ]
  },
  {
   "cell_type": "markdown",
   "id": "3b0d5f3e",
   "metadata": {
    "papermill": {
     "duration": 0.014625,
     "end_time": "2024-04-06T05:26:33.863593",
     "exception": false,
     "start_time": "2024-04-06T05:26:33.848968",
     "status": "completed"
    },
    "tags": []
   },
   "source": [
    "Task 6.5.1: Read the file \"data/SCFP2019.csv.gz\" into the DataFrame df."
   ]
  },
  {
   "cell_type": "code",
   "execution_count": 2,
   "id": "c7ccfe9e",
   "metadata": {
    "execution": {
     "iopub.execute_input": "2024-04-06T05:26:33.896940Z",
     "iopub.status.busy": "2024-04-06T05:26:33.896268Z",
     "iopub.status.idle": "2024-04-06T05:26:35.771900Z",
     "shell.execute_reply": "2024-04-06T05:26:35.770915Z"
    },
    "papermill": {
     "duration": 1.897126,
     "end_time": "2024-04-06T05:26:35.775427",
     "exception": false,
     "start_time": "2024-04-06T05:26:33.878301",
     "status": "completed"
    },
    "tags": []
   },
   "outputs": [
    {
     "name": "stdout",
     "output_type": "stream",
     "text": [
      "df shape: (28885, 356)\n"
     ]
    },
    {
     "data": {
      "text/html": [
       "<div>\n",
       "<style scoped>\n",
       "    .dataframe tbody tr th:only-of-type {\n",
       "        vertical-align: middle;\n",
       "    }\n",
       "\n",
       "    .dataframe tbody tr th {\n",
       "        vertical-align: top;\n",
       "    }\n",
       "\n",
       "    .dataframe thead th {\n",
       "        text-align: right;\n",
       "    }\n",
       "</style>\n",
       "<table border=\"1\" class=\"dataframe\">\n",
       "  <thead>\n",
       "    <tr style=\"text-align: right;\">\n",
       "      <th></th>\n",
       "      <th>YY1</th>\n",
       "      <th>Y1</th>\n",
       "      <th>WGT</th>\n",
       "      <th>HHSEX</th>\n",
       "      <th>AGE</th>\n",
       "      <th>AGECL</th>\n",
       "      <th>EDUC</th>\n",
       "      <th>EDCL</th>\n",
       "      <th>MARRIED</th>\n",
       "      <th>KIDS</th>\n",
       "      <th>...</th>\n",
       "      <th>NWCAT</th>\n",
       "      <th>INCCAT</th>\n",
       "      <th>ASSETCAT</th>\n",
       "      <th>NINCCAT</th>\n",
       "      <th>NINC2CAT</th>\n",
       "      <th>NWPCTLECAT</th>\n",
       "      <th>INCPCTLECAT</th>\n",
       "      <th>NINCPCTLECAT</th>\n",
       "      <th>INCQRTCAT</th>\n",
       "      <th>NINCQRTCAT</th>\n",
       "    </tr>\n",
       "  </thead>\n",
       "  <tbody>\n",
       "    <tr>\n",
       "      <th>0</th>\n",
       "      <td>1</td>\n",
       "      <td>11</td>\n",
       "      <td>6119.779308</td>\n",
       "      <td>2</td>\n",
       "      <td>75</td>\n",
       "      <td>6</td>\n",
       "      <td>12</td>\n",
       "      <td>4</td>\n",
       "      <td>2</td>\n",
       "      <td>0</td>\n",
       "      <td>...</td>\n",
       "      <td>5</td>\n",
       "      <td>3</td>\n",
       "      <td>6</td>\n",
       "      <td>3</td>\n",
       "      <td>2</td>\n",
       "      <td>10</td>\n",
       "      <td>6</td>\n",
       "      <td>6</td>\n",
       "      <td>3</td>\n",
       "      <td>3</td>\n",
       "    </tr>\n",
       "    <tr>\n",
       "      <th>1</th>\n",
       "      <td>1</td>\n",
       "      <td>12</td>\n",
       "      <td>4712.374912</td>\n",
       "      <td>2</td>\n",
       "      <td>75</td>\n",
       "      <td>6</td>\n",
       "      <td>12</td>\n",
       "      <td>4</td>\n",
       "      <td>2</td>\n",
       "      <td>0</td>\n",
       "      <td>...</td>\n",
       "      <td>5</td>\n",
       "      <td>3</td>\n",
       "      <td>6</td>\n",
       "      <td>3</td>\n",
       "      <td>1</td>\n",
       "      <td>10</td>\n",
       "      <td>5</td>\n",
       "      <td>5</td>\n",
       "      <td>2</td>\n",
       "      <td>2</td>\n",
       "    </tr>\n",
       "    <tr>\n",
       "      <th>2</th>\n",
       "      <td>1</td>\n",
       "      <td>13</td>\n",
       "      <td>5145.224455</td>\n",
       "      <td>2</td>\n",
       "      <td>75</td>\n",
       "      <td>6</td>\n",
       "      <td>12</td>\n",
       "      <td>4</td>\n",
       "      <td>2</td>\n",
       "      <td>0</td>\n",
       "      <td>...</td>\n",
       "      <td>5</td>\n",
       "      <td>3</td>\n",
       "      <td>6</td>\n",
       "      <td>3</td>\n",
       "      <td>1</td>\n",
       "      <td>10</td>\n",
       "      <td>5</td>\n",
       "      <td>5</td>\n",
       "      <td>2</td>\n",
       "      <td>2</td>\n",
       "    </tr>\n",
       "    <tr>\n",
       "      <th>3</th>\n",
       "      <td>1</td>\n",
       "      <td>14</td>\n",
       "      <td>5297.663412</td>\n",
       "      <td>2</td>\n",
       "      <td>75</td>\n",
       "      <td>6</td>\n",
       "      <td>12</td>\n",
       "      <td>4</td>\n",
       "      <td>2</td>\n",
       "      <td>0</td>\n",
       "      <td>...</td>\n",
       "      <td>5</td>\n",
       "      <td>2</td>\n",
       "      <td>6</td>\n",
       "      <td>2</td>\n",
       "      <td>1</td>\n",
       "      <td>10</td>\n",
       "      <td>4</td>\n",
       "      <td>4</td>\n",
       "      <td>2</td>\n",
       "      <td>2</td>\n",
       "    </tr>\n",
       "    <tr>\n",
       "      <th>4</th>\n",
       "      <td>1</td>\n",
       "      <td>15</td>\n",
       "      <td>4761.812371</td>\n",
       "      <td>2</td>\n",
       "      <td>75</td>\n",
       "      <td>6</td>\n",
       "      <td>12</td>\n",
       "      <td>4</td>\n",
       "      <td>2</td>\n",
       "      <td>0</td>\n",
       "      <td>...</td>\n",
       "      <td>5</td>\n",
       "      <td>3</td>\n",
       "      <td>6</td>\n",
       "      <td>3</td>\n",
       "      <td>1</td>\n",
       "      <td>10</td>\n",
       "      <td>5</td>\n",
       "      <td>5</td>\n",
       "      <td>2</td>\n",
       "      <td>2</td>\n",
       "    </tr>\n",
       "  </tbody>\n",
       "</table>\n",
       "<p>5 rows × 356 columns</p>\n",
       "</div>"
      ],
      "text/plain": [
       "   YY1  Y1          WGT  HHSEX  AGE  AGECL  EDUC  EDCL  MARRIED  KIDS  ...  \\\n",
       "0    1  11  6119.779308      2   75      6    12     4        2     0  ...   \n",
       "1    1  12  4712.374912      2   75      6    12     4        2     0  ...   \n",
       "2    1  13  5145.224455      2   75      6    12     4        2     0  ...   \n",
       "3    1  14  5297.663412      2   75      6    12     4        2     0  ...   \n",
       "4    1  15  4761.812371      2   75      6    12     4        2     0  ...   \n",
       "\n",
       "   NWCAT  INCCAT  ASSETCAT  NINCCAT  NINC2CAT  NWPCTLECAT  INCPCTLECAT  \\\n",
       "0      5       3         6        3         2          10            6   \n",
       "1      5       3         6        3         1          10            5   \n",
       "2      5       3         6        3         1          10            5   \n",
       "3      5       2         6        2         1          10            4   \n",
       "4      5       3         6        3         1          10            5   \n",
       "\n",
       "   NINCPCTLECAT  INCQRTCAT  NINCQRTCAT  \n",
       "0             6          3           3  \n",
       "1             5          2           2  \n",
       "2             5          2           2  \n",
       "3             4          2           2  \n",
       "4             5          2           2  \n",
       "\n",
       "[5 rows x 356 columns]"
      ]
     },
     "execution_count": 2,
     "metadata": {},
     "output_type": "execute_result"
    }
   ],
   "source": [
    "# Read compressed CSV file into DataFrame\n",
    "df = pd.read_csv(\"/kaggle/input/survey-of-consumer-finances-data/SCFP2019.csv\")\n",
    "\n",
    "# Print shape of the DataFrame\n",
    "print(\"df shape:\", df.shape)\n",
    "\n",
    "# Display first few rows of DataFrame\n",
    "df.head()"
   ]
  },
  {
   "cell_type": "markdown",
   "id": "e7dfae66",
   "metadata": {
    "papermill": {
     "duration": 0.016557,
     "end_time": "2024-04-06T05:26:35.807758",
     "exception": false,
     "start_time": "2024-04-06T05:26:35.791201",
     "status": "completed"
    },
    "tags": []
   },
   "source": [
    "`b. Explore`"
   ]
  },
  {
   "cell_type": "markdown",
   "id": "34f1aebc",
   "metadata": {
    "papermill": {
     "duration": 0.016051,
     "end_time": "2024-04-06T05:26:35.839348",
     "exception": false,
     "start_time": "2024-04-06T05:26:35.823297",
     "status": "completed"
    },
    "tags": []
   },
   "source": [
    "As mentioned at the start of this assignment, you're focusing on business owners. But what percentage of the respondents in df are business owners?\n",
    "\n",
    "Task 6.5.2: Calculate the proportion of respondents in df that are business owners, and assign the result to the variable prop_biz_owners. You'll need to review the documentation regarding the \"HBUS\" column to complete these tasks."
   ]
  },
  {
   "cell_type": "code",
   "execution_count": 3,
   "id": "c92940f3",
   "metadata": {
    "execution": {
     "iopub.execute_input": "2024-04-06T05:26:35.873538Z",
     "iopub.status.busy": "2024-04-06T05:26:35.872611Z",
     "iopub.status.idle": "2024-04-06T05:26:35.891563Z",
     "shell.execute_reply": "2024-04-06T05:26:35.890325Z"
    },
    "papermill": {
     "duration": 0.038931,
     "end_time": "2024-04-06T05:26:35.894345",
     "exception": false,
     "start_time": "2024-04-06T05:26:35.855414",
     "status": "completed"
    },
    "tags": []
   },
   "outputs": [
    {
     "data": {
      "text/plain": [
       "HBUS\n",
       "0    0.725982\n",
       "1    0.274018\n",
       "Name: proportion, dtype: float64"
      ]
     },
     "execution_count": 3,
     "metadata": {},
     "output_type": "execute_result"
    }
   ],
   "source": [
    "# Count occurrences of 'HBUS'\n",
    "df[\"HBUS\"].value_counts(normalize=True)\n"
   ]
  },
  {
   "cell_type": "code",
   "execution_count": 4,
   "id": "836098dd",
   "metadata": {
    "execution": {
     "iopub.execute_input": "2024-04-06T05:26:35.926677Z",
     "iopub.status.busy": "2024-04-06T05:26:35.926211Z",
     "iopub.status.idle": "2024-04-06T05:26:35.935308Z",
     "shell.execute_reply": "2024-04-06T05:26:35.933572Z"
    },
    "papermill": {
     "duration": 0.029249,
     "end_time": "2024-04-06T05:26:35.938718",
     "exception": false,
     "start_time": "2024-04-06T05:26:35.909469",
     "status": "completed"
    },
    "tags": []
   },
   "outputs": [
    {
     "name": "stdout",
     "output_type": "stream",
     "text": [
      "proportion of business owners in df: 0.2740176562229531\n"
     ]
    }
   ],
   "source": [
    "# Extracting value counts of a specific column\n",
    "prop_biz_owners = df[\"HBUS\"].value_counts(normalize=True)[1]\n",
    "\n",
    "# Printing proportion of business owners\n",
    "print(\"proportion of business owners in df:\", prop_biz_owners)\n"
   ]
  },
  {
   "cell_type": "markdown",
   "id": "0acfbef7",
   "metadata": {
    "papermill": {
     "duration": 0.015525,
     "end_time": "2024-04-06T05:26:35.970363",
     "exception": false,
     "start_time": "2024-04-06T05:26:35.954838",
     "status": "completed"
    },
    "tags": []
   },
   "source": [
    "Is the distribution of income different for business owners and non-business owners?\n",
    "\n",
    "Task 6.5.3: Create a DataFrame df_inccat that shows the normalized frequency for income categories for business owners and non-business owners."
   ]
  },
  {
   "cell_type": "code",
   "execution_count": 5,
   "id": "f62f17c4",
   "metadata": {
    "execution": {
     "iopub.execute_input": "2024-04-06T05:26:36.006147Z",
     "iopub.status.busy": "2024-04-06T05:26:36.005422Z",
     "iopub.status.idle": "2024-04-06T05:26:36.049344Z",
     "shell.execute_reply": "2024-04-06T05:26:36.047887Z"
    },
    "papermill": {
     "duration": 0.066387,
     "end_time": "2024-04-06T05:26:36.052905",
     "exception": false,
     "start_time": "2024-04-06T05:26:35.986518",
     "status": "completed"
    },
    "tags": []
   },
   "outputs": [
    {
     "data": {
      "text/html": [
       "<div>\n",
       "<style scoped>\n",
       "    .dataframe tbody tr th:only-of-type {\n",
       "        vertical-align: middle;\n",
       "    }\n",
       "\n",
       "    .dataframe tbody tr th {\n",
       "        vertical-align: top;\n",
       "    }\n",
       "\n",
       "    .dataframe thead th {\n",
       "        text-align: right;\n",
       "    }\n",
       "</style>\n",
       "<table border=\"1\" class=\"dataframe\">\n",
       "  <thead>\n",
       "    <tr style=\"text-align: right;\">\n",
       "      <th></th>\n",
       "      <th>HBUS</th>\n",
       "      <th>INCCAT</th>\n",
       "      <th>frequency</th>\n",
       "    </tr>\n",
       "  </thead>\n",
       "  <tbody>\n",
       "    <tr>\n",
       "      <th>0</th>\n",
       "      <td>0</td>\n",
       "      <td>0-20</td>\n",
       "      <td>0.210348</td>\n",
       "    </tr>\n",
       "    <tr>\n",
       "      <th>1</th>\n",
       "      <td>0</td>\n",
       "      <td>21-39.9</td>\n",
       "      <td>0.198140</td>\n",
       "    </tr>\n",
       "    <tr>\n",
       "      <th>2</th>\n",
       "      <td>0</td>\n",
       "      <td>40-59.9</td>\n",
       "      <td>0.189080</td>\n",
       "    </tr>\n",
       "    <tr>\n",
       "      <th>3</th>\n",
       "      <td>0</td>\n",
       "      <td>60-79.9</td>\n",
       "      <td>0.186600</td>\n",
       "    </tr>\n",
       "    <tr>\n",
       "      <th>4</th>\n",
       "      <td>0</td>\n",
       "      <td>90-100</td>\n",
       "      <td>0.117167</td>\n",
       "    </tr>\n",
       "    <tr>\n",
       "      <th>5</th>\n",
       "      <td>0</td>\n",
       "      <td>80-89.9</td>\n",
       "      <td>0.098665</td>\n",
       "    </tr>\n",
       "    <tr>\n",
       "      <th>6</th>\n",
       "      <td>1</td>\n",
       "      <td>90-100</td>\n",
       "      <td>0.629438</td>\n",
       "    </tr>\n",
       "    <tr>\n",
       "      <th>7</th>\n",
       "      <td>1</td>\n",
       "      <td>60-79.9</td>\n",
       "      <td>0.119015</td>\n",
       "    </tr>\n",
       "    <tr>\n",
       "      <th>8</th>\n",
       "      <td>1</td>\n",
       "      <td>80-89.9</td>\n",
       "      <td>0.097410</td>\n",
       "    </tr>\n",
       "    <tr>\n",
       "      <th>9</th>\n",
       "      <td>1</td>\n",
       "      <td>40-59.9</td>\n",
       "      <td>0.071510</td>\n",
       "    </tr>\n",
       "    <tr>\n",
       "      <th>10</th>\n",
       "      <td>1</td>\n",
       "      <td>21-39.9</td>\n",
       "      <td>0.041440</td>\n",
       "    </tr>\n",
       "    <tr>\n",
       "      <th>11</th>\n",
       "      <td>1</td>\n",
       "      <td>0-20</td>\n",
       "      <td>0.041188</td>\n",
       "    </tr>\n",
       "  </tbody>\n",
       "</table>\n",
       "</div>"
      ],
      "text/plain": [
       "    HBUS   INCCAT  frequency\n",
       "0      0     0-20   0.210348\n",
       "1      0  21-39.9   0.198140\n",
       "2      0  40-59.9   0.189080\n",
       "3      0  60-79.9   0.186600\n",
       "4      0   90-100   0.117167\n",
       "5      0  80-89.9   0.098665\n",
       "6      1   90-100   0.629438\n",
       "7      1  60-79.9   0.119015\n",
       "8      1  80-89.9   0.097410\n",
       "9      1  40-59.9   0.071510\n",
       "10     1  21-39.9   0.041440\n",
       "11     1     0-20   0.041188"
      ]
     },
     "execution_count": 5,
     "metadata": {},
     "output_type": "execute_result"
    }
   ],
   "source": [
    "# Define income category dictionary\n",
    "inccat_dict = {\n",
    "    1: \"0-20\",\n",
    "    2: \"21-39.9\",\n",
    "    3: \"40-59.9\",\n",
    "    4: \"60-79.9\",\n",
    "    5: \"80-89.9\",\n",
    "    6: \"90-100\",\n",
    "}\n",
    "\n",
    "# Replace values in \"INCCAT\" column with corresponding ranges\n",
    "# Group by \"HBUS\" and calculate value counts normalized by total\n",
    "df_inccat = (\n",
    "    df[\"INCCAT\"]\n",
    "    .replace(inccat_dict)\n",
    "    .groupby(df[\"HBUS\"])\n",
    "    .value_counts(normalize=True)\n",
    "    .rename(\"frequency\")\n",
    "    .to_frame()\n",
    "    .reset_index()\n",
    ")\n",
    "\n",
    "# Display the resulting DataFrame\n",
    "df_inccat\n"
   ]
  },
  {
   "cell_type": "markdown",
   "id": "8ee174ab",
   "metadata": {
    "papermill": {
     "duration": 0.015206,
     "end_time": "2024-04-06T05:26:36.084344",
     "exception": false,
     "start_time": "2024-04-06T05:26:36.069138",
     "status": "completed"
    },
    "tags": []
   },
   "source": [
    "Task 6.5.4: Using seaborn, create a side-by-side bar chart of df_inccat. Set hue to \"HBUS\", and make sure that the income categories are in the correct order along the x-axis. Label to the x-axis \"Income Category\", the y-axis \"Frequency (%)\", and use the title \"Income Distribution: Business Owners vs. Non-Business Owners\"."
   ]
  },
  {
   "cell_type": "code",
   "execution_count": 6,
   "id": "55239c3e",
   "metadata": {
    "execution": {
     "iopub.execute_input": "2024-04-06T05:26:36.119643Z",
     "iopub.status.busy": "2024-04-06T05:26:36.118256Z",
     "iopub.status.idle": "2024-04-06T05:26:36.623657Z",
     "shell.execute_reply": "2024-04-06T05:26:36.622369Z"
    },
    "papermill": {
     "duration": 0.526115,
     "end_time": "2024-04-06T05:26:36.626690",
     "exception": false,
     "start_time": "2024-04-06T05:26:36.100575",
     "status": "completed"
    },
    "tags": []
   },
   "outputs": [
    {
     "data": {
      "image/png": "[encoded data removed]",
      "text/plain": [
       "<Figure size 640x480 with 1 Axes>"
      ]
     },
     "metadata": {},
     "output_type": "display_data"
    }
   ],
   "source": [
    "# Create bar chart of `df_inccat`\n",
    "sns.barplot(\n",
    "    x=\"INCCAT\",\n",
    "    y=\"frequency\",\n",
    "    hue=\"HBUS\",\n",
    "    data=df_inccat,\n",
    "    order = inccat_dict.values()\n",
    ")\n",
    "# Customize the chart\n",
    "plt.xlabel(\"Income Category\")\n",
    "plt.ylabel(\"Frequency (%)\")\n",
    "plt.title(\"Income Distribution: Business Owners vs. Non-Business Owners\");"
   ]
  },
  {
   "cell_type": "markdown",
   "id": "7ab312bc",
   "metadata": {
    "papermill": {
     "duration": 0.015682,
     "end_time": "2024-04-06T05:26:36.658750",
     "exception": false,
     "start_time": "2024-04-06T05:26:36.643068",
     "status": "completed"
    },
    "tags": []
   },
   "source": [
    "We looked at the relationship between home value and household debt in the context of the the credit fearful, but what about business owners? Are there notable differences between business owners and non-business owners?\n",
    "\n",
    "Task 6.5.5: Using seaborn, create a scatter plot that shows \"HOUSES\" vs. \"DEBT\". You should color the datapoints according to business ownership. Be sure to label the x-axis \"Household Debt\", the y-axis \"Home Value\", and use the title \"Home Value vs. Household Debt\"."
   ]
  },
  {
   "cell_type": "code",
   "execution_count": 7,
   "id": "3b058acf",
   "metadata": {
    "execution": {
     "iopub.execute_input": "2024-04-06T05:26:36.693612Z",
     "iopub.status.busy": "2024-04-06T05:26:36.692667Z",
     "iopub.status.idle": "2024-04-06T05:26:37.216088Z",
     "shell.execute_reply": "2024-04-06T05:26:37.214874Z"
    },
    "papermill": {
     "duration": 0.544389,
     "end_time": "2024-04-06T05:26:37.219229",
     "exception": false,
     "start_time": "2024-04-06T05:26:36.674840",
     "status": "completed"
    },
    "tags": []
   },
   "outputs": [
    {
     "data": {
      "image/png": "[encoded data removed]",
      "text/plain": [
       "<Figure size 640x480 with 1 Axes>"
      ]
     },
     "metadata": {},
     "output_type": "display_data"
    }
   ],
   "source": [
    "# Plot \"HOUSES\" vs \"DEBT\" with hue as business ownership\n",
    "sns.scatterplot(\n",
    "    x=\"DEBT\",\n",
    "    y=\"HOUSES\",\n",
    "    data=df\n",
    ")\n",
    "plt.xlabel(\"Household Debt\")\n",
    "plt.ylabel(\"Home Value\")\n",
    "plt.title(\"Home Value vs. Household Debt\");\n"
   ]
  },
  {
   "cell_type": "markdown",
   "id": "3b217649",
   "metadata": {
    "papermill": {
     "duration": 0.017432,
     "end_time": "2024-04-06T05:26:37.255983",
     "exception": false,
     "start_time": "2024-04-06T05:26:37.238551",
     "status": "completed"
    },
    "tags": []
   },
   "source": [
    "For the model building part of the assignment, you're going to focus on small business owners, defined as respondents who have a business and whose income does not exceed $500,000."
   ]
  },
  {
   "cell_type": "markdown",
   "id": "2d5bf647",
   "metadata": {
    "papermill": {
     "duration": 0.016594,
     "end_time": "2024-04-06T05:26:37.291377",
     "exception": false,
     "start_time": "2024-04-06T05:26:37.274783",
     "status": "completed"
    },
    "tags": []
   },
   "source": [
    "Task 6.5.6: Create a new DataFrame df_small_biz that contains only business owners whose income is below $500,000."
   ]
  },
  {
   "cell_type": "code",
   "execution_count": 8,
   "id": "5838e611",
   "metadata": {
    "execution": {
     "iopub.execute_input": "2024-04-06T05:26:37.330108Z",
     "iopub.status.busy": "2024-04-06T05:26:37.329606Z",
     "iopub.status.idle": "2024-04-06T05:26:37.369502Z",
     "shell.execute_reply": "2024-04-06T05:26:37.368218Z"
    },
    "papermill": {
     "duration": 0.06352,
     "end_time": "2024-04-06T05:26:37.372528",
     "exception": false,
     "start_time": "2024-04-06T05:26:37.309008",
     "status": "completed"
    },
    "tags": []
   },
   "outputs": [
    {
     "name": "stdout",
     "output_type": "stream",
     "text": [
      "df_small_biz shape: (4161, 356)\n"
     ]
    },
    {
     "data": {
      "text/html": [
       "<div>\n",
       "<style scoped>\n",
       "    .dataframe tbody tr th:only-of-type {\n",
       "        vertical-align: middle;\n",
       "    }\n",
       "\n",
       "    .dataframe tbody tr th {\n",
       "        vertical-align: top;\n",
       "    }\n",
       "\n",
       "    .dataframe thead th {\n",
       "        text-align: right;\n",
       "    }\n",
       "</style>\n",
       "<table border=\"1\" class=\"dataframe\">\n",
       "  <thead>\n",
       "    <tr style=\"text-align: right;\">\n",
       "      <th></th>\n",
       "      <th>YY1</th>\n",
       "      <th>Y1</th>\n",
       "      <th>WGT</th>\n",
       "      <th>HHSEX</th>\n",
       "      <th>AGE</th>\n",
       "      <th>AGECL</th>\n",
       "      <th>EDUC</th>\n",
       "      <th>EDCL</th>\n",
       "      <th>MARRIED</th>\n",
       "      <th>KIDS</th>\n",
       "      <th>...</th>\n",
       "      <th>NWCAT</th>\n",
       "      <th>INCCAT</th>\n",
       "      <th>ASSETCAT</th>\n",
       "      <th>NINCCAT</th>\n",
       "      <th>NINC2CAT</th>\n",
       "      <th>NWPCTLECAT</th>\n",
       "      <th>INCPCTLECAT</th>\n",
       "      <th>NINCPCTLECAT</th>\n",
       "      <th>INCQRTCAT</th>\n",
       "      <th>NINCQRTCAT</th>\n",
       "    </tr>\n",
       "  </thead>\n",
       "  <tbody>\n",
       "    <tr>\n",
       "      <th>80</th>\n",
       "      <td>17</td>\n",
       "      <td>171</td>\n",
       "      <td>7802.265717</td>\n",
       "      <td>1</td>\n",
       "      <td>62</td>\n",
       "      <td>4</td>\n",
       "      <td>12</td>\n",
       "      <td>4</td>\n",
       "      <td>1</td>\n",
       "      <td>0</td>\n",
       "      <td>...</td>\n",
       "      <td>3</td>\n",
       "      <td>5</td>\n",
       "      <td>5</td>\n",
       "      <td>5</td>\n",
       "      <td>2</td>\n",
       "      <td>7</td>\n",
       "      <td>9</td>\n",
       "      <td>9</td>\n",
       "      <td>4</td>\n",
       "      <td>4</td>\n",
       "    </tr>\n",
       "    <tr>\n",
       "      <th>81</th>\n",
       "      <td>17</td>\n",
       "      <td>172</td>\n",
       "      <td>8247.536301</td>\n",
       "      <td>1</td>\n",
       "      <td>62</td>\n",
       "      <td>4</td>\n",
       "      <td>12</td>\n",
       "      <td>4</td>\n",
       "      <td>1</td>\n",
       "      <td>0</td>\n",
       "      <td>...</td>\n",
       "      <td>3</td>\n",
       "      <td>5</td>\n",
       "      <td>5</td>\n",
       "      <td>5</td>\n",
       "      <td>2</td>\n",
       "      <td>7</td>\n",
       "      <td>9</td>\n",
       "      <td>9</td>\n",
       "      <td>4</td>\n",
       "      <td>4</td>\n",
       "    </tr>\n",
       "    <tr>\n",
       "      <th>82</th>\n",
       "      <td>17</td>\n",
       "      <td>173</td>\n",
       "      <td>8169.562719</td>\n",
       "      <td>1</td>\n",
       "      <td>62</td>\n",
       "      <td>4</td>\n",
       "      <td>12</td>\n",
       "      <td>4</td>\n",
       "      <td>1</td>\n",
       "      <td>0</td>\n",
       "      <td>...</td>\n",
       "      <td>3</td>\n",
       "      <td>5</td>\n",
       "      <td>5</td>\n",
       "      <td>5</td>\n",
       "      <td>2</td>\n",
       "      <td>7</td>\n",
       "      <td>9</td>\n",
       "      <td>9</td>\n",
       "      <td>4</td>\n",
       "      <td>4</td>\n",
       "    </tr>\n",
       "    <tr>\n",
       "      <th>83</th>\n",
       "      <td>17</td>\n",
       "      <td>174</td>\n",
       "      <td>8087.704517</td>\n",
       "      <td>1</td>\n",
       "      <td>62</td>\n",
       "      <td>4</td>\n",
       "      <td>12</td>\n",
       "      <td>4</td>\n",
       "      <td>1</td>\n",
       "      <td>0</td>\n",
       "      <td>...</td>\n",
       "      <td>3</td>\n",
       "      <td>5</td>\n",
       "      <td>5</td>\n",
       "      <td>5</td>\n",
       "      <td>2</td>\n",
       "      <td>7</td>\n",
       "      <td>9</td>\n",
       "      <td>9</td>\n",
       "      <td>4</td>\n",
       "      <td>4</td>\n",
       "    </tr>\n",
       "    <tr>\n",
       "      <th>84</th>\n",
       "      <td>17</td>\n",
       "      <td>175</td>\n",
       "      <td>8276.510048</td>\n",
       "      <td>1</td>\n",
       "      <td>62</td>\n",
       "      <td>4</td>\n",
       "      <td>12</td>\n",
       "      <td>4</td>\n",
       "      <td>1</td>\n",
       "      <td>0</td>\n",
       "      <td>...</td>\n",
       "      <td>3</td>\n",
       "      <td>5</td>\n",
       "      <td>5</td>\n",
       "      <td>5</td>\n",
       "      <td>2</td>\n",
       "      <td>7</td>\n",
       "      <td>9</td>\n",
       "      <td>9</td>\n",
       "      <td>4</td>\n",
       "      <td>4</td>\n",
       "    </tr>\n",
       "  </tbody>\n",
       "</table>\n",
       "<p>5 rows × 356 columns</p>\n",
       "</div>"
      ],
      "text/plain": [
       "    YY1   Y1          WGT  HHSEX  AGE  AGECL  EDUC  EDCL  MARRIED  KIDS  ...  \\\n",
       "80   17  171  7802.265717      1   62      4    12     4        1     0  ...   \n",
       "81   17  172  8247.536301      1   62      4    12     4        1     0  ...   \n",
       "82   17  173  8169.562719      1   62      4    12     4        1     0  ...   \n",
       "83   17  174  8087.704517      1   62      4    12     4        1     0  ...   \n",
       "84   17  175  8276.510048      1   62      4    12     4        1     0  ...   \n",
       "\n",
       "    NWCAT  INCCAT  ASSETCAT  NINCCAT  NINC2CAT  NWPCTLECAT  INCPCTLECAT  \\\n",
       "80      3       5         5        5         2           7            9   \n",
       "81      3       5         5        5         2           7            9   \n",
       "82      3       5         5        5         2           7            9   \n",
       "83      3       5         5        5         2           7            9   \n",
       "84      3       5         5        5         2           7            9   \n",
       "\n",
       "    NINCPCTLECAT  INCQRTCAT  NINCQRTCAT  \n",
       "80             9          4           4  \n",
       "81             9          4           4  \n",
       "82             9          4           4  \n",
       "83             9          4           4  \n",
       "84             9          4           4  \n",
       "\n",
       "[5 rows x 356 columns]"
      ]
     },
     "execution_count": 8,
     "metadata": {},
     "output_type": "execute_result"
    }
   ],
   "source": [
    "# Create mask for small business condition\n",
    "mask = (df[\"HBUS\"] == 1) & (df[\"INCOME\"] < 5e5)\n",
    "# Filter dataframe using the mask\n",
    "df_small_biz = df[mask]\n",
    "# Print shape of filtered dataframe\n",
    "print(\"df_small_biz shape:\", df_small_biz.shape)\n",
    "# Display first few rows of filtered dataframe\n",
    "df_small_biz.head()\n"
   ]
  },
  {
   "cell_type": "markdown",
   "id": "04c92a44",
   "metadata": {
    "papermill": {
     "duration": 0.019425,
     "end_time": "2024-04-06T05:26:37.410786",
     "exception": false,
     "start_time": "2024-04-06T05:26:37.391361",
     "status": "completed"
    },
    "tags": []
   },
   "source": [
    "We saw that credit-fearful respondents were relatively young. Is the same true for small business owners?\n",
    "\n",
    "Task 6.5.7: Create a histogram from the \"AGE\" column in df_small_biz with 10 bins. Be sure to label the x-axis \"Age\", the y-axis \"Frequency (count)\", and use the title \"Small Business Owners: Age Distribution\"."
   ]
  },
  {
   "cell_type": "code",
   "execution_count": 9,
   "id": "073fcea4",
   "metadata": {
    "execution": {
     "iopub.execute_input": "2024-04-06T05:26:37.450008Z",
     "iopub.status.busy": "2024-04-06T05:26:37.449536Z",
     "iopub.status.idle": "2024-04-06T05:26:37.815429Z",
     "shell.execute_reply": "2024-04-06T05:26:37.813573Z"
    },
    "papermill": {
     "duration": 0.388757,
     "end_time": "2024-04-06T05:26:37.818460",
     "exception": false,
     "start_time": "2024-04-06T05:26:37.429703",
     "status": "completed"
    },
    "tags": []
   },
   "outputs": [
    {
     "data": {
      "image/png": "[encoded data removed]",
      "text/plain": [
       "<Figure size 640x480 with 1 Axes>"
      ]
     },
     "metadata": {},
     "output_type": "display_data"
    }
   ],
   "source": [
    "# Plot histogram of \"AGE\"\n",
    "# Create a histogram from the \"AGE\" column with 10 bins\n",
    "plt.hist(df_small_biz[\"AGE\"], bins=10)\n",
    "\n",
    "# Add labels and title\n",
    "plt.xlabel(\"Age\")\n",
    "plt.ylabel(\"Frequency (count)\")\n",
    "plt.title(\"Small Business Owners: Age Distribution\");"
   ]
  },
  {
   "cell_type": "markdown",
   "id": "2ec5193e",
   "metadata": {
    "papermill": {
     "duration": 0.017795,
     "end_time": "2024-04-06T05:26:37.855648",
     "exception": false,
     "start_time": "2024-04-06T05:26:37.837853",
     "status": "completed"
    },
    "tags": []
   },
   "source": [
    "Let's take a look at the variance in the dataset.\n",
    "\n",
    "Task 6.5.8: Calculate the variance for all the features in df_small_biz, and create a Series top_ten_var with the 10 features with the largest variance."
   ]
  },
  {
   "cell_type": "code",
   "execution_count": 10,
   "id": "61cb1124",
   "metadata": {
    "execution": {
     "iopub.execute_input": "2024-04-06T05:26:37.983459Z",
     "iopub.status.busy": "2024-04-06T05:26:37.982886Z",
     "iopub.status.idle": "2024-04-06T05:26:38.013040Z",
     "shell.execute_reply": "2024-04-06T05:26:38.011568Z"
    },
    "papermill": {
     "duration": 0.055032,
     "end_time": "2024-04-06T05:26:38.016017",
     "exception": false,
     "start_time": "2024-04-06T05:26:37.960985",
     "status": "completed"
    },
    "tags": []
   },
   "outputs": [
    {
     "data": {
      "text/plain": [
       "ASSET       1.951155e+14\n",
       "NETWORTH    1.818870e+14\n",
       "NHNFIN      1.196403e+14\n",
       "NFIN        1.149004e+14\n",
       "KGTOTAL     7.454386e+13\n",
       "BUS         6.670909e+13\n",
       "ACTBUS      6.432674e+13\n",
       "KGBUS       6.053296e+13\n",
       "FIN         2.738802e+13\n",
       "EQUITY      1.336901e+13\n",
       "dtype: float64"
      ]
     },
     "execution_count": 10,
     "metadata": {},
     "output_type": "execute_result"
    }
   ],
   "source": [
    "df_small_biz_var = df_small_biz.var()\n",
    "# Calculate variance, get 10 largest features\n",
    "top_ten_var = df_small_biz_var.sort_values(ascending=False).head(10)\n",
    "top_ten_var"
   ]
  },
  {
   "cell_type": "markdown",
   "id": "b23dc1e5",
   "metadata": {
    "papermill": {
     "duration": 0.018325,
     "end_time": "2024-04-06T05:26:38.053451",
     "exception": false,
     "start_time": "2024-04-06T05:26:38.035126",
     "status": "completed"
    },
    "tags": []
   },
   "source": [
    "We'll need to remove some outliers to avoid problems in our calculations, so let's trim them out.\n",
    "\n",
    "Task 6.5.9: Calculate the trimmed variance for the features in df_small_biz. Your calculations should not include the top and bottom 10% of observations. Then create a Series top_ten_trim_var with the 10 features with the largest variance."
   ]
  },
  {
   "cell_type": "code",
   "execution_count": 11,
   "id": "3360ab59",
   "metadata": {
    "execution": {
     "iopub.execute_input": "2024-04-06T05:26:38.093378Z",
     "iopub.status.busy": "2024-04-06T05:26:38.092913Z",
     "iopub.status.idle": "2024-04-06T05:26:38.420256Z",
     "shell.execute_reply": "2024-04-06T05:26:38.418646Z"
    },
    "papermill": {
     "duration": 0.352875,
     "end_time": "2024-04-06T05:26:38.425423",
     "exception": false,
     "start_time": "2024-04-06T05:26:38.072548",
     "status": "completed"
    },
    "tags": []
   },
   "outputs": [
    {
     "data": {
      "text/plain": [
       "EQUITY      1.143799e+11\n",
       "KGBUS       1.906260e+11\n",
       "FIN         3.649923e+11\n",
       "KGTOTAL     5.790939e+11\n",
       "ACTBUS      6.173616e+11\n",
       "BUS         7.274641e+11\n",
       "NHNFIN      1.696410e+12\n",
       "NFIN        2.074082e+12\n",
       "NETWORTH    4.124869e+12\n",
       "ASSET       4.453857e+12\n",
       "dtype: float64"
      ]
     },
     "execution_count": 11,
     "metadata": {},
     "output_type": "execute_result"
    }
   ],
   "source": [
    "df_small_biz.apply(trimmed_var, limits=(0.1, 0.1)).sort_values().tail(10)"
   ]
  },
  {
   "cell_type": "code",
   "execution_count": 12,
   "id": "e6906a5b",
   "metadata": {
    "execution": {
     "iopub.execute_input": "2024-04-06T05:26:38.465579Z",
     "iopub.status.busy": "2024-04-06T05:26:38.465129Z",
     "iopub.status.idle": "2024-04-06T05:26:38.795128Z",
     "shell.execute_reply": "2024-04-06T05:26:38.793821Z"
    },
    "papermill": {
     "duration": 0.35304,
     "end_time": "2024-04-06T05:26:38.797809",
     "exception": false,
     "start_time": "2024-04-06T05:26:38.444769",
     "status": "completed"
    },
    "tags": []
   },
   "outputs": [
    {
     "data": {
      "text/plain": [
       "EQUITY      1.143799e+11\n",
       "KGBUS       1.906260e+11\n",
       "FIN         3.649923e+11\n",
       "KGTOTAL     5.790939e+11\n",
       "ACTBUS      6.173616e+11\n",
       "BUS         7.274641e+11\n",
       "NHNFIN      1.696410e+12\n",
       "NFIN        2.074082e+12\n",
       "NETWORTH    4.124869e+12\n",
       "ASSET       4.453857e+12\n",
       "dtype: float64"
      ]
     },
     "execution_count": 12,
     "metadata": {},
     "output_type": "execute_result"
    }
   ],
   "source": [
    "# Calculate trimmed variance\n",
    "top_ten_trim_var = df_small_biz.apply(trimmed_var, limits=(0.1, 0.1)).sort_values().tail(10)\n",
    "top_ten_trim_var"
   ]
  },
  {
   "cell_type": "markdown",
   "id": "5199c558",
   "metadata": {
    "papermill": {
     "duration": 0.0203,
     "end_time": "2024-04-06T05:26:38.838482",
     "exception": false,
     "start_time": "2024-04-06T05:26:38.818182",
     "status": "completed"
    },
    "tags": []
   },
   "source": [
    "Let's do a quick visualization of those values.\n",
    "\n",
    "Task 6.5.10: Use plotly express to create a horizontal bar chart of top_ten_trim_var. Be sure to label your x-axis \"Trimmed Variance [$]\", the y-axis \"Feature\", and use the title \"Small Business Owners: High Variance Features\"."
   ]
  },
  {
   "cell_type": "code",
   "execution_count": 13,
   "id": "850cc3eb",
   "metadata": {
    "execution": {
     "iopub.execute_input": "2024-04-06T05:26:38.879845Z",
     "iopub.status.busy": "2024-04-06T05:26:38.879161Z",
     "iopub.status.idle": "2024-04-06T05:26:41.263156Z",
     "shell.execute_reply": "2024-04-06T05:26:41.262064Z"
    },
    "papermill": {
     "duration": 2.408637,
     "end_time": "2024-04-06T05:26:41.265955",
     "exception": false,
     "start_time": "2024-04-06T05:26:38.857318",
     "status": "completed"
    },
    "tags": []
   },
   "outputs": [
    {
     "data": {
      "text/html": [
       "        <script type=\"text/javascript\">\n",
       "        window.PlotlyConfig = {MathJaxConfig: 'local'};\n",
       "        if (window.MathJax && window.MathJax.Hub && window.MathJax.Hub.Config) {window.MathJax.Hub.Config({SVG: {font: \"STIX-Web\"}});}\n",
       "        if (typeof require !== 'undefined') {\n",
       "        require.undef(\"plotly\");\n",
       "        requirejs.config({\n",
       "            paths: {\n",
       "                'plotly': ['https://cdn.plot.ly/plotly-2.27.0.min']\n",
       "            }\n",
       "        });\n",
       "        require(['plotly'], function(Plotly) {\n",
       "            window._Plotly = Plotly;\n",
       "        });\n",
       "        }\n",
       "        </script>\n",
       "        "
      ]
     },
     "metadata": {},
     "output_type": "display_data"
    },
    {
     "data": {
      "text/html": [
       "<div>                            <div id=\"dd5b9627-1f4d-4910-80ce-ea17a5e33bcb\" class=\"plotly-graph-div\" style=\"height:525px; width:100%;\"></div>            <script type=\"text/javascript\">                require([\"plotly\"], function(Plotly) {                    window.PLOTLYENV=window.PLOTLYENV || {};                                    if (document.getElementById(\"dd5b9627-1f4d-4910-80ce-ea17a5e33bcb\")) {                    Plotly.newPlot(                        \"dd5b9627-1f4d-4910-80ce-ea17a5e33bcb\",                        [{\"alignmentgroup\":\"True\",\"hovertemplate\":\"x=%{x}\\u003cbr\\u003ey=%{y}\\u003cextra\\u003e\\u003c\\u002fextra\\u003e\",\"legendgroup\":\"\",\"marker\":{\"color\":\"#636efa\",\"pattern\":{\"shape\":\"\"}},\"name\":\"\",\"offsetgroup\":\"\",\"orientation\":\"h\",\"showlegend\":false,\"textposition\":\"auto\",\"x\":[114379924993.52385,190626025827.18762,364992294499.9502,579093938747.9159,617361573538.3768,727464073127.6984,1696410221333.698,2074082350505.5603,4124868536816.7017,4453857052137.417],\"xaxis\":\"x\",\"y\":[\"EQUITY\",\"KGBUS\",\"FIN\",\"KGTOTAL\",\"ACTBUS\",\"BUS\",\"NHNFIN\",\"NFIN\",\"NETWORTH\",\"ASSET\"],\"yaxis\":\"y\",\"type\":\"bar\"}],                        {\"template\":{\"data\":{\"histogram2dcontour\":[{\"type\":\"histogram2dcontour\",\"colorbar\":{\"outlinewidth\":0,\"ticks\":\"\"},\"colorscale\":[[0.0,\"#0d0887\"],[0.1111111111111111,\"#46039f\"],[0.2222222222222222,\"#7201a8\"],[0.3333333333333333,\"#9c179e\"],[0.4444444444444444,\"#bd3786\"],[0.5555555555555556,\"#d8576b\"],[0.6666666666666666,\"#ed7953\"],[0.7777777777777778,\"#fb9f3a\"],[0.8888888888888888,\"#fdca26\"],[1.0,\"#f0f921\"]]}],\"choropleth\":[{\"type\":\"choropleth\",\"colorbar\":{\"outlinewidth\":0,\"ticks\":\"\"}}],\"histogram2d\":[{\"type\":\"histogram2d\",\"colorbar\":{\"outlinewidth\":0,\"ticks\":\"\"},\"colorscale\":[[0.0,\"#0d0887\"],[0.1111111111111111,\"#46039f\"],[0.2222222222222222,\"#7201a8\"],[0.3333333333333333,\"#9c179e\"],[0.4444444444444444,\"#bd3786\"],[0.5555555555555556,\"#d8576b\"],[0.6666666666666666,\"#ed7953\"],[0.7777777777777778,\"#fb9f3a\"],[0.8888888888888888,\"#fdca26\"],[1.0,\"#f0f921\"]]}],\"heatmap\":[{\"type\":\"heatmap\",\"colorbar\":{\"outlinewidth\":0,\"ticks\":\"\"},\"colorscale\":[[0.0,\"#0d0887\"],[0.1111111111111111,\"#46039f\"],[0.2222222222222222,\"#7201a8\"],[0.3333333333333333,\"#9c179e\"],[0.4444444444444444,\"#bd3786\"],[0.5555555555555556,\"#d8576b\"],[0.6666666666666666,\"#ed7953\"],[0.7777777777777778,\"#fb9f3a\"],[0.8888888888888888,\"#fdca26\"],[1.0,\"#f0f921\"]]}],\"heatmapgl\":[{\"type\":\"heatmapgl\",\"colorbar\":{\"outlinewidth\":0,\"ticks\":\"\"},\"colorscale\":[[0.0,\"#0d0887\"],[0.1111111111111111,\"#46039f\"],[0.2222222222222222,\"#7201a8\"],[0.3333333333333333,\"#9c179e\"],[0.4444444444444444,\"#bd3786\"],[0.5555555555555556,\"#d8576b\"],[0.6666666666666666,\"#ed7953\"],[0.7777777777777778,\"#fb9f3a\"],[0.8888888888888888,\"#fdca26\"],[1.0,\"#f0f921\"]]}],\"contourcarpet\":[{\"type\":\"contourcarpet\",\"colorbar\":{\"outlinewidth\":0,\"ticks\":\"\"}}],\"contour\":[{\"type\":\"contour\",\"colorbar\":{\"outlinewidth\":0,\"ticks\":\"\"},\"colorscale\":[[0.0,\"#0d0887\"],[0.1111111111111111,\"#46039f\"],[0.2222222222222222,\"#7201a8\"],[0.3333333333333333,\"#9c179e\"],[0.4444444444444444,\"#bd3786\"],[0.5555555555555556,\"#d8576b\"],[0.6666666666666666,\"#ed7953\"],[0.7777777777777778,\"#fb9f3a\"],[0.8888888888888888,\"#fdca26\"],[1.0,\"#f0f921\"]]}],\"surface\":[{\"type\":\"surface\",\"colorbar\":{\"outlinewidth\":0,\"ticks\":\"\"},\"colorscale\":[[0.0,\"#0d0887\"],[0.1111111111111111,\"#46039f\"],[0.2222222222222222,\"#7201a8\"],[0.3333333333333333,\"#9c179e\"],[0.4444444444444444,\"#bd3786\"],[0.5555555555555556,\"#d8576b\"],[0.6666666666666666,\"#ed7953\"],[0.7777777777777778,\"#fb9f3a\"],[0.8888888888888888,\"#fdca26\"],[1.0,\"#f0f921\"]]}],\"mesh3d\":[{\"type\":\"mesh3d\",\"colorbar\":{\"outlinewidth\":0,\"ticks\":\"\"}}],\"scatter\":[{\"fillpattern\":{\"fillmode\":\"overlay\",\"size\":10,\"solidity\":0.2},\"type\":\"scatter\"}],\"parcoords\":[{\"type\":\"parcoords\",\"line\":{\"colorbar\":{\"outlinewidth\":0,\"ticks\":\"\"}}}],\"scatterpolargl\":[{\"type\":\"scatterpolargl\",\"marker\":{\"colorbar\":{\"outlinewidth\":0,\"ticks\":\"\"}}}],\"bar\":[{\"error_x\":{\"color\":\"#2a3f5f\"},\"error_y\":{\"color\":\"#2a3f5f\"},\"marker\":{\"line\":{\"color\":\"#E5ECF6\",\"width\":0.5},\"pattern\":{\"fillmode\":\"overlay\",\"size\":10,\"solidity\":0.2}},\"type\":\"bar\"}],\"scattergeo\":[{\"type\":\"scattergeo\",\"marker\":{\"colorbar\":{\"outlinewidth\":0,\"ticks\":\"\"}}}],\"scatterpolar\":[{\"type\":\"scatterpolar\",\"marker\":{\"colorbar\":{\"outlinewidth\":0,\"ticks\":\"\"}}}],\"histogram\":[{\"marker\":{\"pattern\":{\"fillmode\":\"overlay\",\"size\":10,\"solidity\":0.2}},\"type\":\"histogram\"}],\"scattergl\":[{\"type\":\"scattergl\",\"marker\":{\"colorbar\":{\"outlinewidth\":0,\"ticks\":\"\"}}}],\"scatter3d\":[{\"type\":\"scatter3d\",\"line\":{\"colorbar\":{\"outlinewidth\":0,\"ticks\":\"\"}},\"marker\":{\"colorbar\":{\"outlinewidth\":0,\"ticks\":\"\"}}}],\"scattermapbox\":[{\"type\":\"scattermapbox\",\"marker\":{\"colorbar\":{\"outlinewidth\":0,\"ticks\":\"\"}}}],\"scatterternary\":[{\"type\":\"scatterternary\",\"marker\":{\"colorbar\":{\"outlinewidth\":0,\"ticks\":\"\"}}}],\"scattercarpet\":[{\"type\":\"scattercarpet\",\"marker\":{\"colorbar\":{\"outlinewidth\":0,\"ticks\":\"\"}}}],\"carpet\":[{\"aaxis\":{\"endlinecolor\":\"#2a3f5f\",\"gridcolor\":\"white\",\"linecolor\":\"white\",\"minorgridcolor\":\"white\",\"startlinecolor\":\"#2a3f5f\"},\"baxis\":{\"endlinecolor\":\"#2a3f5f\",\"gridcolor\":\"white\",\"linecolor\":\"white\",\"minorgridcolor\":\"white\",\"startlinecolor\":\"#2a3f5f\"},\"type\":\"carpet\"}],\"table\":[{\"cells\":{\"fill\":{\"color\":\"#EBF0F8\"},\"line\":{\"color\":\"white\"}},\"header\":{\"fill\":{\"color\":\"#C8D4E3\"},\"line\":{\"color\":\"white\"}},\"type\":\"table\"}],\"barpolar\":[{\"marker\":{\"line\":{\"color\":\"#E5ECF6\",\"width\":0.5},\"pattern\":{\"fillmode\":\"overlay\",\"size\":10,\"solidity\":0.2}},\"type\":\"barpolar\"}],\"pie\":[{\"automargin\":true,\"type\":\"pie\"}]},\"layout\":{\"autotypenumbers\":\"strict\",\"colorway\":[\"#636efa\",\"#EF553B\",\"#00cc96\",\"#ab63fa\",\"#FFA15A\",\"#19d3f3\",\"#FF6692\",\"#B6E880\",\"#FF97FF\",\"#FECB52\"],\"font\":{\"color\":\"#2a3f5f\"},\"hovermode\":\"closest\",\"hoverlabel\":{\"align\":\"left\"},\"paper_bgcolor\":\"white\",\"plot_bgcolor\":\"#E5ECF6\",\"polar\":{\"bgcolor\":\"#E5ECF6\",\"angularaxis\":{\"gridcolor\":\"white\",\"linecolor\":\"white\",\"ticks\":\"\"},\"radialaxis\":{\"gridcolor\":\"white\",\"linecolor\":\"white\",\"ticks\":\"\"}},\"ternary\":{\"bgcolor\":\"#E5ECF6\",\"aaxis\":{\"gridcolor\":\"white\",\"linecolor\":\"white\",\"ticks\":\"\"},\"baxis\":{\"gridcolor\":\"white\",\"linecolor\":\"white\",\"ticks\":\"\"},\"caxis\":{\"gridcolor\":\"white\",\"linecolor\":\"white\",\"ticks\":\"\"}},\"coloraxis\":{\"colorbar\":{\"outlinewidth\":0,\"ticks\":\"\"}},\"colorscale\":{\"sequential\":[[0.0,\"#0d0887\"],[0.1111111111111111,\"#46039f\"],[0.2222222222222222,\"#7201a8\"],[0.3333333333333333,\"#9c179e\"],[0.4444444444444444,\"#bd3786\"],[0.5555555555555556,\"#d8576b\"],[0.6666666666666666,\"#ed7953\"],[0.7777777777777778,\"#fb9f3a\"],[0.8888888888888888,\"#fdca26\"],[1.0,\"#f0f921\"]],\"sequentialminus\":[[0.0,\"#0d0887\"],[0.1111111111111111,\"#46039f\"],[0.2222222222222222,\"#7201a8\"],[0.3333333333333333,\"#9c179e\"],[0.4444444444444444,\"#bd3786\"],[0.5555555555555556,\"#d8576b\"],[0.6666666666666666,\"#ed7953\"],[0.7777777777777778,\"#fb9f3a\"],[0.8888888888888888,\"#fdca26\"],[1.0,\"#f0f921\"]],\"diverging\":[[0,\"#8e0152\"],[0.1,\"#c51b7d\"],[0.2,\"#de77ae\"],[0.3,\"#f1b6da\"],[0.4,\"#fde0ef\"],[0.5,\"#f7f7f7\"],[0.6,\"#e6f5d0\"],[0.7,\"#b8e186\"],[0.8,\"#7fbc41\"],[0.9,\"#4d9221\"],[1,\"#276419\"]]},\"xaxis\":{\"gridcolor\":\"white\",\"linecolor\":\"white\",\"ticks\":\"\",\"title\":{\"standoff\":15},\"zerolinecolor\":\"white\",\"automargin\":true,\"zerolinewidth\":2},\"yaxis\":{\"gridcolor\":\"white\",\"linecolor\":\"white\",\"ticks\":\"\",\"title\":{\"standoff\":15},\"zerolinecolor\":\"white\",\"automargin\":true,\"zerolinewidth\":2},\"scene\":{\"xaxis\":{\"backgroundcolor\":\"#E5ECF6\",\"gridcolor\":\"white\",\"linecolor\":\"white\",\"showbackground\":true,\"ticks\":\"\",\"zerolinecolor\":\"white\",\"gridwidth\":2},\"yaxis\":{\"backgroundcolor\":\"#E5ECF6\",\"gridcolor\":\"white\",\"linecolor\":\"white\",\"showbackground\":true,\"ticks\":\"\",\"zerolinecolor\":\"white\",\"gridwidth\":2},\"zaxis\":{\"backgroundcolor\":\"#E5ECF6\",\"gridcolor\":\"white\",\"linecolor\":\"white\",\"showbackground\":true,\"ticks\":\"\",\"zerolinecolor\":\"white\",\"gridwidth\":2}},\"shapedefaults\":{\"line\":{\"color\":\"#2a3f5f\"}},\"annotationdefaults\":{\"arrowcolor\":\"#2a3f5f\",\"arrowhead\":0,\"arrowwidth\":1},\"geo\":{\"bgcolor\":\"white\",\"landcolor\":\"#E5ECF6\",\"subunitcolor\":\"white\",\"showland\":true,\"showlakes\":true,\"lakecolor\":\"white\"},\"title\":{\"x\":0.05},\"mapbox\":{\"style\":\"light\"}}},\"xaxis\":{\"anchor\":\"y\",\"domain\":[0.0,1.0],\"title\":{\"text\":\"Trimmed Variance [$]\"}},\"yaxis\":{\"anchor\":\"x\",\"domain\":[0.0,1.0],\"title\":{\"text\":\"Feature\"}},\"legend\":{\"tracegroupgap\":0},\"title\":{\"text\":\"Small Business Owners\"},\"barmode\":\"relative\"},                        {\"responsive\": true}                    ).then(function(){\n",
       "                            \n",
       "var gd = document.getElementById('dd5b9627-1f4d-4910-80ce-ea17a5e33bcb');\n",
       "var x = new MutationObserver(function (mutations, observer) {{\n",
       "        var display = window.getComputedStyle(gd).display;\n",
       "        if (!display || display === 'none') {{\n",
       "            console.log([gd, 'removed!']);\n",
       "            Plotly.purge(gd);\n",
       "            observer.disconnect();\n",
       "        }}\n",
       "}});\n",
       "\n",
       "// Listen for the removal of the full notebook cells\n",
       "var notebookContainer = gd.closest('#notebook-container');\n",
       "if (notebookContainer) {{\n",
       "    x.observe(notebookContainer, {childList: true});\n",
       "}}\n",
       "\n",
       "// Listen for the clearing of the current output cell\n",
       "var outputEl = gd.closest('.output');\n",
       "if (outputEl) {{\n",
       "    x.observe(outputEl, {childList: true});\n",
       "}}\n",
       "\n",
       "                        })                };                });            </script>        </div>"
      ]
     },
     "metadata": {},
     "output_type": "display_data"
    }
   ],
   "source": [
    "# Create horizontal bar chart of `top_ten_trim_var`\n",
    "fig = px.bar(\n",
    "    x=top_ten_trim_var,\n",
    "    y=top_ten_trim_var.index,\n",
    "    title=\"Small Business Owners\"\n",
    ")\n",
    "fig.update_layout(xaxis_title=\"Trimmed Variance [$]\", yaxis_title=\"Feature\")\n",
    "\n",
    "fig.show();"
   ]
  },
  {
   "cell_type": "markdown",
   "id": "72c4b5bf",
   "metadata": {
    "papermill": {
     "duration": 0.019074,
     "end_time": "2024-04-06T05:26:41.306150",
     "exception": false,
     "start_time": "2024-04-06T05:26:41.287076",
     "status": "completed"
    },
    "tags": []
   },
   "source": [
    "Based on this graph, which five features have the highest variance?\n",
    "\n",
    "Task 6.5.11: Generate a list high_var_cols with the column names of the five features with the highest trimmed variance."
   ]
  },
  {
   "cell_type": "code",
   "execution_count": 14,
   "id": "b55f14e7",
   "metadata": {
    "execution": {
     "iopub.execute_input": "2024-04-06T05:26:41.349302Z",
     "iopub.status.busy": "2024-04-06T05:26:41.348357Z",
     "iopub.status.idle": "2024-04-06T05:26:41.357671Z",
     "shell.execute_reply": "2024-04-06T05:26:41.356401Z"
    },
    "papermill": {
     "duration": 0.034885,
     "end_time": "2024-04-06T05:26:41.360959",
     "exception": false,
     "start_time": "2024-04-06T05:26:41.326074",
     "status": "completed"
    },
    "tags": []
   },
   "outputs": [
    {
     "data": {
      "text/plain": [
       "['BUS', 'NHNFIN', 'NFIN', 'NETWORTH', 'ASSET']"
      ]
     },
     "execution_count": 14,
     "metadata": {},
     "output_type": "execute_result"
    }
   ],
   "source": [
    "high_var_cols = top_ten_trim_var.tail(5).index.tolist()\n",
    "high_var_cols"
   ]
  },
  {
   "cell_type": "markdown",
   "id": "21ed4e87",
   "metadata": {
    "papermill": {
     "duration": 0.01882,
     "end_time": "2024-04-06T05:26:41.399458",
     "exception": false,
     "start_time": "2024-04-06T05:26:41.380638",
     "status": "completed"
    },
    "tags": []
   },
   "source": [
    "`c. Split`"
   ]
  },
  {
   "cell_type": "markdown",
   "id": "5ee070b8",
   "metadata": {
    "papermill": {
     "duration": 0.01998,
     "end_time": "2024-04-06T05:26:41.438729",
     "exception": false,
     "start_time": "2024-04-06T05:26:41.418749",
     "status": "completed"
    },
    "tags": []
   },
   "source": [
    "Let's turn that list into a feature matrix.\n",
    "\n",
    "Task 6.5.12: Create the feature matrix X from df_small_biz. It should contain the five columns in high_var_cols."
   ]
  },
  {
   "cell_type": "code",
   "execution_count": 15,
   "id": "932fdca7",
   "metadata": {
    "execution": {
     "iopub.execute_input": "2024-04-06T05:26:41.480898Z",
     "iopub.status.busy": "2024-04-06T05:26:41.479975Z",
     "iopub.status.idle": "2024-04-06T05:26:41.498587Z",
     "shell.execute_reply": "2024-04-06T05:26:41.497403Z"
    },
    "papermill": {
     "duration": 0.042919,
     "end_time": "2024-04-06T05:26:41.501613",
     "exception": false,
     "start_time": "2024-04-06T05:26:41.458694",
     "status": "completed"
    },
    "tags": []
   },
   "outputs": [
    {
     "name": "stdout",
     "output_type": "stream",
     "text": [
      "X shape: (4161, 5)\n"
     ]
    },
    {
     "data": {
      "text/html": [
       "<div>\n",
       "<style scoped>\n",
       "    .dataframe tbody tr th:only-of-type {\n",
       "        vertical-align: middle;\n",
       "    }\n",
       "\n",
       "    .dataframe tbody tr th {\n",
       "        vertical-align: top;\n",
       "    }\n",
       "\n",
       "    .dataframe thead th {\n",
       "        text-align: right;\n",
       "    }\n",
       "</style>\n",
       "<table border=\"1\" class=\"dataframe\">\n",
       "  <thead>\n",
       "    <tr style=\"text-align: right;\">\n",
       "      <th></th>\n",
       "      <th>BUS</th>\n",
       "      <th>NHNFIN</th>\n",
       "      <th>NFIN</th>\n",
       "      <th>NETWORTH</th>\n",
       "      <th>ASSET</th>\n",
       "    </tr>\n",
       "  </thead>\n",
       "  <tbody>\n",
       "    <tr>\n",
       "      <th>80</th>\n",
       "      <td>0.0</td>\n",
       "      <td>301001.55074</td>\n",
       "      <td>839264.63576</td>\n",
       "      <td>275427.17881</td>\n",
       "      <td>939651.81457</td>\n",
       "    </tr>\n",
       "    <tr>\n",
       "      <th>81</th>\n",
       "      <td>0.0</td>\n",
       "      <td>299657.79382</td>\n",
       "      <td>838105.43046</td>\n",
       "      <td>274267.97351</td>\n",
       "      <td>938492.60927</td>\n",
       "    </tr>\n",
       "    <tr>\n",
       "      <th>82</th>\n",
       "      <td>0.0</td>\n",
       "      <td>301001.55074</td>\n",
       "      <td>839264.63576</td>\n",
       "      <td>275427.17881</td>\n",
       "      <td>939651.81457</td>\n",
       "    </tr>\n",
       "    <tr>\n",
       "      <th>83</th>\n",
       "      <td>0.0</td>\n",
       "      <td>298314.03689</td>\n",
       "      <td>836946.22517</td>\n",
       "      <td>271949.56291</td>\n",
       "      <td>937333.40397</td>\n",
       "    </tr>\n",
       "    <tr>\n",
       "      <th>84</th>\n",
       "      <td>0.0</td>\n",
       "      <td>299657.79382</td>\n",
       "      <td>838105.43046</td>\n",
       "      <td>275427.17881</td>\n",
       "      <td>938492.60927</td>\n",
       "    </tr>\n",
       "  </tbody>\n",
       "</table>\n",
       "</div>"
      ],
      "text/plain": [
       "    BUS        NHNFIN          NFIN      NETWORTH         ASSET\n",
       "80  0.0  301001.55074  839264.63576  275427.17881  939651.81457\n",
       "81  0.0  299657.79382  838105.43046  274267.97351  938492.60927\n",
       "82  0.0  301001.55074  839264.63576  275427.17881  939651.81457\n",
       "83  0.0  298314.03689  836946.22517  271949.56291  937333.40397\n",
       "84  0.0  299657.79382  838105.43046  275427.17881  938492.60927"
      ]
     },
     "execution_count": 15,
     "metadata": {},
     "output_type": "execute_result"
    }
   ],
   "source": [
    "X = df_small_biz[high_var_cols]\n",
    "print(\"X shape:\", X.shape)\n",
    "X.head()"
   ]
  },
  {
   "cell_type": "markdown",
   "id": "9e7eff09",
   "metadata": {
    "papermill": {
     "duration": 0.019884,
     "end_time": "2024-04-06T05:26:41.541720",
     "exception": false,
     "start_time": "2024-04-06T05:26:41.521836",
     "status": "completed"
    },
    "tags": []
   },
   "source": [
    "`2. Build Model`"
   ]
  },
  {
   "cell_type": "markdown",
   "id": "a2eafe05",
   "metadata": {
    "papermill": {
     "duration": 0.019301,
     "end_time": "2024-04-06T05:26:41.581597",
     "exception": false,
     "start_time": "2024-04-06T05:26:41.562296",
     "status": "completed"
    },
    "tags": []
   },
   "source": [
    "Now that our data is in order, let's get to work on the model."
   ]
  },
  {
   "cell_type": "markdown",
   "id": "eeda514b",
   "metadata": {
    "papermill": {
     "duration": 0.01916,
     "end_time": "2024-04-06T05:26:41.620379",
     "exception": false,
     "start_time": "2024-04-06T05:26:41.601219",
     "status": "completed"
    },
    "tags": []
   },
   "source": [
    "`a. Iterate`"
   ]
  },
  {
   "cell_type": "markdown",
   "id": "c82e957d",
   "metadata": {
    "papermill": {
     "duration": 0.02166,
     "end_time": "2024-04-06T05:26:41.662134",
     "exception": false,
     "start_time": "2024-04-06T05:26:41.640474",
     "status": "completed"
    },
    "tags": []
   },
   "source": [
    "Task 6.5.13: Use a for loop to build and train a K-Means model where n_clusters ranges from 2 to 12 (inclusive). Your model should include a StandardScaler. Each time a model is trained, calculate the inertia and add it to the list inertia_errors, then calculate the silhouette score and add it to the list silhouette_scores."
   ]
  },
  {
   "cell_type": "code",
   "execution_count": 16,
   "id": "4c1a2d79",
   "metadata": {
    "execution": {
     "iopub.execute_input": "2024-04-06T05:26:41.705970Z",
     "iopub.status.busy": "2024-04-06T05:26:41.705383Z",
     "iopub.status.idle": "2024-04-06T05:27:00.259507Z",
     "shell.execute_reply": "2024-04-06T05:27:00.258083Z"
    },
    "papermill": {
     "duration": 18.579445,
     "end_time": "2024-04-06T05:27:00.262292",
     "exception": false,
     "start_time": "2024-04-06T05:26:41.682847",
     "status": "completed"
    },
    "tags": []
   },
   "outputs": [
    {
     "name": "stderr",
     "output_type": "stream",
     "text": [
      "/opt/conda/lib/python3.10/site-packages/sklearn/cluster/_kmeans.py:870: FutureWarning:\n",
      "\n",
      "The default value of `n_init` will change from 10 to 'auto' in 1.4. Set the value of `n_init` explicitly to suppress the warning\n",
      "\n",
      "/opt/conda/lib/python3.10/site-packages/sklearn/cluster/_kmeans.py:870: FutureWarning:\n",
      "\n",
      "The default value of `n_init` will change from 10 to 'auto' in 1.4. Set the value of `n_init` explicitly to suppress the warning\n",
      "\n",
      "/opt/conda/lib/python3.10/site-packages/sklearn/cluster/_kmeans.py:870: FutureWarning:\n",
      "\n",
      "The default value of `n_init` will change from 10 to 'auto' in 1.4. Set the value of `n_init` explicitly to suppress the warning\n",
      "\n",
      "/opt/conda/lib/python3.10/site-packages/sklearn/cluster/_kmeans.py:870: FutureWarning:\n",
      "\n",
      "The default value of `n_init` will change from 10 to 'auto' in 1.4. Set the value of `n_init` explicitly to suppress the warning\n",
      "\n",
      "/opt/conda/lib/python3.10/site-packages/sklearn/cluster/_kmeans.py:870: FutureWarning:\n",
      "\n",
      "The default value of `n_init` will change from 10 to 'auto' in 1.4. Set the value of `n_init` explicitly to suppress the warning\n",
      "\n",
      "/opt/conda/lib/python3.10/site-packages/sklearn/cluster/_kmeans.py:870: FutureWarning:\n",
      "\n",
      "The default value of `n_init` will change from 10 to 'auto' in 1.4. Set the value of `n_init` explicitly to suppress the warning\n",
      "\n",
      "/opt/conda/lib/python3.10/site-packages/sklearn/cluster/_kmeans.py:870: FutureWarning:\n",
      "\n",
      "The default value of `n_init` will change from 10 to 'auto' in 1.4. Set the value of `n_init` explicitly to suppress the warning\n",
      "\n",
      "/opt/conda/lib/python3.10/site-packages/sklearn/cluster/_kmeans.py:870: FutureWarning:\n",
      "\n",
      "The default value of `n_init` will change from 10 to 'auto' in 1.4. Set the value of `n_init` explicitly to suppress the warning\n",
      "\n",
      "/opt/conda/lib/python3.10/site-packages/sklearn/cluster/_kmeans.py:870: FutureWarning:\n",
      "\n",
      "The default value of `n_init` will change from 10 to 'auto' in 1.4. Set the value of `n_init` explicitly to suppress the warning\n",
      "\n",
      "/opt/conda/lib/python3.10/site-packages/sklearn/cluster/_kmeans.py:870: FutureWarning:\n",
      "\n",
      "The default value of `n_init` will change from 10 to 'auto' in 1.4. Set the value of `n_init` explicitly to suppress the warning\n",
      "\n",
      "/opt/conda/lib/python3.10/site-packages/sklearn/cluster/_kmeans.py:870: FutureWarning:\n",
      "\n",
      "The default value of `n_init` will change from 10 to 'auto' in 1.4. Set the value of `n_init` explicitly to suppress the warning\n",
      "\n"
     ]
    },
    {
     "name": "stdout",
     "output_type": "stream",
     "text": [
      "Inertia: [5393.638332507364, 2889.448146668965, 2073.9649395341435, 1542.87392945292, 1223.2186508165855, 934.7096152614499, 819.0929691452413, 705.5283704185945, 617.9952336573932, 545.8938880149988, 476.04735031691143]\n",
      "\n",
      "Silhouette Scores: [0.9624467162626703, 0.8536802348679524, 0.7567361946267611]\n"
     ]
    }
   ],
   "source": [
    "n_clusters = range(2, 13)\n",
    "inertia_errors = []\n",
    "silhouette_scores = []\n",
    "\n",
    "# Add `for` loop to train model and calculate inertia, silhouette score.\n",
    "for k in n_clusters:\n",
    "    # Build model\n",
    "    model = make_pipeline(\n",
    "        StandardScaler(),\n",
    "        KMeans(n_clusters=k, random_state=42),\n",
    "    )\n",
    "    \n",
    "    # Train model\n",
    "    model.fit(X)\n",
    "    \n",
    "    # Calculate intertia\n",
    "    inertia_errors.append(model.named_steps[\"kmeans\"].inertia_)\n",
    "    \n",
    "    # Calculate silhouette score\n",
    "    silhouette_scores.append(\n",
    "        silhouette_score(X, model.named_steps[\"kmeans\"].labels_)\n",
    "    )\n",
    "\n",
    "print(\"Inertia:\", inertia_errors[:11])\n",
    "print()\n",
    "print(\"Silhouette Scores:\", silhouette_scores[:3])"
   ]
  },
  {
   "cell_type": "markdown",
   "id": "9df84953",
   "metadata": {
    "papermill": {
     "duration": 0.024563,
     "end_time": "2024-04-06T05:27:00.308695",
     "exception": false,
     "start_time": "2024-04-06T05:27:00.284132",
     "status": "completed"
    },
    "tags": []
   },
   "source": [
    "Just like we did in the previous module, we can start to figure out how many clusters we'll need with a line plot based on Inertia.\n",
    "\n",
    "Task 6.5.14: Use plotly express to create a line plot that shows the values of inertia_errors as a function of n_clusters. Be sure to label your x-axis \"Number of Clusters\", your y-axis \"Inertia\", and use the title \"K-Means Model: Inertia vs Number of Clusters\"."
   ]
  },
  {
   "cell_type": "code",
   "execution_count": 17,
   "id": "dbcf1450",
   "metadata": {
    "execution": {
     "iopub.execute_input": "2024-04-06T05:27:00.354638Z",
     "iopub.status.busy": "2024-04-06T05:27:00.354129Z",
     "iopub.status.idle": "2024-04-06T05:27:00.483832Z",
     "shell.execute_reply": "2024-04-06T05:27:00.482365Z"
    },
    "papermill": {
     "duration": 0.156006,
     "end_time": "2024-04-06T05:27:00.486763",
     "exception": false,
     "start_time": "2024-04-06T05:27:00.330757",
     "status": "completed"
    },
    "tags": []
   },
   "outputs": [
    {
     "data": {
      "text/html": [
       "<div>                            <div id=\"30dd97aa-cf70-4727-a779-3e648eb0548c\" class=\"plotly-graph-div\" style=\"height:525px; width:100%;\"></div>            <script type=\"text/javascript\">                require([\"plotly\"], function(Plotly) {                    window.PLOTLYENV=window.PLOTLYENV || {};                                    if (document.getElementById(\"30dd97aa-cf70-4727-a779-3e648eb0548c\")) {                    Plotly.newPlot(                        \"30dd97aa-cf70-4727-a779-3e648eb0548c\",                        [{\"hovertemplate\":\"x=%{x}\\u003cbr\\u003ey=%{y}\\u003cextra\\u003e\\u003c\\u002fextra\\u003e\",\"legendgroup\":\"\",\"line\":{\"color\":\"#636efa\",\"dash\":\"solid\"},\"marker\":{\"symbol\":\"circle\"},\"mode\":\"lines\",\"name\":\"\",\"orientation\":\"v\",\"showlegend\":false,\"x\":[2,3,4,5,6,7,8,9,10,11,12],\"xaxis\":\"x\",\"y\":[5393.638332507364,2889.448146668965,2073.9649395341435,1542.87392945292,1223.2186508165855,934.7096152614499,819.0929691452413,705.5283704185945,617.9952336573932,545.8938880149988,476.04735031691143],\"yaxis\":\"y\",\"type\":\"scatter\"}],                        {\"template\":{\"data\":{\"histogram2dcontour\":[{\"type\":\"histogram2dcontour\",\"colorbar\":{\"outlinewidth\":0,\"ticks\":\"\"},\"colorscale\":[[0.0,\"#0d0887\"],[0.1111111111111111,\"#46039f\"],[0.2222222222222222,\"#7201a8\"],[0.3333333333333333,\"#9c179e\"],[0.4444444444444444,\"#bd3786\"],[0.5555555555555556,\"#d8576b\"],[0.6666666666666666,\"#ed7953\"],[0.7777777777777778,\"#fb9f3a\"],[0.8888888888888888,\"#fdca26\"],[1.0,\"#f0f921\"]]}],\"choropleth\":[{\"type\":\"choropleth\",\"colorbar\":{\"outlinewidth\":0,\"ticks\":\"\"}}],\"histogram2d\":[{\"type\":\"histogram2d\",\"colorbar\":{\"outlinewidth\":0,\"ticks\":\"\"},\"colorscale\":[[0.0,\"#0d0887\"],[0.1111111111111111,\"#46039f\"],[0.2222222222222222,\"#7201a8\"],[0.3333333333333333,\"#9c179e\"],[0.4444444444444444,\"#bd3786\"],[0.5555555555555556,\"#d8576b\"],[0.6666666666666666,\"#ed7953\"],[0.7777777777777778,\"#fb9f3a\"],[0.8888888888888888,\"#fdca26\"],[1.0,\"#f0f921\"]]}],\"heatmap\":[{\"type\":\"heatmap\",\"colorbar\":{\"outlinewidth\":0,\"ticks\":\"\"},\"colorscale\":[[0.0,\"#0d0887\"],[0.1111111111111111,\"#46039f\"],[0.2222222222222222,\"#7201a8\"],[0.3333333333333333,\"#9c179e\"],[0.4444444444444444,\"#bd3786\"],[0.5555555555555556,\"#d8576b\"],[0.6666666666666666,\"#ed7953\"],[0.7777777777777778,\"#fb9f3a\"],[0.8888888888888888,\"#fdca26\"],[1.0,\"#f0f921\"]]}],\"heatmapgl\":[{\"type\":\"heatmapgl\",\"colorbar\":{\"outlinewidth\":0,\"ticks\":\"\"},\"colorscale\":[[0.0,\"#0d0887\"],[0.1111111111111111,\"#46039f\"],[0.2222222222222222,\"#7201a8\"],[0.3333333333333333,\"#9c179e\"],[0.4444444444444444,\"#bd3786\"],[0.5555555555555556,\"#d8576b\"],[0.6666666666666666,\"#ed7953\"],[0.7777777777777778,\"#fb9f3a\"],[0.8888888888888888,\"#fdca26\"],[1.0,\"#f0f921\"]]}],\"contourcarpet\":[{\"type\":\"contourcarpet\",\"colorbar\":{\"outlinewidth\":0,\"ticks\":\"\"}}],\"contour\":[{\"type\":\"contour\",\"colorbar\":{\"outlinewidth\":0,\"ticks\":\"\"},\"colorscale\":[[0.0,\"#0d0887\"],[0.1111111111111111,\"#46039f\"],[0.2222222222222222,\"#7201a8\"],[0.3333333333333333,\"#9c179e\"],[0.4444444444444444,\"#bd3786\"],[0.5555555555555556,\"#d8576b\"],[0.6666666666666666,\"#ed7953\"],[0.7777777777777778,\"#fb9f3a\"],[0.8888888888888888,\"#fdca26\"],[1.0,\"#f0f921\"]]}],\"surface\":[{\"type\":\"surface\",\"colorbar\":{\"outlinewidth\":0,\"ticks\":\"\"},\"colorscale\":[[0.0,\"#0d0887\"],[0.1111111111111111,\"#46039f\"],[0.2222222222222222,\"#7201a8\"],[0.3333333333333333,\"#9c179e\"],[0.4444444444444444,\"#bd3786\"],[0.5555555555555556,\"#d8576b\"],[0.6666666666666666,\"#ed7953\"],[0.7777777777777778,\"#fb9f3a\"],[0.8888888888888888,\"#fdca26\"],[1.0,\"#f0f921\"]]}],\"mesh3d\":[{\"type\":\"mesh3d\",\"colorbar\":{\"outlinewidth\":0,\"ticks\":\"\"}}],\"scatter\":[{\"fillpattern\":{\"fillmode\":\"overlay\",\"size\":10,\"solidity\":0.2},\"type\":\"scatter\"}],\"parcoords\":[{\"type\":\"parcoords\",\"line\":{\"colorbar\":{\"outlinewidth\":0,\"ticks\":\"\"}}}],\"scatterpolargl\":[{\"type\":\"scatterpolargl\",\"marker\":{\"colorbar\":{\"outlinewidth\":0,\"ticks\":\"\"}}}],\"bar\":[{\"error_x\":{\"color\":\"#2a3f5f\"},\"error_y\":{\"color\":\"#2a3f5f\"},\"marker\":{\"line\":{\"color\":\"#E5ECF6\",\"width\":0.5},\"pattern\":{\"fillmode\":\"overlay\",\"size\":10,\"solidity\":0.2}},\"type\":\"bar\"}],\"scattergeo\":[{\"type\":\"scattergeo\",\"marker\":{\"colorbar\":{\"outlinewidth\":0,\"ticks\":\"\"}}}],\"scatterpolar\":[{\"type\":\"scatterpolar\",\"marker\":{\"colorbar\":{\"outlinewidth\":0,\"ticks\":\"\"}}}],\"histogram\":[{\"marker\":{\"pattern\":{\"fillmode\":\"overlay\",\"size\":10,\"solidity\":0.2}},\"type\":\"histogram\"}],\"scattergl\":[{\"type\":\"scattergl\",\"marker\":{\"colorbar\":{\"outlinewidth\":0,\"ticks\":\"\"}}}],\"scatter3d\":[{\"type\":\"scatter3d\",\"line\":{\"colorbar\":{\"outlinewidth\":0,\"ticks\":\"\"}},\"marker\":{\"colorbar\":{\"outlinewidth\":0,\"ticks\":\"\"}}}],\"scattermapbox\":[{\"type\":\"scattermapbox\",\"marker\":{\"colorbar\":{\"outlinewidth\":0,\"ticks\":\"\"}}}],\"scatterternary\":[{\"type\":\"scatterternary\",\"marker\":{\"colorbar\":{\"outlinewidth\":0,\"ticks\":\"\"}}}],\"scattercarpet\":[{\"type\":\"scattercarpet\",\"marker\":{\"colorbar\":{\"outlinewidth\":0,\"ticks\":\"\"}}}],\"carpet\":[{\"aaxis\":{\"endlinecolor\":\"#2a3f5f\",\"gridcolor\":\"white\",\"linecolor\":\"white\",\"minorgridcolor\":\"white\",\"startlinecolor\":\"#2a3f5f\"},\"baxis\":{\"endlinecolor\":\"#2a3f5f\",\"gridcolor\":\"white\",\"linecolor\":\"white\",\"minorgridcolor\":\"white\",\"startlinecolor\":\"#2a3f5f\"},\"type\":\"carpet\"}],\"table\":[{\"cells\":{\"fill\":{\"color\":\"#EBF0F8\"},\"line\":{\"color\":\"white\"}},\"header\":{\"fill\":{\"color\":\"#C8D4E3\"},\"line\":{\"color\":\"white\"}},\"type\":\"table\"}],\"barpolar\":[{\"marker\":{\"line\":{\"color\":\"#E5ECF6\",\"width\":0.5},\"pattern\":{\"fillmode\":\"overlay\",\"size\":10,\"solidity\":0.2}},\"type\":\"barpolar\"}],\"pie\":[{\"automargin\":true,\"type\":\"pie\"}]},\"layout\":{\"autotypenumbers\":\"strict\",\"colorway\":[\"#636efa\",\"#EF553B\",\"#00cc96\",\"#ab63fa\",\"#FFA15A\",\"#19d3f3\",\"#FF6692\",\"#B6E880\",\"#FF97FF\",\"#FECB52\"],\"font\":{\"color\":\"#2a3f5f\"},\"hovermode\":\"closest\",\"hoverlabel\":{\"align\":\"left\"},\"paper_bgcolor\":\"white\",\"plot_bgcolor\":\"#E5ECF6\",\"polar\":{\"bgcolor\":\"#E5ECF6\",\"angularaxis\":{\"gridcolor\":\"white\",\"linecolor\":\"white\",\"ticks\":\"\"},\"radialaxis\":{\"gridcolor\":\"white\",\"linecolor\":\"white\",\"ticks\":\"\"}},\"ternary\":{\"bgcolor\":\"#E5ECF6\",\"aaxis\":{\"gridcolor\":\"white\",\"linecolor\":\"white\",\"ticks\":\"\"},\"baxis\":{\"gridcolor\":\"white\",\"linecolor\":\"white\",\"ticks\":\"\"},\"caxis\":{\"gridcolor\":\"white\",\"linecolor\":\"white\",\"ticks\":\"\"}},\"coloraxis\":{\"colorbar\":{\"outlinewidth\":0,\"ticks\":\"\"}},\"colorscale\":{\"sequential\":[[0.0,\"#0d0887\"],[0.1111111111111111,\"#46039f\"],[0.2222222222222222,\"#7201a8\"],[0.3333333333333333,\"#9c179e\"],[0.4444444444444444,\"#bd3786\"],[0.5555555555555556,\"#d8576b\"],[0.6666666666666666,\"#ed7953\"],[0.7777777777777778,\"#fb9f3a\"],[0.8888888888888888,\"#fdca26\"],[1.0,\"#f0f921\"]],\"sequentialminus\":[[0.0,\"#0d0887\"],[0.1111111111111111,\"#46039f\"],[0.2222222222222222,\"#7201a8\"],[0.3333333333333333,\"#9c179e\"],[0.4444444444444444,\"#bd3786\"],[0.5555555555555556,\"#d8576b\"],[0.6666666666666666,\"#ed7953\"],[0.7777777777777778,\"#fb9f3a\"],[0.8888888888888888,\"#fdca26\"],[1.0,\"#f0f921\"]],\"diverging\":[[0,\"#8e0152\"],[0.1,\"#c51b7d\"],[0.2,\"#de77ae\"],[0.3,\"#f1b6da\"],[0.4,\"#fde0ef\"],[0.5,\"#f7f7f7\"],[0.6,\"#e6f5d0\"],[0.7,\"#b8e186\"],[0.8,\"#7fbc41\"],[0.9,\"#4d9221\"],[1,\"#276419\"]]},\"xaxis\":{\"gridcolor\":\"white\",\"linecolor\":\"white\",\"ticks\":\"\",\"title\":{\"standoff\":15},\"zerolinecolor\":\"white\",\"automargin\":true,\"zerolinewidth\":2},\"yaxis\":{\"gridcolor\":\"white\",\"linecolor\":\"white\",\"ticks\":\"\",\"title\":{\"standoff\":15},\"zerolinecolor\":\"white\",\"automargin\":true,\"zerolinewidth\":2},\"scene\":{\"xaxis\":{\"backgroundcolor\":\"#E5ECF6\",\"gridcolor\":\"white\",\"linecolor\":\"white\",\"showbackground\":true,\"ticks\":\"\",\"zerolinecolor\":\"white\",\"gridwidth\":2},\"yaxis\":{\"backgroundcolor\":\"#E5ECF6\",\"gridcolor\":\"white\",\"linecolor\":\"white\",\"showbackground\":true,\"ticks\":\"\",\"zerolinecolor\":\"white\",\"gridwidth\":2},\"zaxis\":{\"backgroundcolor\":\"#E5ECF6\",\"gridcolor\":\"white\",\"linecolor\":\"white\",\"showbackground\":true,\"ticks\":\"\",\"zerolinecolor\":\"white\",\"gridwidth\":2}},\"shapedefaults\":{\"line\":{\"color\":\"#2a3f5f\"}},\"annotationdefaults\":{\"arrowcolor\":\"#2a3f5f\",\"arrowhead\":0,\"arrowwidth\":1},\"geo\":{\"bgcolor\":\"white\",\"landcolor\":\"#E5ECF6\",\"subunitcolor\":\"white\",\"showland\":true,\"showlakes\":true,\"lakecolor\":\"white\"},\"title\":{\"x\":0.05},\"mapbox\":{\"style\":\"light\"}}},\"xaxis\":{\"anchor\":\"y\",\"domain\":[0.0,1.0],\"title\":{\"text\":\"Number of Clusters\"}},\"yaxis\":{\"anchor\":\"x\",\"domain\":[0.0,1.0],\"title\":{\"text\":\"Inertia\"}},\"legend\":{\"tracegroupgap\":0},\"title\":{\"text\":\"K-Means Model: Inertia vs Number of Clusters\"}},                        {\"responsive\": true}                    ).then(function(){\n",
       "                            \n",
       "var gd = document.getElementById('30dd97aa-cf70-4727-a779-3e648eb0548c');\n",
       "var x = new MutationObserver(function (mutations, observer) {{\n",
       "        var display = window.getComputedStyle(gd).display;\n",
       "        if (!display || display === 'none') {{\n",
       "            console.log([gd, 'removed!']);\n",
       "            Plotly.purge(gd);\n",
       "            observer.disconnect();\n",
       "        }}\n",
       "}});\n",
       "\n",
       "// Listen for the removal of the full notebook cells\n",
       "var notebookContainer = gd.closest('#notebook-container');\n",
       "if (notebookContainer) {{\n",
       "    x.observe(notebookContainer, {childList: true});\n",
       "}}\n",
       "\n",
       "// Listen for the clearing of the current output cell\n",
       "var outputEl = gd.closest('.output');\n",
       "if (outputEl) {{\n",
       "    x.observe(outputEl, {childList: true});\n",
       "}}\n",
       "\n",
       "                        })                };                });            </script>        </div>"
      ]
     },
     "metadata": {},
     "output_type": "display_data"
    }
   ],
   "source": [
    "# Create line plot of `inertia_errors` vs `n_clusters`\n",
    "fig = px.line(\n",
    "    x=n_clusters,\n",
    "    y=inertia_errors, \n",
    "    title=\"K-Means Model: Inertia vs Number of Clusters\"\n",
    ")\n",
    "fig.update_layout(xaxis_title=\"Number of Clusters\", yaxis_title=\"Inertia\")\n",
    "\n",
    "fig.show();"
   ]
  },
  {
   "cell_type": "markdown",
   "id": "e394ed8d",
   "metadata": {
    "papermill": {
     "duration": 0.020652,
     "end_time": "2024-04-06T05:27:00.528966",
     "exception": false,
     "start_time": "2024-04-06T05:27:00.508314",
     "status": "completed"
    },
    "tags": []
   },
   "source": [
    "And let's do the same thing with our Silhouette Scores.\n",
    "\n",
    "Task 6.5.15: Use plotly express to create a line plot that shows the values of silhouette_scores as a function of n_clusters. Be sure to label your x-axis \"Number of Clusters\", your y-axis \"Silhouette Score\", and use the title \"K-Means Model: Silhouette Score vs Number of Clusters\"."
   ]
  },
  {
   "cell_type": "code",
   "execution_count": 18,
   "id": "b28b8805",
   "metadata": {
    "execution": {
     "iopub.execute_input": "2024-04-06T05:27:00.575487Z",
     "iopub.status.busy": "2024-04-06T05:27:00.574604Z",
     "iopub.status.idle": "2024-04-06T05:27:00.660692Z",
     "shell.execute_reply": "2024-04-06T05:27:00.659154Z"
    },
    "papermill": {
     "duration": 0.112307,
     "end_time": "2024-04-06T05:27:00.663959",
     "exception": false,
     "start_time": "2024-04-06T05:27:00.551652",
     "status": "completed"
    },
    "tags": []
   },
   "outputs": [
    {
     "data": {
      "text/html": [
       "<div>                            <div id=\"3bf57011-4aa0-42ff-a223-24e68d5a3ddb\" class=\"plotly-graph-div\" style=\"height:525px; width:100%;\"></div>            <script type=\"text/javascript\">                require([\"plotly\"], function(Plotly) {                    window.PLOTLYENV=window.PLOTLYENV || {};                                    if (document.getElementById(\"3bf57011-4aa0-42ff-a223-24e68d5a3ddb\")) {                    Plotly.newPlot(                        \"3bf57011-4aa0-42ff-a223-24e68d5a3ddb\",                        [{\"hovertemplate\":\"x=%{x}\\u003cbr\\u003ey=%{y}\\u003cextra\\u003e\\u003c\\u002fextra\\u003e\",\"legendgroup\":\"\",\"line\":{\"color\":\"#636efa\",\"dash\":\"solid\"},\"marker\":{\"symbol\":\"circle\"},\"mode\":\"lines\",\"name\":\"\",\"orientation\":\"v\",\"showlegend\":false,\"x\":[2,3,4,5,6,7,8,9,10,11,12],\"xaxis\":\"x\",\"y\":[0.9624467162626703,0.8536802348679524,0.7567361946267611,0.7554687589085367,0.7034966128670435,0.7056165711044051,0.7004794662836531,0.638485381326211,0.6305177872745039,0.6318302288039858,0.6347656289467624],\"yaxis\":\"y\",\"type\":\"scatter\"}],                        {\"template\":{\"data\":{\"histogram2dcontour\":[{\"type\":\"histogram2dcontour\",\"colorbar\":{\"outlinewidth\":0,\"ticks\":\"\"},\"colorscale\":[[0.0,\"#0d0887\"],[0.1111111111111111,\"#46039f\"],[0.2222222222222222,\"#7201a8\"],[0.3333333333333333,\"#9c179e\"],[0.4444444444444444,\"#bd3786\"],[0.5555555555555556,\"#d8576b\"],[0.6666666666666666,\"#ed7953\"],[0.7777777777777778,\"#fb9f3a\"],[0.8888888888888888,\"#fdca26\"],[1.0,\"#f0f921\"]]}],\"choropleth\":[{\"type\":\"choropleth\",\"colorbar\":{\"outlinewidth\":0,\"ticks\":\"\"}}],\"histogram2d\":[{\"type\":\"histogram2d\",\"colorbar\":{\"outlinewidth\":0,\"ticks\":\"\"},\"colorscale\":[[0.0,\"#0d0887\"],[0.1111111111111111,\"#46039f\"],[0.2222222222222222,\"#7201a8\"],[0.3333333333333333,\"#9c179e\"],[0.4444444444444444,\"#bd3786\"],[0.5555555555555556,\"#d8576b\"],[0.6666666666666666,\"#ed7953\"],[0.7777777777777778,\"#fb9f3a\"],[0.8888888888888888,\"#fdca26\"],[1.0,\"#f0f921\"]]}],\"heatmap\":[{\"type\":\"heatmap\",\"colorbar\":{\"outlinewidth\":0,\"ticks\":\"\"},\"colorscale\":[[0.0,\"#0d0887\"],[0.1111111111111111,\"#46039f\"],[0.2222222222222222,\"#7201a8\"],[0.3333333333333333,\"#9c179e\"],[0.4444444444444444,\"#bd3786\"],[0.5555555555555556,\"#d8576b\"],[0.6666666666666666,\"#ed7953\"],[0.7777777777777778,\"#fb9f3a\"],[0.8888888888888888,\"#fdca26\"],[1.0,\"#f0f921\"]]}],\"heatmapgl\":[{\"type\":\"heatmapgl\",\"colorbar\":{\"outlinewidth\":0,\"ticks\":\"\"},\"colorscale\":[[0.0,\"#0d0887\"],[0.1111111111111111,\"#46039f\"],[0.2222222222222222,\"#7201a8\"],[0.3333333333333333,\"#9c179e\"],[0.4444444444444444,\"#bd3786\"],[0.5555555555555556,\"#d8576b\"],[0.6666666666666666,\"#ed7953\"],[0.7777777777777778,\"#fb9f3a\"],[0.8888888888888888,\"#fdca26\"],[1.0,\"#f0f921\"]]}],\"contourcarpet\":[{\"type\":\"contourcarpet\",\"colorbar\":{\"outlinewidth\":0,\"ticks\":\"\"}}],\"contour\":[{\"type\":\"contour\",\"colorbar\":{\"outlinewidth\":0,\"ticks\":\"\"},\"colorscale\":[[0.0,\"#0d0887\"],[0.1111111111111111,\"#46039f\"],[0.2222222222222222,\"#7201a8\"],[0.3333333333333333,\"#9c179e\"],[0.4444444444444444,\"#bd3786\"],[0.5555555555555556,\"#d8576b\"],[0.6666666666666666,\"#ed7953\"],[0.7777777777777778,\"#fb9f3a\"],[0.8888888888888888,\"#fdca26\"],[1.0,\"#f0f921\"]]}],\"surface\":[{\"type\":\"surface\",\"colorbar\":{\"outlinewidth\":0,\"ticks\":\"\"},\"colorscale\":[[0.0,\"#0d0887\"],[0.1111111111111111,\"#46039f\"],[0.2222222222222222,\"#7201a8\"],[0.3333333333333333,\"#9c179e\"],[0.4444444444444444,\"#bd3786\"],[0.5555555555555556,\"#d8576b\"],[0.6666666666666666,\"#ed7953\"],[0.7777777777777778,\"#fb9f3a\"],[0.8888888888888888,\"#fdca26\"],[1.0,\"#f0f921\"]]}],\"mesh3d\":[{\"type\":\"mesh3d\",\"colorbar\":{\"outlinewidth\":0,\"ticks\":\"\"}}],\"scatter\":[{\"fillpattern\":{\"fillmode\":\"overlay\",\"size\":10,\"solidity\":0.2},\"type\":\"scatter\"}],\"parcoords\":[{\"type\":\"parcoords\",\"line\":{\"colorbar\":{\"outlinewidth\":0,\"ticks\":\"\"}}}],\"scatterpolargl\":[{\"type\":\"scatterpolargl\",\"marker\":{\"colorbar\":{\"outlinewidth\":0,\"ticks\":\"\"}}}],\"bar\":[{\"error_x\":{\"color\":\"#2a3f5f\"},\"error_y\":{\"color\":\"#2a3f5f\"},\"marker\":{\"line\":{\"color\":\"#E5ECF6\",\"width\":0.5},\"pattern\":{\"fillmode\":\"overlay\",\"size\":10,\"solidity\":0.2}},\"type\":\"bar\"}],\"scattergeo\":[{\"type\":\"scattergeo\",\"marker\":{\"colorbar\":{\"outlinewidth\":0,\"ticks\":\"\"}}}],\"scatterpolar\":[{\"type\":\"scatterpolar\",\"marker\":{\"colorbar\":{\"outlinewidth\":0,\"ticks\":\"\"}}}],\"histogram\":[{\"marker\":{\"pattern\":{\"fillmode\":\"overlay\",\"size\":10,\"solidity\":0.2}},\"type\":\"histogram\"}],\"scattergl\":[{\"type\":\"scattergl\",\"marker\":{\"colorbar\":{\"outlinewidth\":0,\"ticks\":\"\"}}}],\"scatter3d\":[{\"type\":\"scatter3d\",\"line\":{\"colorbar\":{\"outlinewidth\":0,\"ticks\":\"\"}},\"marker\":{\"colorbar\":{\"outlinewidth\":0,\"ticks\":\"\"}}}],\"scattermapbox\":[{\"type\":\"scattermapbox\",\"marker\":{\"colorbar\":{\"outlinewidth\":0,\"ticks\":\"\"}}}],\"scatterternary\":[{\"type\":\"scatterternary\",\"marker\":{\"colorbar\":{\"outlinewidth\":0,\"ticks\":\"\"}}}],\"scattercarpet\":[{\"type\":\"scattercarpet\",\"marker\":{\"colorbar\":{\"outlinewidth\":0,\"ticks\":\"\"}}}],\"carpet\":[{\"aaxis\":{\"endlinecolor\":\"#2a3f5f\",\"gridcolor\":\"white\",\"linecolor\":\"white\",\"minorgridcolor\":\"white\",\"startlinecolor\":\"#2a3f5f\"},\"baxis\":{\"endlinecolor\":\"#2a3f5f\",\"gridcolor\":\"white\",\"linecolor\":\"white\",\"minorgridcolor\":\"white\",\"startlinecolor\":\"#2a3f5f\"},\"type\":\"carpet\"}],\"table\":[{\"cells\":{\"fill\":{\"color\":\"#EBF0F8\"},\"line\":{\"color\":\"white\"}},\"header\":{\"fill\":{\"color\":\"#C8D4E3\"},\"line\":{\"color\":\"white\"}},\"type\":\"table\"}],\"barpolar\":[{\"marker\":{\"line\":{\"color\":\"#E5ECF6\",\"width\":0.5},\"pattern\":{\"fillmode\":\"overlay\",\"size\":10,\"solidity\":0.2}},\"type\":\"barpolar\"}],\"pie\":[{\"automargin\":true,\"type\":\"pie\"}]},\"layout\":{\"autotypenumbers\":\"strict\",\"colorway\":[\"#636efa\",\"#EF553B\",\"#00cc96\",\"#ab63fa\",\"#FFA15A\",\"#19d3f3\",\"#FF6692\",\"#B6E880\",\"#FF97FF\",\"#FECB52\"],\"font\":{\"color\":\"#2a3f5f\"},\"hovermode\":\"closest\",\"hoverlabel\":{\"align\":\"left\"},\"paper_bgcolor\":\"white\",\"plot_bgcolor\":\"#E5ECF6\",\"polar\":{\"bgcolor\":\"#E5ECF6\",\"angularaxis\":{\"gridcolor\":\"white\",\"linecolor\":\"white\",\"ticks\":\"\"},\"radialaxis\":{\"gridcolor\":\"white\",\"linecolor\":\"white\",\"ticks\":\"\"}},\"ternary\":{\"bgcolor\":\"#E5ECF6\",\"aaxis\":{\"gridcolor\":\"white\",\"linecolor\":\"white\",\"ticks\":\"\"},\"baxis\":{\"gridcolor\":\"white\",\"linecolor\":\"white\",\"ticks\":\"\"},\"caxis\":{\"gridcolor\":\"white\",\"linecolor\":\"white\",\"ticks\":\"\"}},\"coloraxis\":{\"colorbar\":{\"outlinewidth\":0,\"ticks\":\"\"}},\"colorscale\":{\"sequential\":[[0.0,\"#0d0887\"],[0.1111111111111111,\"#46039f\"],[0.2222222222222222,\"#7201a8\"],[0.3333333333333333,\"#9c179e\"],[0.4444444444444444,\"#bd3786\"],[0.5555555555555556,\"#d8576b\"],[0.6666666666666666,\"#ed7953\"],[0.7777777777777778,\"#fb9f3a\"],[0.8888888888888888,\"#fdca26\"],[1.0,\"#f0f921\"]],\"sequentialminus\":[[0.0,\"#0d0887\"],[0.1111111111111111,\"#46039f\"],[0.2222222222222222,\"#7201a8\"],[0.3333333333333333,\"#9c179e\"],[0.4444444444444444,\"#bd3786\"],[0.5555555555555556,\"#d8576b\"],[0.6666666666666666,\"#ed7953\"],[0.7777777777777778,\"#fb9f3a\"],[0.8888888888888888,\"#fdca26\"],[1.0,\"#f0f921\"]],\"diverging\":[[0,\"#8e0152\"],[0.1,\"#c51b7d\"],[0.2,\"#de77ae\"],[0.3,\"#f1b6da\"],[0.4,\"#fde0ef\"],[0.5,\"#f7f7f7\"],[0.6,\"#e6f5d0\"],[0.7,\"#b8e186\"],[0.8,\"#7fbc41\"],[0.9,\"#4d9221\"],[1,\"#276419\"]]},\"xaxis\":{\"gridcolor\":\"white\",\"linecolor\":\"white\",\"ticks\":\"\",\"title\":{\"standoff\":15},\"zerolinecolor\":\"white\",\"automargin\":true,\"zerolinewidth\":2},\"yaxis\":{\"gridcolor\":\"white\",\"linecolor\":\"white\",\"ticks\":\"\",\"title\":{\"standoff\":15},\"zerolinecolor\":\"white\",\"automargin\":true,\"zerolinewidth\":2},\"scene\":{\"xaxis\":{\"backgroundcolor\":\"#E5ECF6\",\"gridcolor\":\"white\",\"linecolor\":\"white\",\"showbackground\":true,\"ticks\":\"\",\"zerolinecolor\":\"white\",\"gridwidth\":2},\"yaxis\":{\"backgroundcolor\":\"#E5ECF6\",\"gridcolor\":\"white\",\"linecolor\":\"white\",\"showbackground\":true,\"ticks\":\"\",\"zerolinecolor\":\"white\",\"gridwidth\":2},\"zaxis\":{\"backgroundcolor\":\"#E5ECF6\",\"gridcolor\":\"white\",\"linecolor\":\"white\",\"showbackground\":true,\"ticks\":\"\",\"zerolinecolor\":\"white\",\"gridwidth\":2}},\"shapedefaults\":{\"line\":{\"color\":\"#2a3f5f\"}},\"annotationdefaults\":{\"arrowcolor\":\"#2a3f5f\",\"arrowhead\":0,\"arrowwidth\":1},\"geo\":{\"bgcolor\":\"white\",\"landcolor\":\"#E5ECF6\",\"subunitcolor\":\"white\",\"showland\":true,\"showlakes\":true,\"lakecolor\":\"white\"},\"title\":{\"x\":0.05},\"mapbox\":{\"style\":\"light\"}}},\"xaxis\":{\"anchor\":\"y\",\"domain\":[0.0,1.0],\"title\":{\"text\":\"Number of Clusters\"}},\"yaxis\":{\"anchor\":\"x\",\"domain\":[0.0,1.0],\"title\":{\"text\":\"Silhouette Score\"}},\"legend\":{\"tracegroupgap\":0},\"title\":{\"text\":\"K-Means Model: Inertia vs Number of Clusters\"}},                        {\"responsive\": true}                    ).then(function(){\n",
       "                            \n",
       "var gd = document.getElementById('3bf57011-4aa0-42ff-a223-24e68d5a3ddb');\n",
       "var x = new MutationObserver(function (mutations, observer) {{\n",
       "        var display = window.getComputedStyle(gd).display;\n",
       "        if (!display || display === 'none') {{\n",
       "            console.log([gd, 'removed!']);\n",
       "            Plotly.purge(gd);\n",
       "            observer.disconnect();\n",
       "        }}\n",
       "}});\n",
       "\n",
       "// Listen for the removal of the full notebook cells\n",
       "var notebookContainer = gd.closest('#notebook-container');\n",
       "if (notebookContainer) {{\n",
       "    x.observe(notebookContainer, {childList: true});\n",
       "}}\n",
       "\n",
       "// Listen for the clearing of the current output cell\n",
       "var outputEl = gd.closest('.output');\n",
       "if (outputEl) {{\n",
       "    x.observe(outputEl, {childList: true});\n",
       "}}\n",
       "\n",
       "                        })                };                });            </script>        </div>"
      ]
     },
     "metadata": {},
     "output_type": "display_data"
    }
   ],
   "source": [
    "# Create a line plot of `silhouette_scores` vs `n_clusters`\n",
    "fig = px.line(\n",
    "    x=n_clusters,\n",
    "    y=silhouette_scores, \n",
    "    title=\"K-Means Model: Inertia vs Number of Clusters\"\n",
    ")\n",
    "fig.update_layout(xaxis_title=\"Number of Clusters\", yaxis_title=\"Silhouette Score\")\n",
    "\n",
    "fig.show();"
   ]
  },
  {
   "cell_type": "markdown",
   "id": "6e5f9acf",
   "metadata": {
    "papermill": {
     "duration": 0.023927,
     "end_time": "2024-04-06T05:27:00.711268",
     "exception": false,
     "start_time": "2024-04-06T05:27:00.687341",
     "status": "completed"
    },
    "tags": []
   },
   "source": [
    "How many clusters should we use? When you've made a decision about that, it's time to build the final model.\n",
    "\n",
    "Task 6.5.16: Build and train a new k-means model named final_model. The number of clusters should be 3."
   ]
  },
  {
   "cell_type": "code",
   "execution_count": 19,
   "id": "13c5aae5",
   "metadata": {
    "execution": {
     "iopub.execute_input": "2024-04-06T05:27:00.761507Z",
     "iopub.status.busy": "2024-04-06T05:27:00.760570Z",
     "iopub.status.idle": "2024-04-06T05:27:01.975440Z",
     "shell.execute_reply": "2024-04-06T05:27:01.974171Z"
    },
    "papermill": {
     "duration": 1.2444,
     "end_time": "2024-04-06T05:27:01.979778",
     "exception": false,
     "start_time": "2024-04-06T05:27:00.735378",
     "status": "completed"
    },
    "tags": []
   },
   "outputs": [
    {
     "name": "stderr",
     "output_type": "stream",
     "text": [
      "/opt/conda/lib/python3.10/site-packages/sklearn/cluster/_kmeans.py:870: FutureWarning:\n",
      "\n",
      "The default value of `n_init` will change from 10 to 'auto' in 1.4. Set the value of `n_init` explicitly to suppress the warning\n",
      "\n"
     ]
    },
    {
     "data": {
      "text/html": [
       "<style>#sk-container-id-1 {color: black;background-color: white;}#sk-container-id-1 pre{padding: 0;}#sk-container-id-1 div.sk-toggleable {background-color: white;}#sk-container-id-1 label.sk-toggleable__label {cursor: pointer;display: block;width: 100%;margin-bottom: 0;padding: 0.3em;box-sizing: border-box;text-align: center;}#sk-container-id-1 label.sk-toggleable__label-arrow:before {content: \"▸\";float: left;margin-right: 0.25em;color: #696969;}#sk-container-id-1 label.sk-toggleable__label-arrow:hover:before {color: black;}#sk-container-id-1 div.sk-estimator:hover label.sk-toggleable__label-arrow:before {color: black;}#sk-container-id-1 div.sk-toggleable__content {max-height: 0;max-width: 0;overflow: hidden;text-align: left;background-color: #f0f8ff;}#sk-container-id-1 div.sk-toggleable__content pre {margin: 0.2em;color: black;border-radius: 0.25em;background-color: #f0f8ff;}#sk-container-id-1 input.sk-toggleable__control:checked~div.sk-toggleable__content {max-height: 200px;max-width: 100%;overflow: auto;}#sk-container-id-1 input.sk-toggleable__control:checked~label.sk-toggleable__label-arrow:before {content: \"▾\";}#sk-container-id-1 div.sk-estimator input.sk-toggleable__control:checked~label.sk-toggleable__label {background-color: #d4ebff;}#sk-container-id-1 div.sk-label input.sk-toggleable__control:checked~label.sk-toggleable__label {background-color: #d4ebff;}#sk-container-id-1 input.sk-hidden--visually {border: 0;clip: rect(1px 1px 1px 1px);clip: rect(1px, 1px, 1px, 1px);height: 1px;margin: -1px;overflow: hidden;padding: 0;position: absolute;width: 1px;}#sk-container-id-1 div.sk-estimator {font-family: monospace;background-color: #f0f8ff;border: 1px dotted black;border-radius: 0.25em;box-sizing: border-box;margin-bottom: 0.5em;}#sk-container-id-1 div.sk-estimator:hover {background-color: #d4ebff;}#sk-container-id-1 div.sk-parallel-item::after {content: \"\";width: 100%;border-bottom: 1px solid gray;flex-grow: 1;}#sk-container-id-1 div.sk-label:hover label.sk-toggleable__label {background-color: #d4ebff;}#sk-container-id-1 div.sk-serial::before {content: \"\";position: absolute;border-left: 1px solid gray;box-sizing: border-box;top: 0;bottom: 0;left: 50%;z-index: 0;}#sk-container-id-1 div.sk-serial {display: flex;flex-direction: column;align-items: center;background-color: white;padding-right: 0.2em;padding-left: 0.2em;position: relative;}#sk-container-id-1 div.sk-item {position: relative;z-index: 1;}#sk-container-id-1 div.sk-parallel {display: flex;align-items: stretch;justify-content: center;background-color: white;position: relative;}#sk-container-id-1 div.sk-item::before, #sk-container-id-1 div.sk-parallel-item::before {content: \"\";position: absolute;border-left: 1px solid gray;box-sizing: border-box;top: 0;bottom: 0;left: 50%;z-index: -1;}#sk-container-id-1 div.sk-parallel-item {display: flex;flex-direction: column;z-index: 1;position: relative;background-color: white;}#sk-container-id-1 div.sk-parallel-item:first-child::after {align-self: flex-end;width: 50%;}#sk-container-id-1 div.sk-parallel-item:last-child::after {align-self: flex-start;width: 50%;}#sk-container-id-1 div.sk-parallel-item:only-child::after {width: 0;}#sk-container-id-1 div.sk-dashed-wrapped {border: 1px dashed gray;margin: 0 0.4em 0.5em 0.4em;box-sizing: border-box;padding-bottom: 0.4em;background-color: white;}#sk-container-id-1 div.sk-label label {font-family: monospace;font-weight: bold;display: inline-block;line-height: 1.2em;}#sk-container-id-1 div.sk-label-container {text-align: center;}#sk-container-id-1 div.sk-container {/* jupyter's `normalize.less` sets `[hidden] { display: none; }` but bootstrap.min.css set `[hidden] { display: none !important; }` so we also need the `!important` here to be able to override the default hidden behavior on the sphinx rendered scikit-learn.org. See: https://github.com/scikit-learn/scikit-learn/issues/21755 */display: inline-block !important;position: relative;}#sk-container-id-1 div.sk-text-repr-fallback {display: none;}</style><div id=\"sk-container-id-1\" class=\"sk-top-container\"><div class=\"sk-text-repr-fallback\"><pre>Pipeline(steps=[(&#x27;standardscaler&#x27;, StandardScaler()),\n",
       "                (&#x27;kmeans&#x27;, KMeans(n_clusters=3, random_state=42))])</pre><b>In a Jupyter environment, please rerun this cell to show the HTML representation or trust the notebook. <br />On GitHub, the HTML representation is unable to render, please try loading this page with nbviewer.org.</b></div><div class=\"sk-container\" hidden><div class=\"sk-item sk-dashed-wrapped\"><div class=\"sk-label-container\"><div class=\"sk-label sk-toggleable\"><input class=\"sk-toggleable__control sk-hidden--visually\" id=\"sk-estimator-id-1\" type=\"checkbox\" ><label for=\"sk-estimator-id-1\" class=\"sk-toggleable__label sk-toggleable__label-arrow\">Pipeline</label><div class=\"sk-toggleable__content\"><pre>Pipeline(steps=[(&#x27;standardscaler&#x27;, StandardScaler()),\n",
       "                (&#x27;kmeans&#x27;, KMeans(n_clusters=3, random_state=42))])</pre></div></div></div><div class=\"sk-serial\"><div class=\"sk-item\"><div class=\"sk-estimator sk-toggleable\"><input class=\"sk-toggleable__control sk-hidden--visually\" id=\"sk-estimator-id-2\" type=\"checkbox\" ><label for=\"sk-estimator-id-2\" class=\"sk-toggleable__label sk-toggleable__label-arrow\">StandardScaler</label><div class=\"sk-toggleable__content\"><pre>StandardScaler()</pre></div></div></div><div class=\"sk-item\"><div class=\"sk-estimator sk-toggleable\"><input class=\"sk-toggleable__control sk-hidden--visually\" id=\"sk-estimator-id-3\" type=\"checkbox\" ><label for=\"sk-estimator-id-3\" class=\"sk-toggleable__label sk-toggleable__label-arrow\">KMeans</label><div class=\"sk-toggleable__content\"><pre>KMeans(n_clusters=3, random_state=42)</pre></div></div></div></div></div></div></div>"
      ],
      "text/plain": [
       "Pipeline(steps=[('standardscaler', StandardScaler()),\n",
       "                ('kmeans', KMeans(n_clusters=3, random_state=42))])"
      ]
     },
     "execution_count": 19,
     "metadata": {},
     "output_type": "execute_result"
    }
   ],
   "source": [
    "final_model = make_pipeline(\n",
    "    StandardScaler(),\n",
    "    KMeans(n_clusters=3, random_state=42)\n",
    ")\n",
    "\n",
    "# Fit model to data\n",
    "final_model.fit(X)\n"
   ]
  },
  {
   "cell_type": "markdown",
   "id": "0e7d1552",
   "metadata": {
    "papermill": {
     "duration": 0.037147,
     "end_time": "2024-04-06T05:27:02.079890",
     "exception": false,
     "start_time": "2024-04-06T05:27:02.042743",
     "status": "completed"
    },
    "tags": []
   },
   "source": [
    "`3. Communicate`"
   ]
  },
  {
   "cell_type": "markdown",
   "id": "9cd66c22",
   "metadata": {
    "papermill": {
     "duration": 0.022182,
     "end_time": "2024-04-06T05:27:02.125535",
     "exception": false,
     "start_time": "2024-04-06T05:27:02.103353",
     "status": "completed"
    },
    "tags": []
   },
   "source": [
    "Excellent! Let's share our work!\n",
    "\n",
    "Task 6.5.17: Create a DataFrame xgb that contains the mean values of the features in X for the 3 clusters in your final_model."
   ]
  },
  {
   "cell_type": "code",
   "execution_count": 20,
   "id": "79c2a54f",
   "metadata": {
    "execution": {
     "iopub.execute_input": "2024-04-06T05:27:02.173757Z",
     "iopub.status.busy": "2024-04-06T05:27:02.173298Z",
     "iopub.status.idle": "2024-04-06T05:27:02.195184Z",
     "shell.execute_reply": "2024-04-06T05:27:02.193577Z"
    },
    "papermill": {
     "duration": 0.050494,
     "end_time": "2024-04-06T05:27:02.198520",
     "exception": false,
     "start_time": "2024-04-06T05:27:02.148026",
     "status": "completed"
    },
    "tags": []
   },
   "outputs": [
    {
     "data": {
      "text/html": [
       "<div>\n",
       "<style scoped>\n",
       "    .dataframe tbody tr th:only-of-type {\n",
       "        vertical-align: middle;\n",
       "    }\n",
       "\n",
       "    .dataframe tbody tr th {\n",
       "        vertical-align: top;\n",
       "    }\n",
       "\n",
       "    .dataframe thead th {\n",
       "        text-align: right;\n",
       "    }\n",
       "</style>\n",
       "<table border=\"1\" class=\"dataframe\">\n",
       "  <thead>\n",
       "    <tr style=\"text-align: right;\">\n",
       "      <th></th>\n",
       "      <th>BUS</th>\n",
       "      <th>NHNFIN</th>\n",
       "      <th>NFIN</th>\n",
       "      <th>NETWORTH</th>\n",
       "      <th>ASSET</th>\n",
       "    </tr>\n",
       "  </thead>\n",
       "  <tbody>\n",
       "    <tr>\n",
       "      <th>0</th>\n",
       "      <td>8.107272e+05</td>\n",
       "      <td>1.275309e+06</td>\n",
       "      <td>1.646794e+06</td>\n",
       "      <td>2.227260e+06</td>\n",
       "      <td>2.460918e+06</td>\n",
       "    </tr>\n",
       "    <tr>\n",
       "      <th>1</th>\n",
       "      <td>7.903614e+07</td>\n",
       "      <td>1.107909e+08</td>\n",
       "      <td>1.086599e+08</td>\n",
       "      <td>1.375995e+08</td>\n",
       "      <td>1.420988e+08</td>\n",
       "    </tr>\n",
       "    <tr>\n",
       "      <th>2</th>\n",
       "      <td>1.411410e+07</td>\n",
       "      <td>2.071309e+07</td>\n",
       "      <td>2.089895e+07</td>\n",
       "      <td>2.626775e+07</td>\n",
       "      <td>2.757301e+07</td>\n",
       "    </tr>\n",
       "  </tbody>\n",
       "</table>\n",
       "</div>"
      ],
      "text/plain": [
       "            BUS        NHNFIN          NFIN      NETWORTH         ASSET\n",
       "0  8.107272e+05  1.275309e+06  1.646794e+06  2.227260e+06  2.460918e+06\n",
       "1  7.903614e+07  1.107909e+08  1.086599e+08  1.375995e+08  1.420988e+08\n",
       "2  1.411410e+07  2.071309e+07  2.089895e+07  2.626775e+07  2.757301e+07"
      ]
     },
     "execution_count": 20,
     "metadata": {},
     "output_type": "execute_result"
    }
   ],
   "source": [
    "# Extract cluster labels from final_model\n",
    "labels = final_model.named_steps[\"kmeans\"].labels_\n",
    "\n",
    "# Group data by cluster labels and compute mean\n",
    "xgb = X.groupby(labels).mean()\n",
    "\n",
    "# Display the resulting data\n",
    "xgb\n"
   ]
  },
  {
   "cell_type": "markdown",
   "id": "b8f1cb1b",
   "metadata": {
    "papermill": {
     "duration": 0.021893,
     "end_time": "2024-04-06T05:27:02.242916",
     "exception": false,
     "start_time": "2024-04-06T05:27:02.221023",
     "status": "completed"
    },
    "tags": []
   },
   "source": [
    "As usual, let's make a visualization with the DataFrame.\n",
    "\n",
    "Task 6.5.18: Use plotly express to create a side-by-side bar chart from xgb that shows the mean of the features in X for each of the clusters in your final_model. Be sure to label the x-axis \"Cluster\", the y-axis \"Value [$]\", and use the title \"Small Business Owner Finances by Cluster\"."
   ]
  },
  {
   "cell_type": "code",
   "execution_count": 21,
   "id": "37f5da43",
   "metadata": {
    "execution": {
     "iopub.execute_input": "2024-04-06T05:27:02.291951Z",
     "iopub.status.busy": "2024-04-06T05:27:02.291472Z",
     "iopub.status.idle": "2024-04-06T05:27:02.422795Z",
     "shell.execute_reply": "2024-04-06T05:27:02.421081Z"
    },
    "papermill": {
     "duration": 0.160752,
     "end_time": "2024-04-06T05:27:02.426598",
     "exception": false,
     "start_time": "2024-04-06T05:27:02.265846",
     "status": "completed"
    },
    "tags": []
   },
   "outputs": [
    {
     "name": "stderr",
     "output_type": "stream",
     "text": [
      "/opt/conda/lib/python3.10/site-packages/plotly/express/_core.py:2065: FutureWarning:\n",
      "\n",
      "When grouping with a length-1 list-like, you will need to pass a length-1 tuple to get_group in a future version of pandas. Pass `(name,)` instead of `name` to silence this warning.\n",
      "\n"
     ]
    },
    {
     "data": {
      "text/html": [
       "<div>                            <div id=\"fab32f48-17bc-4c84-9900-a06bda3e0bab\" class=\"plotly-graph-div\" style=\"height:525px; width:100%;\"></div>            <script type=\"text/javascript\">                require([\"plotly\"], function(Plotly) {                    window.PLOTLYENV=window.PLOTLYENV || {};                                    if (document.getElementById(\"fab32f48-17bc-4c84-9900-a06bda3e0bab\")) {                    Plotly.newPlot(                        \"fab32f48-17bc-4c84-9900-a06bda3e0bab\",                        [{\"alignmentgroup\":\"True\",\"hovertemplate\":\"variable=BUS\\u003cbr\\u003eindex=%{x}\\u003cbr\\u003evalue=%{y}\\u003cextra\\u003e\\u003c\\u002fextra\\u003e\",\"legendgroup\":\"BUS\",\"marker\":{\"color\":\"#636efa\",\"pattern\":{\"shape\":\"\"}},\"name\":\"BUS\",\"offsetgroup\":\"BUS\",\"orientation\":\"v\",\"showlegend\":true,\"textposition\":\"auto\",\"x\":[0,1,2],\"xaxis\":\"x\",\"y\":[810727.2229878391,79036142.29778124,14114101.650965916],\"yaxis\":\"y\",\"type\":\"bar\"},{\"alignmentgroup\":\"True\",\"hovertemplate\":\"variable=NHNFIN\\u003cbr\\u003eindex=%{x}\\u003cbr\\u003evalue=%{y}\\u003cextra\\u003e\\u003c\\u002fextra\\u003e\",\"legendgroup\":\"NHNFIN\",\"marker\":{\"color\":\"#EF553B\",\"pattern\":{\"shape\":\"\"}},\"name\":\"NHNFIN\",\"offsetgroup\":\"NHNFIN\",\"orientation\":\"v\",\"showlegend\":true,\"textposition\":\"auto\",\"x\":[0,1,2],\"xaxis\":\"x\",\"y\":[1275308.739520648,110790935.82634374,20713091.181742605],\"yaxis\":\"y\",\"type\":\"bar\"},{\"alignmentgroup\":\"True\",\"hovertemplate\":\"variable=NFIN\\u003cbr\\u003eindex=%{x}\\u003cbr\\u003evalue=%{y}\\u003cextra\\u003e\\u003c\\u002fextra\\u003e\",\"legendgroup\":\"NFIN\",\"marker\":{\"color\":\"#00cc96\",\"pattern\":{\"shape\":\"\"}},\"name\":\"NFIN\",\"offsetgroup\":\"NFIN\",\"orientation\":\"v\",\"showlegend\":true,\"textposition\":\"auto\",\"x\":[0,1,2],\"xaxis\":\"x\",\"y\":[1646794.0343250355,108659941.6029375,20898949.260254435],\"yaxis\":\"y\",\"type\":\"bar\"},{\"alignmentgroup\":\"True\",\"hovertemplate\":\"variable=NETWORTH\\u003cbr\\u003eindex=%{x}\\u003cbr\\u003evalue=%{y}\\u003cextra\\u003e\\u003c\\u002fextra\\u003e\",\"legendgroup\":\"NETWORTH\",\"marker\":{\"color\":\"#ab63fa\",\"pattern\":{\"shape\":\"\"}},\"name\":\"NETWORTH\",\"offsetgroup\":\"NETWORTH\",\"orientation\":\"v\",\"showlegend\":true,\"textposition\":\"auto\",\"x\":[0,1,2],\"xaxis\":\"x\",\"y\":[2227259.9003418614,137599529.57975,26267753.40201775],\"yaxis\":\"y\",\"type\":\"bar\"},{\"alignmentgroup\":\"True\",\"hovertemplate\":\"variable=ASSET\\u003cbr\\u003eindex=%{x}\\u003cbr\\u003evalue=%{y}\\u003cextra\\u003e\\u003c\\u002fextra\\u003e\",\"legendgroup\":\"ASSET\",\"marker\":{\"color\":\"#FFA15A\",\"pattern\":{\"shape\":\"\"}},\"name\":\"ASSET\",\"offsetgroup\":\"ASSET\",\"orientation\":\"v\",\"showlegend\":true,\"textposition\":\"auto\",\"x\":[0,1,2],\"xaxis\":\"x\",\"y\":[2460917.8970116596,142098792.9506875,27573014.589236688],\"yaxis\":\"y\",\"type\":\"bar\"}],                        {\"template\":{\"data\":{\"histogram2dcontour\":[{\"type\":\"histogram2dcontour\",\"colorbar\":{\"outlinewidth\":0,\"ticks\":\"\"},\"colorscale\":[[0.0,\"#0d0887\"],[0.1111111111111111,\"#46039f\"],[0.2222222222222222,\"#7201a8\"],[0.3333333333333333,\"#9c179e\"],[0.4444444444444444,\"#bd3786\"],[0.5555555555555556,\"#d8576b\"],[0.6666666666666666,\"#ed7953\"],[0.7777777777777778,\"#fb9f3a\"],[0.8888888888888888,\"#fdca26\"],[1.0,\"#f0f921\"]]}],\"choropleth\":[{\"type\":\"choropleth\",\"colorbar\":{\"outlinewidth\":0,\"ticks\":\"\"}}],\"histogram2d\":[{\"type\":\"histogram2d\",\"colorbar\":{\"outlinewidth\":0,\"ticks\":\"\"},\"colorscale\":[[0.0,\"#0d0887\"],[0.1111111111111111,\"#46039f\"],[0.2222222222222222,\"#7201a8\"],[0.3333333333333333,\"#9c179e\"],[0.4444444444444444,\"#bd3786\"],[0.5555555555555556,\"#d8576b\"],[0.6666666666666666,\"#ed7953\"],[0.7777777777777778,\"#fb9f3a\"],[0.8888888888888888,\"#fdca26\"],[1.0,\"#f0f921\"]]}],\"heatmap\":[{\"type\":\"heatmap\",\"colorbar\":{\"outlinewidth\":0,\"ticks\":\"\"},\"colorscale\":[[0.0,\"#0d0887\"],[0.1111111111111111,\"#46039f\"],[0.2222222222222222,\"#7201a8\"],[0.3333333333333333,\"#9c179e\"],[0.4444444444444444,\"#bd3786\"],[0.5555555555555556,\"#d8576b\"],[0.6666666666666666,\"#ed7953\"],[0.7777777777777778,\"#fb9f3a\"],[0.8888888888888888,\"#fdca26\"],[1.0,\"#f0f921\"]]}],\"heatmapgl\":[{\"type\":\"heatmapgl\",\"colorbar\":{\"outlinewidth\":0,\"ticks\":\"\"},\"colorscale\":[[0.0,\"#0d0887\"],[0.1111111111111111,\"#46039f\"],[0.2222222222222222,\"#7201a8\"],[0.3333333333333333,\"#9c179e\"],[0.4444444444444444,\"#bd3786\"],[0.5555555555555556,\"#d8576b\"],[0.6666666666666666,\"#ed7953\"],[0.7777777777777778,\"#fb9f3a\"],[0.8888888888888888,\"#fdca26\"],[1.0,\"#f0f921\"]]}],\"contourcarpet\":[{\"type\":\"contourcarpet\",\"colorbar\":{\"outlinewidth\":0,\"ticks\":\"\"}}],\"contour\":[{\"type\":\"contour\",\"colorbar\":{\"outlinewidth\":0,\"ticks\":\"\"},\"colorscale\":[[0.0,\"#0d0887\"],[0.1111111111111111,\"#46039f\"],[0.2222222222222222,\"#7201a8\"],[0.3333333333333333,\"#9c179e\"],[0.4444444444444444,\"#bd3786\"],[0.5555555555555556,\"#d8576b\"],[0.6666666666666666,\"#ed7953\"],[0.7777777777777778,\"#fb9f3a\"],[0.8888888888888888,\"#fdca26\"],[1.0,\"#f0f921\"]]}],\"surface\":[{\"type\":\"surface\",\"colorbar\":{\"outlinewidth\":0,\"ticks\":\"\"},\"colorscale\":[[0.0,\"#0d0887\"],[0.1111111111111111,\"#46039f\"],[0.2222222222222222,\"#7201a8\"],[0.3333333333333333,\"#9c179e\"],[0.4444444444444444,\"#bd3786\"],[0.5555555555555556,\"#d8576b\"],[0.6666666666666666,\"#ed7953\"],[0.7777777777777778,\"#fb9f3a\"],[0.8888888888888888,\"#fdca26\"],[1.0,\"#f0f921\"]]}],\"mesh3d\":[{\"type\":\"mesh3d\",\"colorbar\":{\"outlinewidth\":0,\"ticks\":\"\"}}],\"scatter\":[{\"fillpattern\":{\"fillmode\":\"overlay\",\"size\":10,\"solidity\":0.2},\"type\":\"scatter\"}],\"parcoords\":[{\"type\":\"parcoords\",\"line\":{\"colorbar\":{\"outlinewidth\":0,\"ticks\":\"\"}}}],\"scatterpolargl\":[{\"type\":\"scatterpolargl\",\"marker\":{\"colorbar\":{\"outlinewidth\":0,\"ticks\":\"\"}}}],\"bar\":[{\"error_x\":{\"color\":\"#2a3f5f\"},\"error_y\":{\"color\":\"#2a3f5f\"},\"marker\":{\"line\":{\"color\":\"#E5ECF6\",\"width\":0.5},\"pattern\":{\"fillmode\":\"overlay\",\"size\":10,\"solidity\":0.2}},\"type\":\"bar\"}],\"scattergeo\":[{\"type\":\"scattergeo\",\"marker\":{\"colorbar\":{\"outlinewidth\":0,\"ticks\":\"\"}}}],\"scatterpolar\":[{\"type\":\"scatterpolar\",\"marker\":{\"colorbar\":{\"outlinewidth\":0,\"ticks\":\"\"}}}],\"histogram\":[{\"marker\":{\"pattern\":{\"fillmode\":\"overlay\",\"size\":10,\"solidity\":0.2}},\"type\":\"histogram\"}],\"scattergl\":[{\"type\":\"scattergl\",\"marker\":{\"colorbar\":{\"outlinewidth\":0,\"ticks\":\"\"}}}],\"scatter3d\":[{\"type\":\"scatter3d\",\"line\":{\"colorbar\":{\"outlinewidth\":0,\"ticks\":\"\"}},\"marker\":{\"colorbar\":{\"outlinewidth\":0,\"ticks\":\"\"}}}],\"scattermapbox\":[{\"type\":\"scattermapbox\",\"marker\":{\"colorbar\":{\"outlinewidth\":0,\"ticks\":\"\"}}}],\"scatterternary\":[{\"type\":\"scatterternary\",\"marker\":{\"colorbar\":{\"outlinewidth\":0,\"ticks\":\"\"}}}],\"scattercarpet\":[{\"type\":\"scattercarpet\",\"marker\":{\"colorbar\":{\"outlinewidth\":0,\"ticks\":\"\"}}}],\"carpet\":[{\"aaxis\":{\"endlinecolor\":\"#2a3f5f\",\"gridcolor\":\"white\",\"linecolor\":\"white\",\"minorgridcolor\":\"white\",\"startlinecolor\":\"#2a3f5f\"},\"baxis\":{\"endlinecolor\":\"#2a3f5f\",\"gridcolor\":\"white\",\"linecolor\":\"white\",\"minorgridcolor\":\"white\",\"startlinecolor\":\"#2a3f5f\"},\"type\":\"carpet\"}],\"table\":[{\"cells\":{\"fill\":{\"color\":\"#EBF0F8\"},\"line\":{\"color\":\"white\"}},\"header\":{\"fill\":{\"color\":\"#C8D4E3\"},\"line\":{\"color\":\"white\"}},\"type\":\"table\"}],\"barpolar\":[{\"marker\":{\"line\":{\"color\":\"#E5ECF6\",\"width\":0.5},\"pattern\":{\"fillmode\":\"overlay\",\"size\":10,\"solidity\":0.2}},\"type\":\"barpolar\"}],\"pie\":[{\"automargin\":true,\"type\":\"pie\"}]},\"layout\":{\"autotypenumbers\":\"strict\",\"colorway\":[\"#636efa\",\"#EF553B\",\"#00cc96\",\"#ab63fa\",\"#FFA15A\",\"#19d3f3\",\"#FF6692\",\"#B6E880\",\"#FF97FF\",\"#FECB52\"],\"font\":{\"color\":\"#2a3f5f\"},\"hovermode\":\"closest\",\"hoverlabel\":{\"align\":\"left\"},\"paper_bgcolor\":\"white\",\"plot_bgcolor\":\"#E5ECF6\",\"polar\":{\"bgcolor\":\"#E5ECF6\",\"angularaxis\":{\"gridcolor\":\"white\",\"linecolor\":\"white\",\"ticks\":\"\"},\"radialaxis\":{\"gridcolor\":\"white\",\"linecolor\":\"white\",\"ticks\":\"\"}},\"ternary\":{\"bgcolor\":\"#E5ECF6\",\"aaxis\":{\"gridcolor\":\"white\",\"linecolor\":\"white\",\"ticks\":\"\"},\"baxis\":{\"gridcolor\":\"white\",\"linecolor\":\"white\",\"ticks\":\"\"},\"caxis\":{\"gridcolor\":\"white\",\"linecolor\":\"white\",\"ticks\":\"\"}},\"coloraxis\":{\"colorbar\":{\"outlinewidth\":0,\"ticks\":\"\"}},\"colorscale\":{\"sequential\":[[0.0,\"#0d0887\"],[0.1111111111111111,\"#46039f\"],[0.2222222222222222,\"#7201a8\"],[0.3333333333333333,\"#9c179e\"],[0.4444444444444444,\"#bd3786\"],[0.5555555555555556,\"#d8576b\"],[0.6666666666666666,\"#ed7953\"],[0.7777777777777778,\"#fb9f3a\"],[0.8888888888888888,\"#fdca26\"],[1.0,\"#f0f921\"]],\"sequentialminus\":[[0.0,\"#0d0887\"],[0.1111111111111111,\"#46039f\"],[0.2222222222222222,\"#7201a8\"],[0.3333333333333333,\"#9c179e\"],[0.4444444444444444,\"#bd3786\"],[0.5555555555555556,\"#d8576b\"],[0.6666666666666666,\"#ed7953\"],[0.7777777777777778,\"#fb9f3a\"],[0.8888888888888888,\"#fdca26\"],[1.0,\"#f0f921\"]],\"diverging\":[[0,\"#8e0152\"],[0.1,\"#c51b7d\"],[0.2,\"#de77ae\"],[0.3,\"#f1b6da\"],[0.4,\"#fde0ef\"],[0.5,\"#f7f7f7\"],[0.6,\"#e6f5d0\"],[0.7,\"#b8e186\"],[0.8,\"#7fbc41\"],[0.9,\"#4d9221\"],[1,\"#276419\"]]},\"xaxis\":{\"gridcolor\":\"white\",\"linecolor\":\"white\",\"ticks\":\"\",\"title\":{\"standoff\":15},\"zerolinecolor\":\"white\",\"automargin\":true,\"zerolinewidth\":2},\"yaxis\":{\"gridcolor\":\"white\",\"linecolor\":\"white\",\"ticks\":\"\",\"title\":{\"standoff\":15},\"zerolinecolor\":\"white\",\"automargin\":true,\"zerolinewidth\":2},\"scene\":{\"xaxis\":{\"backgroundcolor\":\"#E5ECF6\",\"gridcolor\":\"white\",\"linecolor\":\"white\",\"showbackground\":true,\"ticks\":\"\",\"zerolinecolor\":\"white\",\"gridwidth\":2},\"yaxis\":{\"backgroundcolor\":\"#E5ECF6\",\"gridcolor\":\"white\",\"linecolor\":\"white\",\"showbackground\":true,\"ticks\":\"\",\"zerolinecolor\":\"white\",\"gridwidth\":2},\"zaxis\":{\"backgroundcolor\":\"#E5ECF6\",\"gridcolor\":\"white\",\"linecolor\":\"white\",\"showbackground\":true,\"ticks\":\"\",\"zerolinecolor\":\"white\",\"gridwidth\":2}},\"shapedefaults\":{\"line\":{\"color\":\"#2a3f5f\"}},\"annotationdefaults\":{\"arrowcolor\":\"#2a3f5f\",\"arrowhead\":0,\"arrowwidth\":1},\"geo\":{\"bgcolor\":\"white\",\"landcolor\":\"#E5ECF6\",\"subunitcolor\":\"white\",\"showland\":true,\"showlakes\":true,\"lakecolor\":\"white\"},\"title\":{\"x\":0.05},\"mapbox\":{\"style\":\"light\"}}},\"xaxis\":{\"anchor\":\"y\",\"domain\":[0.0,1.0],\"title\":{\"text\":\"Cluster\"}},\"yaxis\":{\"anchor\":\"x\",\"domain\":[0.0,1.0],\"title\":{\"text\":\"Value [$]\"}},\"legend\":{\"title\":{\"text\":\"variable\"},\"tracegroupgap\":0},\"title\":{\"text\":\"Mean Household Finances by Cluster\"},\"barmode\":\"group\"},                        {\"responsive\": true}                    ).then(function(){\n",
       "                            \n",
       "var gd = document.getElementById('fab32f48-17bc-4c84-9900-a06bda3e0bab');\n",
       "var x = new MutationObserver(function (mutations, observer) {{\n",
       "        var display = window.getComputedStyle(gd).display;\n",
       "        if (!display || display === 'none') {{\n",
       "            console.log([gd, 'removed!']);\n",
       "            Plotly.purge(gd);\n",
       "            observer.disconnect();\n",
       "        }}\n",
       "}});\n",
       "\n",
       "// Listen for the removal of the full notebook cells\n",
       "var notebookContainer = gd.closest('#notebook-container');\n",
       "if (notebookContainer) {{\n",
       "    x.observe(notebookContainer, {childList: true});\n",
       "}}\n",
       "\n",
       "// Listen for the clearing of the current output cell\n",
       "var outputEl = gd.closest('.output');\n",
       "if (outputEl) {{\n",
       "    x.observe(outputEl, {childList: true});\n",
       "}}\n",
       "\n",
       "                        })                };                });            </script>        </div>"
      ]
     },
     "metadata": {},
     "output_type": "display_data"
    }
   ],
   "source": [
    "# Create side-by-side bar chart of `xgb`\n",
    "fig = px.bar(\n",
    "    xgb,\n",
    "    barmode=\"group\",\n",
    "    title=\"Mean Household Finances by Cluster\",\n",
    ")\n",
    "fig.update_layout(xaxis_title=\"Cluster\", yaxis_title=\"Value [$]\")\n",
    "\n",
    "fig.show();"
   ]
  },
  {
   "cell_type": "markdown",
   "id": "07e44733",
   "metadata": {
    "papermill": {
     "duration": 0.022606,
     "end_time": "2024-04-06T05:27:02.472938",
     "exception": false,
     "start_time": "2024-04-06T05:27:02.450332",
     "status": "completed"
    },
    "tags": []
   },
   "source": [
    "Remember what we did with higher-dimension data last time? Let's do the same thing here.\n",
    "\n",
    "Task 6.5.19: Create a PCA transformer, use it to reduce the dimensionality of the data in X to 2, and then put the transformed data into a DataFrame named X_pca. The columns of X_pca should be named \"PC1\" and \"PC2\"."
   ]
  },
  {
   "cell_type": "code",
   "execution_count": 22,
   "id": "08d8d9d7",
   "metadata": {
    "execution": {
     "iopub.execute_input": "2024-04-06T05:27:02.521673Z",
     "iopub.status.busy": "2024-04-06T05:27:02.520305Z",
     "iopub.status.idle": "2024-04-06T05:27:02.555985Z",
     "shell.execute_reply": "2024-04-06T05:27:02.554578Z"
    },
    "papermill": {
     "duration": 0.062712,
     "end_time": "2024-04-06T05:27:02.558926",
     "exception": false,
     "start_time": "2024-04-06T05:27:02.496214",
     "status": "completed"
    },
    "tags": []
   },
   "outputs": [
    {
     "name": "stdout",
     "output_type": "stream",
     "text": [
      "X_pca shape: (4161, 2)\n"
     ]
    },
    {
     "data": {
      "text/html": [
       "<div>\n",
       "<style scoped>\n",
       "    .dataframe tbody tr th:only-of-type {\n",
       "        vertical-align: middle;\n",
       "    }\n",
       "\n",
       "    .dataframe tbody tr th {\n",
       "        vertical-align: top;\n",
       "    }\n",
       "\n",
       "    .dataframe thead th {\n",
       "        text-align: right;\n",
       "    }\n",
       "</style>\n",
       "<table border=\"1\" class=\"dataframe\">\n",
       "  <thead>\n",
       "    <tr style=\"text-align: right;\">\n",
       "      <th></th>\n",
       "      <th>PC1</th>\n",
       "      <th>PC2</th>\n",
       "    </tr>\n",
       "  </thead>\n",
       "  <tbody>\n",
       "    <tr>\n",
       "      <th>0</th>\n",
       "      <td>-6.697176e+06</td>\n",
       "      <td>-473398.036519</td>\n",
       "    </tr>\n",
       "    <tr>\n",
       "      <th>1</th>\n",
       "      <td>-6.699446e+06</td>\n",
       "      <td>-473426.165693</td>\n",
       "    </tr>\n",
       "    <tr>\n",
       "      <th>2</th>\n",
       "      <td>-6.697176e+06</td>\n",
       "      <td>-473398.036519</td>\n",
       "    </tr>\n",
       "    <tr>\n",
       "      <th>3</th>\n",
       "      <td>-6.702320e+06</td>\n",
       "      <td>-473988.699787</td>\n",
       "    </tr>\n",
       "    <tr>\n",
       "      <th>4</th>\n",
       "      <td>-6.698842e+06</td>\n",
       "      <td>-472891.760774</td>\n",
       "    </tr>\n",
       "  </tbody>\n",
       "</table>\n",
       "</div>"
      ],
      "text/plain": [
       "            PC1            PC2\n",
       "0 -6.697176e+06 -473398.036519\n",
       "1 -6.699446e+06 -473426.165693\n",
       "2 -6.697176e+06 -473398.036519\n",
       "3 -6.702320e+06 -473988.699787\n",
       "4 -6.698842e+06 -472891.760774"
      ]
     },
     "execution_count": 22,
     "metadata": {},
     "output_type": "execute_result"
    }
   ],
   "source": [
    "# Instantiate transformer\n",
    "pca = PCA(n_components=2, random_state=42)\n",
    "\n",
    "# Transform `X`\n",
    "X_t = pca.fit_transform(X)\n",
    "\n",
    "# Put `X_t` into DataFrame\n",
    "X_pca = pd.DataFrame(X_t, columns=[\"PC1\", \"PC2\"])\n",
    "\n",
    "print(\"X_pca shape:\", X_pca.shape)\n",
    "X_pca.head()"
   ]
  },
  {
   "cell_type": "markdown",
   "id": "b8ed13da",
   "metadata": {
    "papermill": {
     "duration": 0.023781,
     "end_time": "2024-04-06T05:27:02.607002",
     "exception": false,
     "start_time": "2024-04-06T05:27:02.583221",
     "status": "completed"
    },
    "tags": []
   },
   "source": [
    "Finally, let's make a visualization of our final DataFrame.WQU WorldQuant University Applied Data Science Lab QQQQ\n",
    "\n",
    "Task 6.5.20: Use plotly express to create a scatter plot of X_pca using seaborn. Be sure to color the data points using the labels generated by your final_model. Label the x-axis \"PC1\", the y-axis \"PC2\", and use the title \"PCA Representation of Clusters\"."
   ]
  },
  {
   "cell_type": "code",
   "execution_count": 23,
   "id": "562d9315",
   "metadata": {
    "execution": {
     "iopub.execute_input": "2024-04-06T05:27:02.655929Z",
     "iopub.status.busy": "2024-04-06T05:27:02.655223Z",
     "iopub.status.idle": "2024-04-06T05:27:02.784518Z",
     "shell.execute_reply": "2024-04-06T05:27:02.782827Z"
    },
    "papermill": {
     "duration": 0.158255,
     "end_time": "2024-04-06T05:27:02.788762",
     "exception": false,
     "start_time": "2024-04-06T05:27:02.630507",
     "status": "completed"
    },
    "tags": []
   },
   "outputs": [
    {
     "name": "stderr",
     "output_type": "stream",
     "text": [
      "/opt/conda/lib/python3.10/site-packages/plotly/express/_core.py:2065: FutureWarning:\n",
      "\n",
      "When grouping with a length-1 list-like, you will need to pass a length-1 tuple to get_group in a future version of pandas. Pass `(name,)` instead of `name` to silence this warning.\n",
      "\n"
     ]
    },
    {
     "data": {
      "text/html": [
       "<div>                            <div id=\"16f950b4-58ff-49b0-bb14-2c4e077983b6\" class=\"plotly-graph-div\" style=\"height:525px; width:100%;\"></div>            <script type=\"text/javascript\">                require([\"plotly\"], function(Plotly) {                    window.PLOTLYENV=window.PLOTLYENV || {};                                    if (document.getElementById(\"16f950b4-58ff-49b0-bb14-2c4e077983b6\")) {                    Plotly.newPlot(                        \"16f950b4-58ff-49b0-bb14-2c4e077983b6\",                        [{\"hovertemplate\":\"color=0\\u003cbr\\u003ePC1=%{x}\\u003cbr\\u003ePC2=%{y}\\u003cextra\\u003e\\u003c\\u002fextra\\u003e\",\"legendgroup\":\"0\",\"marker\":{\"color\":\"#636efa\",\"symbol\":\"circle\"},\"mode\":\"markers\",\"name\":\"0\",\"showlegend\":true,\"x\":[-6697176.173022258,-6699446.227285459,-6697176.173022146,-6702320.184893472,-6698842.323940819,4175953.4034952195,4268279.87497377,4469214.632564328,4343510.43774627,4236522.4987911945,-3962204.654055415,-4094533.994103133,-3792306.3376160027,-3994283.0974335643,-4100106.0062819626,-1894090.876183381,-2641597.9630357744,-3418320.680194856,-1859252.116857758,-4130269.374313234,-7055463.077102048,-7057271.424834105,-7057044.419407771,-6911884.533592148,-7060734.924974949,-7171180.7434400795,-6961563.642155163,-7236127.305032785,-7268809.609494746,-7159523.146425919,-4847191.653264071,-4836176.583683707,-4841814.996679755,-4846642.501000079,-4843631.040070435,-6993667.065351688,-6995876.729272267,-6993606.6750172265,-6995937.119606734,-6995937.119606734,-1093554.9476590152,-2096486.8958417499,218860.83705366356,158067.53995495068,-736567.2300939735,-7575184.647634136,-7570417.533680334,-7553165.121296822,-7532734.632939155,-7570417.533680334,-5836103.709424414,-5836103.709424414,-5836103.709424414,-5838373.7636848595,-5838373.7636848595,5139910.6144005265,5185910.070030052,5256519.565589028,5133926.671055622,5157126.304098614,-7186266.041465159,-7186869.94480459,-7189682.036374129,-7224445.88885566,-7187974.038914337,-6624520.306475235,-6603276.937814634,-6554375.629792979,-6620983.361049043,-6570266.009625678,-6457696.551532627,-6457696.551532627,-6459966.605800122,-6459966.605800122,-6457696.551532627,-7516791.526931352,-7516187.6235867115,-7515960.618160791,-7515960.618160791,-7516414.62901304,-170177.33875926933,-78185.09711172846,-18632.935283855037,-90780.56351128433,-81466.67145136044,-7548211.172812514,-7821053.233389386,-7518769.981811689,-7735141.011629221,-7737636.722276025,-847624.2007139471,922875.9484395679,-666815.7535511967,-5767437.906566078,-5765167.852302765,-5769498.983882403,-5768772.0636649085,-5767001.924173335,-6080397.338627312,-6089174.89721744,-5980658.062101071,-6016127.339632554,-6022726.780371274,888953.4463827377,737391.2519306059,923112.5263839201,1048471.8289207162,1202098.896845669,519358.76424175984,223429.05637333164,389091.9243442632,331543.6612450536,282649.8652399814,-7809678.394795446,-7812175.454483186,-7814218.5033187345,-7812175.454483186,-7806273.313403003,-7269106.4112686645,-7269270.790176869,-7268778.722766497,-7267488.163911313,-7271842.963162997,-52893.69013460843,-50623.63592532137,-37043.884116649155,-52080.809832542785,-34773.82985333692,-2371694.876938634,-2351593.0441715536,-2395266.051604561,-2343231.899990681,-2371604.074734858,-3349787.220725998,-3346286.9979863414,-3347517.166512272,-3343826.660934483,-3346286.9979863414,3564008.825576131,3559226.072300184,-1294989.1874621524,-1439165.5829855197,-1626085.2452166337,-1594628.5770561441,-1624042.1963053332,-7021917.134859973,-7021917.134859973,-7021917.134859973,-7021917.134859973,-7021917.134859973,-2116531.489802805,-1253161.6113282992,-1530422.6833568735,-6495394.651959466,-6630798.815862119,-6622187.636196431,-6519792.412853398,-6531259.607459767,-6799809.08782088,-6807411.115947434,-6805838.282539677,-6806100.421440883,-6808983.949354472,-7465087.70194779,-7472003.853335783,-7410135.169812495,-7456379.670458129,-7478053.289427854,-3820044.7488761265,-3820044.7488761265,-3822314.803143622,-3820044.7488761265,-3820044.7488761265,-6690599.296539251,-6679653.003057346,-6674753.520723071,-6677277.647750433,-6695627.370815791,2106392.0687297587,2106392.0687297587,2106392.0687297587,2101281.1118709543,2103551.1661259024,-3318582.1704329867,-3317978.267088346,-3317978.267088346,-3317978.267088346,-3320248.3213432934,-2983374.5990550485,-2976769.745559205,-2981917.4251024243,-2976996.750998705,-2982144.430529119,-4561678.912298662,-4561451.906863345,-4563948.9665661575,-4563948.9665661575,-4563948.9665661575,-5825157.607873706,-5985266.5542012965,-5852212.593919189,-5827009.7763908105,-6045090.589829683,-7242676.390733596,-7242699.355976719,-7246201.242910016,-7242126.165194571,-7244318.982822904,6599812.979865016,6599812.979865016,6599812.979865016,6599812.979865016,6599812.979865016,-5727997.661793054,-6362763.535092901,-6364506.090327782,-6372233.808765048,-6101939.067411963,-7619811.924601912,-7619208.021258314,-7616937.966996865,-7617541.870340464,-7617541.870340464,17286609.79694905,17286609.79694905,17286609.79694905,17286609.79694905,17286609.79694905,-3497833.0547642787,-3497956.0715850363,-3497606.0493788053,-3497606.0493788053,-3497956.0715850363,-6289167.028637337,-5816013.028246758,-6719958.523610616,-7224759.131518416,-7182485.891916937,-7007943.344816556,-7007470.305685878,-7007697.311111371,-7008085.389948842,-7007082.2268484095,-7215391.538252012,-7215331.1479175445,-7217661.592515323,-7216997.29883622,-7214787.634907372,-5720590.830392492,-5720288.878746219,-5720032.761526663,-5717541.852692384,-5718024.975347258,11729590.864495758,11729590.864495758,11729817.870370012,11729590.864495758,11729817.870370012,-7629855.347518218,-7804126.498727304,-7783804.927390615,-7785160.576581201,-7754560.09226576,-7420776.684699117,-7419378.762271784,-7420441.179573539,-7419766.8257398615,-7421552.8089580415,-1968551.957889613,-1982658.5177517491,-1969553.8151782723,-1981305.151938857,-1979639.0010285494,-7734375.875204187,-7784212.461556103,-7778933.449335941,-7786827.811532398,-7739642.809357458,-1154285.2622342221,-1158221.4673994763,-1155347.509799889,-1155951.4131445296,-1158221.4673994763,-7173987.7811551,-7176030.829988797,-7176257.835414294,-7176257.835414294,-7176257.835414294,15332110.00419753,-6930127.761558019,-6955870.406604392,-6861932.413193268,-6795294.133367171,-6701130.263295206,-2700659.6488421424,-2700659.6488421424,-2702929.7031054543,-2700659.6488421424,-2702929.7031054543,-5273835.015219869,-4876828.7569578495,-5188013.444846772,-5740388.57733021,-5028395.169949777,-6974680.641651619,-7000543.197004436,-7000894.531753165,-6969377.473298416,-6967103.87038383,-6702172.991849589,-6702399.997275084,-6702172.991849589,-6702172.991849589,-6702172.991849589,-6515112.679281234,-6864571.879204342,-6836867.72317488,-6978007.378983604,-6752308.198956902,-7177440.21585324,-7237012.048480749,-7192052.542945296,-7196394.501985632,-7176248.082444904,4947041.01634721,5329053.007771811,6061729.62463197,4985186.251989982,5265688.7800728,-2463489.3257324286,-2428533.9200563314,-2340034.696624346,-2316762.9862672742,-2298449.356137698,-7707655.662790014,-7718332.331973507,-7732043.656871561,-7721993.9096945105,-7733326.991784881,-2822064.547321236,-3705042.12311109,-2517207.741328847,-2805245.140133744,-817144.6865795619,1233513.6230801325,1231847.4721698244,1234344.5319035638,1231243.5688251848,1234344.5319035638,-4578403.882069796,-4554403.476642817,-4566139.284314391,-4572726.261029957,-4572664.752620542,-903305.4186935698,-903305.4186935698,-901639.2677832627,-905575.4729485172,-632347.1125731324,-3343645.2640538947,-3400808.6823804206,3603953.713456346,-1767304.3151752057,774439.6466528795,-5868160.931585947,-5868160.931585947,-5868160.931585947,-5868160.931585947,-5868160.931585947,8471982.184238495,8487784.092278665,8493874.544537384,8496334.881589243,8493934.934908314,-4881848.725002905,-4881244.821658266,-4881848.725002905,-4878974.767447051,-4886154.314842695,-6761464.148363701,-6819709.401494683,-6821166.575445082,-6763673.812291521,-6819936.4069243595,-6437941.406199506,-6376023.990523793,-6363089.449179387,-6486616.108756215,-6240727.809617255,2267412.586918104,3616811.179582674,5166756.253730987,2096215.030641187,2511155.0920955734,-4441065.81357287,-4424626.281486603,-4414733.184114302,-4440970.672146146,-4423586.39574922,-6769624.263015042,-6769397.257585365,-6769624.263015042,-6769624.263015042,-6771894.317274231,-7313517.586418083,-7314510.689357899,-7313846.395684004,-7313846.395684004,-7315136.954539188,-2937876.1369422018,-2937876.1369422018,-2940146.1912067696,-2940146.1912067696,-2937876.1369422018,3504298.5788085302,3504298.5788085302,3504298.5788085302,3504298.5788085302,3504675.4767676955,14207258.379821735,15031993.043822119,14334114.788598642,14117533.56737075,14279361.519567158,328035.37206479744,328041.4111227291,328035.37206479744,325771.3568677814,330305.42631974415,10481819.738734772,10463432.29966856,9238472.822459433,10513576.342742551,10509072.467822267,16546794.014095074,10188829.061844697,16466888.10467758,6927756.174023354,9927489.916360281,-3011543.9679826726,-2510858.6671491466,-3008922.5789706316,-2804454.236168213,-3038109.1928500463,-2480465.8358110087,-2480465.8358110087,-2480465.8358110087,-2480465.8358110087,-2480692.8411923014,37006.01962998515,613519.0749515295,149745.54141889422,-5255.692529879549,362989.49755338015,-3781252.3257595445,-3781252.3257595445,-3778982.2714962307,-3778982.2714962307,-3778982.2714962307,-5107743.601926578,-5103203.493395771,-5107139.69858194,-5104265.740969803,-5101995.686706491,-7165877.894418271,-7168147.948681587,-7165877.894418271,-7168147.948681587,-7168147.948681587,-3719860.1932378407,-4119664.963528253,-5037370.682279966,-4413294.675116132,-4300309.453734259,-7089540.453616575,-7107920.35003819,-7102091.850304305,-7099908.811935876,-7101807.3474226985,-6087020.5049513,-6099272.097963046,-6103941.473835238,-6126625.206496621,-6033787.474623765,-5809472.364192408,-5811376.879361176,-5842535.041496679,-5841795.60646936,-5812349.989430594,-7429058.558987613,-7429058.558987613,-7429058.558987613,-7429058.558987613,-7429058.558987613,-621202.3607830658,-621202.3607830658,-621202.3607830658,-621202.3607830658,-621202.3607830658,-6545719.972055025,-6545719.972055025,-6545719.972055025,-6545946.977453205,-6545946.977453205,-6411275.327239717,-6411275.327239717,-6411275.327239717,-6411275.327239717,-6411275.327239717,-7107729.293636269,-7107729.293636269,-7107729.293636269,-7105459.239376912,-7107729.293636269,-7611068.834661188,-7618705.996264654,-7649846.156798184,-7261593.187598301,-7536839.033617416,-7265349.892483875,-7265803.903336955,-7266711.925037298,-7267846.952169369,-7263079.838219309,16266152.62831398,-7085275.739409498,-5715897.64480012,-7257669.818742251,-5763857.4921416165,-7223890.834870048,7409176.449932035,10903082.063117744,10324675.851079278,10300072.480560688,7101634.318970581,-7726062.0108099375,-7719705.858878155,-7723791.9565483155,-7712895.696092341,-7715619.761206625,-6420300.480394499,-6385834.73826787,-6399347.563752179,-6309459.362841346,-6323965.896490804,-7417067.358121024,-7419326.789904152,-7417056.735651454,-7417079.436190003,-7417056.735651454,-6153899.375447197,-6483571.299418501,-6481301.245164516,-6480697.341819878,-6436737.631995245,-4537370.223555281,-4544751.234710859,-4537370.223555281,-4543330.783400566,-4543521.06618493,-6204587.361950343,-6198067.468858425,-5517292.207691385,-6468126.364858056,-6076059.354620148,-6523564.8606718695,-6516527.692457462,-6370790.208866531,-6348770.682525782,-6500637.312630167,2604615.810468464,3039951.0728307897,2835844.8320861636,2992266.122940401,2850178.196248452,-2576906.050948075,-2558453.5231131553,-2592898.2417330644,-2590437.9046812053,-2506786.4451302304,2201970.1040265486,4217468.769468013,2013282.359302839,2723496.3330752486,1921547.4334779182,-7681258.548499094,-7681388.440950624,-7686118.83225986,-7681198.1581646325,-7681198.1581646325,10504744.949362578,10504744.949362578,10501915.561742326,10504744.949362578,10504744.949362578,-7111244.746066215,-7096059.925017673,-7153161.7133616805,-7106001.968042077,-7148212.611134634,-7727170.026112365,-7722064.545216093,-7726431.925003098,-7725010.687018601,-7724211.582626161,-5669141.408534407,-5668310.49975445,-5668914.40309909,-5671184.457366585,-5668914.40309909,-4286569.266232149,-4282029.157722254,-4286569.266232149,-4286569.266232149,-4286569.266232149,-7818476.779164309,-7818489.080849513,-7818495.231692403,-7818495.231692403,-7818495.231692403,-6313761.512447923,-6259895.552342263,-6253719.097671538,-6259582.427772679,-6271646.050824506,-4991689.341415848,-4991025.047700277,-4990783.486372841,-4991930.9027432855,-4990819.720564141,-6271546.322888577,-6216657.776689056,-6223467.939479054,-6203037.451115549,-6294817.713855629,-4724950.4180336455,-4613849.527143892,-4675156.508814402,-4705173.9681519605,-4614357.848854991,-5724187.435465583,-5724187.435465583,-5724187.435465583,-5724187.435465583,-5724187.435465583,-7560037.900771242,-7536362.609190601,-7567479.8478142535,-7580831.623534719,-7589263.905392474,-7601351.005898444,-7601411.396232907,-7599141.341973505,-7599141.341973505,-7599141.341973505,-6192641.913167705,-6333563.328025402,-6328179.650298514,-6341742.663575297,-6345173.8719938835,-6685624.093147067,-6685624.093147067,-6685624.093147067,-6685624.093147067,-6685624.093147067,8584243.535650345,8584470.541131064,8584243.535650345,8584243.535650345,8584243.535650345,-6197598.470850484,-6197765.085929491,-6197598.470850484,-6197598.470850484,-6197825.476248326,-7782246.26332503,-7778849.848689075,-7779830.649950583,-7779076.85411572,-7778622.843263387,-7375088.532896502,-7369413.397252955,-7374180.5112038525,-7369413.397252955,-7372818.478642522,-5837716.287683162,-5815560.952587413,-5788631.442809102,-5816723.855146807,-5836965.884917364,-5333480.181329513,-5333480.181329513,-5333480.181329513,-5333480.181329513,-5333480.181329513,-7464952.144258518,-7464725.138832707,-7464725.138832707,-7464952.144258518,-7464952.144258518,-5244240.647856708,-4413172.436095966,-5622204.476648,-4295937.248867328,-4424120.755500893,1067846.6099480772,1055544.9246887814,1067846.6099480772,1067846.6099480772,1067846.6099480772,-4583481.1487658685,-4583481.1487658685,-4583481.1487658685,-4583481.1487658685,-4583481.1487658685,-7499323.503617415,-7499263.113282952,-7499323.503617415,-7499323.503617415,-7501593.557884913,-6812515.359765647,-6812515.359765647,-6812515.359765647,-6812515.359765647,-6812515.359765647,-6356681.559217409,-6356681.559217409,-6356681.559217409,-6356681.559217409,-6356681.559217409,-7083002.741256825,-7066688.446519304,-7089739.5445478605,-7065619.329954202,-7048880.126511585,-7119075.634437783,-7118848.62901229,-7118244.725667653,-7119075.634437783,-7119075.634437783,-7284913.999641005,-7284913.999641005,-7284913.999641005,-7284913.999641005,-7282643.945373507,9961972.821369508,9991060.79585759,10093889.023338763,10233221.01777237,10279521.390176104,-7479704.73575255,-7479931.741178046,-7479704.73575255,-7479931.741178046,-7479931.741178046,-3077911.618278409,-4089643.446774486,-3665329.7619142616,-4087146.387075694,-3714557.8128744564,-4331848.874687909,-4338036.439947948,-4334309.211687671,-4332661.754979963,-4338812.597555585,-7726784.927730235,-7725938.41445174,-7716139.124569616,-7727735.429582366,-7723195.321059125,-3178971.6107367533,-3179771.835884141,-3181431.9477886125,-3179161.893533665,-3179765.7968783043,-2616216.329346489,306077.1599842421,-2119307.955387915,-2311076.480107467,-3128044.2947140313,-7389297.986350342,-7371221.217602006,-7385541.674380971,-7374563.937084536,-7356073.380729614,-6312059.7700034985,-6312059.7700034985,-6312059.7700034985,-6312059.7700034985,-6312059.7700034985,-7790319.12131198,-7787432.862021502,-7787432.862021502,-7790258.730977515,-7789702.9162831195,-7198417.405464422,-7234627.558492976,-7180317.361712233,-7188774.616405767,-7215141.996889601,-3222078.7384871906,-7133523.695870428,-7095115.443219054,-7123836.463931964,-7117555.869158128,-7106262.876628988,-6915728.737592018,-6993146.950719639,-7117037.843492612,-6930811.588541454,-6960726.447780138,-5774046.448308699,-5774877.357145504,-5789530.92169852,-5788927.01835388,-5788700.012861714,-3437938.028104533,-3435667.9738370376,-3435667.9738370376,-3435667.9738370376,-3437938.028104533,-6190449.209325823,-6222206.585564658,-6193722.426705776,-6190222.203916535,-6190222.203916535,-2229217.6163990395,-2227405.906417216,-2224990.2930386565,-2226175.737891286,-2223737.7626760774,-5855935.3238567095,-5842772.520639873,-5854436.421093537,-5849613.275771092,-5879418.35625554,-3698749.268096255,-3711915.582888876,-3682858.8882488236,-3707829.485149567,-3703289.37661876,-4834397.651906391,-4836894.711596399,-4836667.706169703,-4835627.82043232,-4837897.874695634,-1188067.3538353401,-1192353.9153669956,-1062079.0687575715,-1113519.1413550207,-1195940.4323800658,-6200142.435350911,-6202412.489614223,-6200142.435350911,-6200142.435350911,-6202412.489614223,-6502131.88227262,-6504628.941961489,-6504401.936531812,-6502131.88227262,-6504401.936531812,-7222574.665012558,-7222328.631307373,-7220304.610757517,-7222592.541790544,-7222764.7653820515,-6835410.685773193,-6833140.631509449,-6833140.631509449,-6835410.685773193,-6833140.631509449,-293832.7676129936,-188899.3925528236,-47362.74636938923,-220816.50825920465,-148057.79755563132,4157567.920497132,4161258.4260749198,4171099.7742823586,4182171.2910157256,4203084.155850409,-7093718.155857913,-7093718.155857913,-7093718.155857913,-7093945.161283412,-7093718.155857913,11486326.668699935,11484056.614444986,11484056.614444986,11483452.711100345,11483452.711100345,-7142329.132410276,-7144007.585012279,-7144599.186674846,-7145215.391701561,-7142329.132410276,-7078401.028264668,-7068251.218759369,-7060294.945481853,-7086389.885916919,-7055078.30393971,9054830.701884083,9057100.756180858,9054830.701884083,9057100.756180858,9054830.701884083,-7329060.417678768,-7329060.417678768,-7329664.321018199,-7329060.417678768,-7329060.417678768,-7243235.08730088,-7243462.092730557,-7243235.08730088,-7243235.08730088,-7242231.924204628,-7124951.814566475,-7067730.176879977,-7089628.294696212,-7104081.435811135,-7114587.96814205,-6873169.79016569,-6892712.959120161,-7184635.50829834,-6802095.91639693,-7115586.77585867,-6767172.893677716,-6741521.280517528,-6764276.174436313,-6746061.389034822,-6751282.513846299,9255093.863657773,8704829.177080527,11744727.036620239,12405300.783828653,9304552.078778822,-6794474.862060996,-6792372.550799767,-6804639.690990631,-6800911.128858669,-6801013.783513318,-1072116.7066539817,-1076656.8151536074,-1108437.5748483508,-1092547.1949800653,-1151341.6004207642,-7080473.349086185,-7080473.349086185,-7082743.403341421,-7082743.403341421,-7082743.403341421,-7124753.172042796,-7125357.075387438,-7125357.075387438,-7127023.226301988,-7122606.134627893,16189202.95297943,22411502.0597534,17286110.934559956,-6801732.191408516,-6795603.044904837,-6809763.994197913,-6777442.610807154,-6791062.936379824,-7216587.874351679,-7230208.19992435,-7174060.746722652,-7171790.692464743,-7220524.079530771,-3594156.708428369,-3600911.454402657,-3592527.2801545393,-3606872.0142437597,-3594760.6117730094,-7857813.440997147,-7857586.435586027,-7857813.440997147,-7857813.440997147,-7857586.435586027,-7384205.536222647,-7381487.97117698,-7382056.262627008,-7384084.755553721,-7378478.676987318,-6676589.154203103,-6675985.250858464,-6675985.250858464,-6675985.250858464,-6676589.154203103,-6891350.72267385,-6847377.589293546,-7002932.599096734,-6899050.726798979,-6769956.599364766,8055821.199384633,8053551.145129687,8058091.253639582,8058091.253639582,8055821.199384633,-5501078.316795636,-5501305.322181108,-5500457.6908628,-5519011.745438147,-5513790.620636685,-6941665.243279909,-6941952.639039868,-6941665.243279909,-6941725.633614374,-6941725.633614374,2234919.540154818,3513565.636258551,1813510.6587047165,1084537.7825733337,6901719.558962967,-7829047.692380504,-7825569.831433767,-7826692.469341618,-7826209.346665902,-7824603.586082345,-7550229.956961121,-7496975.174602387,-7534041.225951292,-7588265.617881955,-7553255.936249635,5886396.43378658,2562671.3656640234,4038873.59423271,2566361.8712418117,5886396.43378658,-6261423.26459741,-5646797.623882232,-5921021.299915828,-6287402.528765997,-6219443.005332589,-6678819.8879878,-6529969.496605003,-6491834.272364857,-6537123.502319265,-6542271.181843076,-1268221.0230101272,-1265950.9687133522,-1268221.0230101272,-1268221.0230101272,-1270491.0772650735,5872915.93784616,6205583.082351079,5218321.936259335,6000937.318461268,6204069.686749701,18844723.099962782,10502205.620948987,13638495.568545183,11113949.68576112,17730546.70145194,2123304.099801004,2124761.2736705807,2124911.166234002,2124534.268326934,2124534.268326934,-7594278.8960626405,-7592871.077855877,-7589813.566730359,-7592992.8095701,-7582968.221240665,-5571849.055898186,-5595090.222260125,-5666219.0603048485,-5663246.336514741,-5681596.059597023,-3491654.6951324404,-3443379.6522787972,-3495590.900339522,-3457603.881236775,-3517987.324575952,-6964871.088708445,-6965978.24038178,-6963961.655152046,-6965117.1224136315,-6964871.088708445,-817477.9718644606,-803857.6462929503,-698073.1176971814,-647373.7947533854,-806277.5930675621,-6827772.895488125,-6823459.792388023,-6825502.84122584,-6827168.992148697,-6825729.846655519,-7533073.843348728,-7519005.657774695,-7506060.197635509,-7516962.608936879,-7508336.402741046,2490129.3369224584,2515160.3241814636,2496999.8900582306,2496999.8900582306,2501479.608239021,-7345084.857193308,-7345084.857193308,-7344857.851766977,-7345084.857193308,-7345084.857193308,-6775091.081076912,-6777361.1353348205,-6776130.966814293,-6776130.966814293,-6776130.966814293,-7862133.086548345,-7862133.086548345,-7862133.086548345,-7862133.086548345,-7862133.086548345,11081323.818920035,11102647.302654833,11092109.91168181,11078815.244000714,11004562.637336148,-145756.12521391004,-148026.17946885742,-148026.17946885742,-145529.11982843527,-148026.17946885742,-7567922.046697938,-7567922.046697938,-7567928.19754428,-7567928.19754428,-7567915.895856994,7695519.614757729,9335349.25781827,9711253.57011063,9460019.301892323,9999528.222014446,-5946677.967142243,-5944634.918326196,-5944008.653144905,-5943177.744405772,-5945447.798616312,-7790064.666442003,-7778949.896589558,-7786453.377338031,-7786907.3881902825,-7780311.929145847,-7173270.03348124,-7077622.175894995,-7193766.002954536,-7139110.084344347,-7133986.091964974,-3699156.4461578056,-3699443.841870299,-3678243.5812170003,11515752.820459435,11513482.766001893,11515752.820459435,11515525.815084215,11518022.874978099,-6980233.50007986,-6980293.890414324,-6980293.890414324,-6982503.554339023,-6982503.554339023,1253721.599211106,1254325.5025557457,1252055.448300799,1254325.5025557457,1253721.599211106,-6861521.716298838,-6861294.710873343,-6861067.705447848,-6861294.710873343,-6861067.705447848,-5838434.674693537,-5816116.384916624,-5824675.815514654,-5849784.946014346,-5818159.433782155,7401205.201858584,7400578.936677295,7399975.033332654,7396474.8105517775,7399975.033332654,-6874518.522798204,-6880874.674731943,-6869751.408851428,-6889046.870068482,-6889273.875493977,-7393645.767619075,-7424395.872682729,-7383403.933721404,-7412439.890483045,-7414147.887938714,-4734632.479653813,-4848986.465788764,-4736960.621472908,-4874896.092365487,-4705363.981638017,-5741717.013200619,-5739446.958937308,-5741717.013200619,-5741717.013200619,-5741717.013200619,-6635565.531613087,-6640044.475091975,-6838234.466031206,-6848525.427350824,-6634134.05306048,-5507274.847798186,-5518990.572377612,-5495749.406015672,-5514099.129077162,-5516720.518122664,-7370170.0856188545,-7274994.606818628,-7276497.563744311,-7338837.944134713,-7327071.969321651,-7695862.424161085,-7715611.896237733,-7687917.2342456225,-7719697.993907893,-7717972.752669429,-7681080.55627579,-7683350.6105369935,-7683350.6105369935,-7681080.55627579,-7683350.6105369935,-7301306.08094394,-7137067.402095322,-7274015.367990442,-7299848.9069925165,-7276475.7050423,-7191866.135239763,-7043474.088086357,-7192324.479469157,-7018244.452428924,-7028085.800620345,-6549613.9273206685,-6549613.9273206685,-6547343.873056101,-6549613.9273206685,-6549840.932730794,153169.3439500203,153169.3439500203,153169.3439500203,153169.3439500203,153169.3439500203,705040.7483733622,156812.34706639528,-966230.5620509977,190890.40423055823,3080381.525233097,-6632837.2616027435,-6507612.62050411,-6434054.066012263,-6797233.204863242,-6582236.264516581,-3688012.5986333247,-3688012.5986333247,-3688012.5986333247,-3688012.5986333247,-3688012.5986333247,-3738813.060553292,-3738813.060553292,-3738813.060553292,-3738813.060553292,-3738813.060553292,-3636165.8568303413,-3657830.383749076,-3497856.826505996,-3815160.571954087,-3688344.223576344,-1433069.8575211435,-3374940.7735559344,-4239999.146716175,-4659648.39375639,-255714.85741302304,-7000356.932594924,-7005042.600232842,-7002626.986859492,-7000960.835939566,-7003834.793543563,-5346602.62200418,-5337295.399565455,-5344332.567740867,-5344559.573176184,-5347510.643734898,-290357.74256028567,-2125330.0493379845,-51558.77407657592,-2908860.493032037,-1834090.9990147604,-7068397.167242558,-7365435.059012112,-7192230.052090843,-7273536.494080221,-7397446.4549269425,-5902271.262893646,-5902271.262893646,-5902271.262893646,-5902271.262893646,-5902271.262893646,-659654.2308944697,-659654.2308944697,-661499.4836823995,-658424.0623685401,-657808.9781046109,-7327385.373496051,-7327385.373496051,-7327385.373496051,-7327385.373496051,-7327385.373496051,-7533032.300376932,-7533032.300376932,-7530762.246117742,-7533032.300376932,-7530762.246117742,-5944701.250804873,-6013802.100559033,-6300891.023307091,-6282799.618356196,-6127694.529546685,-7027007.48280766,-7025967.597070276,-7028237.651333589,-7024737.428549556,-7025967.597070276,-6529993.374228655,-6529389.4708892265,-6529389.4708892265,-6529993.374228655,-6529389.4708892265,-3229321.489203872,-4725525.568566342,-3228151.7110488727,-3228782.2623871746,-3913532.910121569,-7753143.401371269,-7753203.791705732,-7753203.791705732,-7753143.401371269,-7753203.791705732,4219924.03265671,890759.9902693602,-6268050.282395254,-6266309.018206273,-6263602.647432827,-6269015.388930904,-6266043.956215994,-6278367.863643026,-6278367.863643026,-6280637.917906338,-6278367.863643026,-6278367.863643026,-6504070.429726355,-6550273.438904013,-6448079.293472855,-6318163.090529108,-6504061.582599535,-1864009.0896387752,-1861135.1320391877,-1864009.0896387752,-1863405.1862941359,-1861739.035383828,7492467.4319670955,7337030.21552782,7492407.04159616,7336365.921864345,7338635.976119293,-5891544.640913376,-5827152.212845413,-5807325.627780466,-5893664.802721136,-5879286.34790236,-6919947.441402461,-6917677.387138311,-6917677.387138311,-6919947.441402461,-6919887.051067996,-7133888.716132976,-7136158.7703962885,-7136158.7703962885,-7133888.716132976,-7136158.7703962885,-4635781.677957803,-4638051.732221115,-4638051.732221115,-4638051.732221115,-4635781.677957803,-6527325.39396243,-6524819.487080425,-6521755.246683925,-6528819.290575761,-6519834.2148884535,-4445998.121756478,-4771302.927464477,-4487286.58654373,-4584547.035125502,-4549885.020445461,-6363230.797642392,-6351880.526330979,-6370040.960427181,-6358690.689111583,-6397508.616994289,-6977330.118839703,-6914775.767879643,-6939821.159786055,-6878306.694558602,-6958877.590982593,-5524165.175136608,-5528705.283561294,-5528705.283561294,-5526435.229347823,-5526435.229347823,-6784784.866799691,-6567209.578985222,-6567209.578985222,-7225178.220435778,-6745464.031651466,-7600589.498093501,-7329952.422850505,-7145433.183311305,-7545231.914522177,-7569841.324030203,-6214678.003177166,-6558079.96345569,-6392932.455841468,-6573808.297518532,-6544973.018404888,-7141710.396801608,-7140879.488031471,-7141710.396801608,-7140879.488031471,-7141106.493456966,-6160425.231066669,-6162133.228526462,-6162133.228526462,-6160652.236461165,-6162133.228526462,-6134108.661643885,-6168363.097527087,-6173720.088109745,-6145180.178361237,-6182756.06925924,-7739338.872277195,-7737068.818015571,-7739111.866850441,-7728442.611821755,-7728442.611821755,-6827750.776132831,-6826520.607612306,-6830401.395966773,-6837592.124324449,-6830211.113184691,-7131459.302685156,-7123709.240987816,-7128033.859096811,-7128383.881375737,-7128875.948786106,-2770169.075162797,-2752681.653889425,-2758728.5078610377,-2740029.9463305804,-2738128.9426440243,-2324395.7724929717,-1859377.751735586,-1933154.5152614054,-1935197.5641727052,-1893201.5602876034,-1942688.7431872878,-6022386.87763701,-6182942.5180346165,-6348170.6346562905,-5877752.1379225105,-5018263.065774053,-7158760.055937037,-7160705.963736668,-7155740.719635662,-7161555.900787014,-7156814.148132201,-4541440.869897414,-2544776.398378281,-4894359.690224864,-3972797.8674080446,-4948064.060696656,-6572954.176455478,-6572954.176455478,-6572954.176455478,-6572954.176455478,-6572954.176455478,-7531858.616234316,-7534480.005245813,-7655185.504694617,-7594998.957894324,-7657374.536070031,-7644138.966736252,-7635500.684690039,-7599575.353570217,-7634452.1290851,-7623931.439573349,-3745424.5121649113,-3742919.6050918875,-3744138.5926985284,-3742539.3736042073,-3744384.626394067,-5137313.966820867,-5106816.573999636,-5071413.54961557,-5074652.132126558,-5015429.567118471,-7539014.913735529,-7536226.909631711,-7540780.789343383,-7540780.789343383,-7538727.517975256,-5545099.248582289,-5567659.570231227,-5546746.705290423,-5499583.01312289,-5515802.209353635,-7620486.9772587055,-7721002.455399777,-7692988.489907677,-7488875.305247569,-7694727.022827267,-6818696.964011432,-6818696.964011432,-6826561.131044095,-6826561.131044095,-6823939.742036811,3104104.7390062055,3172865.686976487,3206220.4581612,3129075.3358942796,3156315.9869730067,2326739.3097204426,2327343.213065082,2336401.763182584,2351957.6910196096,2336256.2041110685,-4006943.9013555944,-5482442.266288843,-6447826.987071108,-6891197.77557403,-5276253.444507401,-7015433.148048523,-7015666.192505902,-7015660.153474019,-7015660.153474019,-7015893.197931397,-6740875.780848005,-6715042.2418675395,-6626869.367898728,-6595111.991714754,-6587730.980564385,-1759293.1700241044,-1760535.6402330745,-1759774.0564958914,-1760535.6402330745,-1761004.2250218207,-4810728.176112654,-4810955.181546043,-4810955.181546043,-4810728.176112654,-4808685.12728273,-7254155.493994024,-7254324.586933649,-7229721.216457506,-7267977.221366577,-7254330.625965532,-6478861.29991588,-6439495.907176622,-6407324.910385397,-6411828.296282367,-6462682.494005345,4260270.228961607,2856184.432070864,2057990.2849560452,3568842.2718862128,1932765.7799555853,1335832.0115347393,1335514.2039346138,1313957.0454265536,1322810.25704867,1491473.1999222573,-3817110.5656308997,-3966151.239811231,-3964730.788530216,-3999175.507150128,-3968421.2941080066,-5078564.812300777,-5041063.515919413,-5139561.170246343,-5076306.108276054,-5076045.052052196,-3813231.0384080075,-3835007.410302024,-3662449.6607817193,-3360989.924631623,-3620053.5115404106,-6848470.664801063,-6831930.655662757,-6788874.757329504,-6697465.388646181,-6820859.138950613,-5729888.073368072,-5735811.910591406,-5728657.904842141,-5734808.747466581,-5725970.562394388,-7282558.1967981905,-7296693.953906832,-7287478.870891296,-7289312.942761865,-7292399.544984403,-7256261.0134398835,-7277871.9300162615,-7280368.989703851,-7261482.138245955,-7256261.0134398835,-7275567.301759262,-7274550.898627489,-7276797.470285191,-7278599.27383412,-7269619.0436108485,-6581731.262236594,-6581854.279089187,-6581854.279089187,-6584124.333348379,-6581854.279089187,-4174867.718372314,-4213002.942570012,-4300154.625020532,-4044279.5720516476,-4331289.403741685,-629387.9517155973,772045.7010955114,-784930.6960040996,243206.12105463995,-762871.4391439416,-2930788.5689254054,-2927061.3406657376,-3080071.2750488827,-2951219.057210269,-3080107.9976786645,-3415252.034469542,-3418081.4220897933,-3398436.6679357532,-3445030.0591725926,-3400442.9727378893,-6731918.805510665,-6731918.805510665,-6731918.805510665,-6731918.805510665,-6731918.805510665,-6993351.810961309,-6993351.810961309,-6993578.816386801,-6993351.810961309,-6993578.816386801,-7549113.073481073,-7552871.631651134,-7549236.090327744,-7548374.972366039,-7550576.974021587,1905362.4055259102,-769724.5168113718,599387.8252194594,390430.4287389772,1084126.1374477968,-7780242.593949428,-7780075.978858514,-7780242.593949428,-7780075.978858514,-7780182.203614965,-6528078.480031518,-6491027.6991507895,-6640798.2074532695,-6643068.26171246,-6640798.2074532695,-7749798.395917297,-7749786.094232039,-7749786.094232039,-7749786.094232039,-7749786.094232039,-1259055.7241137177,-1218943.8652401338,-1247319.5435639936,-1210317.6590137614,-1254356.7117143106,-7453152.015769369,-7454081.1863391595,-7455115.648669168,-7451811.132081034,-7455299.053180407,-3871923.4312456087,-3869653.3769810414,-3871923.4312456087,-3871923.4312456087,-3871923.4312456087,-6788301.296582802,-6786031.242315305,-6786031.242315305,-6785804.23688981,-6788301.296582802,-7452099.816734754,-7465480.835198602,-7464631.019092754,-7474392.252421105,-7477882.869857662,5351000.264147077,9707668.927411161,9790152.481289135,9541701.61456757,10391716.11197114,-128471.23476856874,-126201.18051362118,-128244.22938309383,-126201.18051362118,-125974.17512814651,-7634831.851407139,-7634831.851407139,-7634831.851407139,-7634831.851407139,-7634831.851407139,-7179557.826095764,-6926112.079387206,-6988422.172518536,-7078323.915275158,-7146381.422269059,-5008968.187681597,-5208870.572879864,-4889272.790362368,-5086222.771067532,-4676453.635748924,-2347224.680145453,-2361886.2253701026,-2356892.106037162,-2352029.8507008483,-2349173.9214460053,-7083222.814694862,-7120883.934313893,-7126881.6985760275,-7091909.111899549,-7123524.1256591,-624875.7862419247,-859661.1035342714,-145308.04384156503,-1030654.7077812199,-446747.89691903343,-4054841.9668930233,-4056508.117803331,-4050357.275227709,-4056317.8350482467,-4052627.3295244826,-7300518.795616128,-7295911.421154371,-7299411.64394279,-7300518.795616128,-7300641.81246872,-5957321.675911198,-5961012.181488988,-5954984.355680096,-5955599.439996121,-5958484.578466471,-7020190.039292134,-7020190.039292134,-7020190.039292134,-7020190.039292134,-7020190.039292134,-3166440.414385845,-3169963.1794695775,-3166462.7762224954,-3174302.3387854532,-3172982.6961927777,-3173288.0744280056,-3249558.522929523,-2966619.76244421,-3399639.082828605,-3148684.703963437,3076818.2061543926,3079088.2604511664,3079088.2604511664,3079088.2604511664,3074548.151899445,-6145966.950281917,-6140554.345570953,-5869667.234884031,-5818738.74822747,-6083744.08004323,-4298124.756305605,-4298866.162928206,-4291793.382809851,-4296369.103194467,-4299032.777994846,862430.9313082845,774890.2750029895,767769.5891441789,948500.7663318365,872182.4197985082,7720496.329152972,7718286.665268956,7720556.719523902,7718286.665268956,7720556.719523902,-3526807.332403384,-3527034.3377888575,-3526203.4290587436,-3526430.434444218,-3526203.4290587436,2439102.2425736496,2819590.858856407,2364923.0805555996,2384359.74322284,2421879.8832106343,-5875293.207685257,-5792881.29427549,-5692247.945513341,-5639535.019476574,-5875293.207685257,-242537.92848472347,-5320910.590127071,-5323661.5309059005,-5323057.627561261,-5323907.564547416,-5323527.333113761,5123060.888900996,8309197.365160419,6978155.022342712,710938.461152967,4404642.470763329,-7635737.385808453,-7638007.440071154,-7618960.496144923,-7635737.385808453,-7635737.385808453,-5761765.537933179,-5769179.604071942,-5784693.086001368,-5789460.199965566,-5750415.266653655,-7073386.1417185385,-7075656.195976448,-7075656.195976448,-7075656.195976448,-7075052.292631809,-6976475.344527768,-7080575.15464832,-6996057.495118627,-7107829.975308855,-7064386.82575557,-7014898.0575713655,-6996343.7187310895,-7043792.835030414,-6908738.025477406,-6990097.734718616,-7294468.0313866325,-7283096.257720822,-7274290.622176036,-7291582.6797122285,-7313685.405926242,-7202318.65886513,-7200246.400650741,-7199981.338671267,-7200719.43978142,-7201580.557749573,-2962348.4952685786,-3013351.4174729344,-3604775.0817336063,-3606596.851921135,-3200037.3357104585,-7725843.241937957,-7738842.991240066,-7739345.121491585,-7737967.559022416,-7717977.748382319,-7303833.948105488,-7301563.893846299,-7301563.893846299,-7303833.948105488,-7303833.948105488,-7729614.087352464,-7729614.087352464,-7727344.033090841,-7726740.129747191,-7729614.087352464,-6626356.351700802,-6627734.140443478,-6628085.280818704,-6626528.575292312,-6623114.281889544,-6899702.481714978,-6886021.76581241,-6890622.264672278,-6881481.65728681,-6883751.711549096,-5406833.567923128,-5396992.219715689,-5368698.343619308,-5399225.551372636,-5403143.062345339,-7576526.610362825,-7576520.459523447,-7576520.459523447,-7576520.459523447,-7576526.610362825,-6565892.6472141845,-6565904.94889626,-6565738.333805229,-6565738.333805229,-6565665.641788689,-6971365.996109922,-6968479.73681864,-6969083.640158068,-6969095.941850758,-6971365.996109922,-6419211.057250905,-6419211.057250905,-6419211.057250905,-6419211.057250905,-6419211.057250905,-6678299.265155862,-6676029.210897758,-6678299.265155862,-6676633.11423719,-6676029.210897758,-5086751.002211854,-5052116.000803398,-5123656.057937648,-5150529.482665529,-4924368.757107502,-3534985.122253994,-3223845.3489267025,-3275594.2720585424,-3301028.340631427,-3107637.8895058404,-7607296.2775638485,-7615014.4620526815,-7612744.407793519,-7611609.380661444,-7613652.429493859,-7044045.777811861,-7021902.744382173,-7040708.502467569,-7046859.345086604,-7031638.978566025,-2275703.6998333195,-6428462.331318388,-4523585.56202916,-6287202.157624671,-3513376.7660407983,-5581850.701427199,-5854702.163836145,-5802274.383704974,-5781076.266161513,-5854475.158438304,17776353.713434365,5363285.787639743,5363225.397320908,5363285.787639743,5363225.397320908,5363285.787639743,-1643060.9516881206,-1112658.001205089,-4111294.4139558254,-2844416.630070712,4511759.972642746,-7369808.349215659,-7369808.349215659,-7369808.349215659,-7369808.349215659,-7369808.349215659,-5930199.707387619,-5879150.893556702,-6018727.117432686,-5877484.742642151,-5944976.090473727,-4152936.297594809,-3924728.8554889197,-3941157.028664723,-4000395.400591772,-4133667.2217360265,-7478992.139442936,-7478765.134016605,-7478765.134016605,-7478538.128590276,-7478992.139442936,-5939240.073531118,-5974374.029619334,-5803810.466360232,-5969001.414341819,-5990879.190275366,-4676926.198500472,-4674342.844627855,-4670160.271608824,-4671144.406439215,-4672128.541217511,-6953730.35385845,-6950825.578777501,-6932561.0244941395,-6958895.695260489,-6951212.6992307985,-7245891.670452288,-7245843.581810514,-7245855.88349259,-7245843.581810514,-7245843.581810514,-3103132.930934569,-3801752.313593912,-3832403.636054645,-3691238.6530969227,-2972852.7628035923,-6997543.30625695,-6997316.300831455,-6997316.300831455,-6997316.300831455,-6997543.30625695,7112071.754263991,7109197.796618094,7109197.796618094,7109801.700327407,7109197.796618094,-5260141.016117067,-6676596.936368184,-5048714.361313353,-6616595.933557912,-5818848.209914974,-7629502.544255179,-7623727.8436169205,-7627466.222014549,-7615484.38059534,-7616734.911308589,-7567544.808364671,-7577834.831740567,-7572381.365848696,-7591182.582062354,-7575999.7600485515,6522758.556492872,7528846.126734974,8879761.448141504,7292844.052875874,6175660.750334767,-6152516.920282546,-6153828.715527153,-6152887.091609477,-6155403.179549743,-6156098.769794648,-7025101.553392707,-7028660.860650206,-7029037.758569351,-7026767.704305978,-7029037.758569351,304941.7462647677,305545.64960940747,305545.64960940747,304941.7462647677,305545.64960940747,-6558501.137852325,-6558501.137852325,-6559105.041191757,-6558501.137852325,-6559105.041191757,-4986830.922609164,-4986830.922609164,-4986830.922609164,-4986830.922609164,-4986830.922609164,-2203593.863755974,-2203593.863755974,-2203593.863755974,-2203593.863755974,-2203533.473437139,-272847.04507631226,-1677225.863292388,-815864.1626263228,-518662.47953465383,-1714801.807366579,-7129789.086623639,-7082604.084449383,-7153381.587708675,-7153381.587708675,-7043283.249303667,-7234251.910354844,-6656334.843039828,-7258312.0526832165,-7203497.697259666,-7141989.271069304,-6732277.691818256,-6702630.76990718,-6598733.091817975,-6656005.832174003,-6677848.797682087,-7542019.280472771,-7482534.240830709,-7455453.052809248,-7536609.628149838,-7610921.911979701,-5305451.810584433,-5309427.7404103475,-5305122.150516534,-5300494.413892154,-5275078.163136137,-5521873.248027413,-5707628.695124427,-5667186.694058245,-5536598.547733457,-5570003.380615922,-1847925.221876542,-1034682.0167371996,-1772392.8745118065,-647420.9637007163,-1787882.326647937,-6549858.823004533,-6551445.740363719,-6549846.521269396,-6550953.672974571,-6550596.924035192,-7159965.029159804,-7150657.806689937,-7174266.371011889,-7185616.642319575,-7171315.300467908,-7467648.9080007505,-7444977.477026844,-7461247.325474406,-7449229.98653029,-7475290.872264971,4008308.818679017,4124271.868842469,4225472.896749415,4271723.585266746,3900956.9481520685,-1055485.7391107935,-1070681.0698715842,-1031979.8508585604,-1033162.0944284662,-1054028.5651083256,-1881373.6822676766,-652982.7224864926,-2342296.7078902954,-2232822.629481319,-2410875.494959486,701382.5449240997,1904703.064152054,-474412.5302068442,3453515.8080749246,-3315272.8814610816,-3316707.693535835,-3314437.6392808887,-3316103.7901911964,-3320104.1081661037,-7106589.908463224,-7113736.066821329,-7111633.599414326,-7113471.004836453,-7105843.959986301,-3593719.9171498865,-3593719.9171498865,-3593719.9171498865,-3593719.9171498865,-3593719.9171498865,-5143629.728593403,-5174418.3017439,-4999826.321012455,-5160639.072282876,-4857319.986371286,-7662321.112185949,-7662321.112185949,-7662321.112185949,-7662321.112185949,-7662321.112185949,-7414199.661452527,-7416821.050468751,-7308992.766318292,-7372257.437305968,-7600318.281147019,-5097813.867756395,-5099044.036282325,-5099167.053155177,-5100274.204808255,-5099044.036282325,-7508500.330005815,-7385784.1908704955,-7508465.196531003,-7510073.163408303,-7388405.579883183,-933812.3129786135,-1820193.1329987056,-1964369.5285669304,-1573250.2341483678,-1130767.8234520394,-6103214.796614781,-6125700.829302576,-6131149.803211032,-5931672.690476196,-6088951.491981461,-6669640.013975336,-6669640.013975336,-6669640.013975336,-6669640.013975336,-6669640.013975336,-1464059.8782415264,-1465726.0291936614,-1464059.8782415264,-1465726.0291936614,-1466329.9325383017,-7891848.637505822,-7024168.8753100885,-4012192.903095069,-7270579.442222683,-7891848.637505822,-5853615.269267582,-6005308.299330335,-5968784.216685577,-6055855.777106343,-6027720.666198487,-5893170.192399324,-5835495.212038509,-5872328.79683616,-6058349.0001419205,-5957452.385756875,-5674526.762047864,-5674280.728321069,-5671574.357596438,-5671205.307033256,-5671943.408159618,-6465742.9531093,-6518944.37326622,-6482596.261903923,-6479605.822319914,-6474969.217052806,-7744477.798364632,-7744619.843495541,-7744496.826642948,-7744373.809790894,-7744354.78151204,7660506.803033442,7661423.671887679,7664622.1100763185,7659030.600811974,7659030.600811974,-5906299.151220075,-5935133.117849711,-5846107.5203047125,-5932850.7619313365,-5885487.961057119,-6877616.446134065,-6875346.391869499,-6875346.391869499,-6875346.391869499,-6877616.446134065,-6294162.902438037,-6319239.13408971,-6347741.336111983,-6244159.46367392,-6365483.474194414,-6275393.74253756,-6315005.061765919,-6346506.640593468,-6314443.692498836,-6261993.602675453,-7952475.180819739,-7925071.7479225835,-7946952.1416579345,-7951198.842502694,-7953505.307338603,6327206.02206885,5383505.978589905,8214606.109129181,7375761.62599603,2109039.770657733,-5877504.490515504,-5843074.2746749,-5819152.009603743,-5758916.504292894,-5843555.153476459,13714942.13750676,13778433.879320905,13688048.997182421,13772417.902075017,13682428.612416655,267411.6417170833,289885.17895253777,291020.20603945164,272201.4562790465,283983.03788913495,-5390715.883234561,-5392985.937531335,-5390715.883234561,-5392985.937531335,-5392985.937531335,-6699079.391499149,-6656379.455056425,-6631905.43389659,-6656379.455056425,-6658087.452516217,769641.1167480092,769641.1167480092,767371.0624512347,767364.9115846311,769641.1167480092,-2257090.3910774,-2254820.336822453,-2257090.3910774,-2257090.3910774,-2257090.3910774,-6915117.612639784,-6924842.652535011,-6911009.818854444,-6923501.619830569,-6925722.798782853,-7527314.6766181355,-7530792.537569905,-7527918.579962774,-7530792.537569905,-7530792.537569905,-7772849.33833605,-7773193.7855229955,-7774363.675788922,-7774437.485900425,-7775198.960216432,-7538159.072997795,-7561532.27495341,-7561532.27495341,-7561532.27495341,-7541849.578570373,-7437188.569064674,-7455641.0969061535,-7440842.3519803,-7427310.498226718,-7390632.447942179,-6069337.243753881,-6253831.264649915,-6110505.073182466,-6110265.996285369,-6115731.388582231,-1311228.8952189938,-2150073.3783824546,-3565850.4490260314,-3356139.3282932276,-3382353.218383323,-7518445.637960102,-7517841.734615463,-7517841.734615463,-7517841.734615463,-7517841.734615463,-4871993.613715789,-5100714.056351403,-5634056.74926452,-4483254.843111188,-5678234.292729529,46817.268943467025,4602980.915983878,2685802.277468489,49087.323208034235,2140373.8137864643,-7735964.077045498,-7736191.082472249,-7736418.08789806,-7735572.623217126,-7735164.4467879245,-3619215.0113306292,540449.7073397668,-3324758.679932122,-4261726.084235395,-4604127.371787175,-4633068.011997208,-4333580.763121192,-3985038.2339779255,-19654.79429766235,-18973.777993895685,-18973.777993895685,-19200.7833793706,-19200.7833793706,-6779171.149046474,-6774631.040515668,-6779171.149046474,-6776674.089353484,-6778944.143616796,-6821122.32875651,-6821182.719090976,-6822352.49727723,-6821455.125598964,-6821182.719090976,1168932.8572747926,1691193.1735641935,2121100.971193056,1921622.8378141383,1455619.4974287993,-7476659.933220187,-7476886.938641308,-7476659.933220187,-7476659.933220187,-7476659.933220187,19941903.30494954,19947351.435339738,19941903.30494954,19942130.31023868,19939179.239532623,1296231.8369011283,586651.6040337404,740195.6641360112,799470.7587012086,582734.0930292556,-4221335.86318775,-5058716.04521618,-4951573.3632991575,-5002883.183638071,-3385715.2637671973,-1637475.9293071972,-1642307.1560122205,-1641848.8118324133,-1638683.7359443808,-1640495.4459783002,-7180653.9747701315,-7216328.861958419,-7178820.236998042,-7182387.725712623,-7196265.600007288,-7641266.130583846,-7637732.296279035,-7673159.093744059,-7634311.297728499,-7666797.670484789,-7094722.764423101,-7092452.710168058,-7094722.764423101,-7094722.764423101,-7092452.710168058,-6968015.522099379,-6984497.551243825,-6964407.523914929,-6927565.347088656,-6936475.303006779,13245729.966650238,13226888.516306285,13250270.075626444,13250270.075626444,13232790.657594737,14439666.310422791,14439893.315483758,14437623.261258634,14436792.352360303,14439666.310422791,-7121377.800455292,-7117143.781877938,-7113310.13379457,-7117687.294888113,-7122789.139984612,-6085464.056433922,-6087630.122124333,-6087857.127522174,-6091320.627702123,-6081091.200682621,5820305.288713878,5884661.327333294,5914172.032879211,5943682.737884876,5852880.567850795,9851957.993882319,3988138.989760324,8446530.969001852,5800435.6643713815,3993227.25071816,-6506091.295883968,-6505177.9043317195,-6505177.9043317195,-6474196.3788049305,-6507799.2933331495,-4574315.48714357,-4764083.39204637,-4782293.890803542,-4227691.667222785,-4523824.944753106,-595071.6124502699,-618000.706145879,-579169.8737505832,-591175.7975535331,-602962.0512130574,-7445512.545868924,-7446182.878579914,-7445955.873154417,-7445345.930777894,-7446182.878579914,-6538686.810047694,-6535886.852187888,-6530698.3136703735,-6548760.640951671,-6535714.086288138,-1937890.6974675506,-2170202.2656468605,-1858120.0261851551,-2167932.211391913,-1474307.4467318272,-3690366.568723852,-3691197.4774621497,-3691197.4774621497,-3690970.4720684914,-3691197.4774621497,-6928836.444798428,-6928232.54145379,-6924609.121391161,-6926566.390535117,-6921735.1637832085,-6910681.069472866,-6910077.166128228,-6910077.166128228,-6910908.074898361,-6908411.015213679,-2303255.0057114083,-4556426.247368703,-4487465.278917857,-7522576.317927748,-7522576.317927748,-7522576.317927748,-7522576.317927748,-7522576.317927748,-4999060.371857245,-4999054.3327993145,-4999060.371857245,-4999287.377200894,-4999060.371857245,-2587904.638436675,-1195030.4329295368,576078.9368530187,108954.57626783605,-3047762.1721516,-5391623.549262218,-5383086.179673166,-5385773.704612858,-5369977.222650502,-5385305.122443259,10091245.12600905,10064371.701299801,9976839.453309836,10080173.60932778,10109697.653897995,-7598537.595848681,-7600300.3444013875,-7591435.616385477,-7601536.663768257,-7594935.477952416,-6949568.519752098,-6946715.649547461,-6946112.866971782,-6950350.070103474,-6946603.813613193,-7431945.3797397325,-7431933.078052444,-7432549.283079162,-7431933.078052444,-7432549.283079162,-6465412.567808741,-7669590.3295938885,-6444855.243333807,-7640231.669895795,-7533150.618481892,-7499197.723984144,-7502580.687425144,-7497229.454342656,-7490217.493766079,-7484189.667999638,-7241033.184512228,-7142189.143618267,-7313773.049324161,-7200622.148504417,-7305186.47302803,-7058729.930790882,-7088619.2141441,-7063438.67489273,-7065791.008648312,-7074804.953570065,-5679996.131882487,-5681662.282801161,-5681662.282801161,-5679996.131882487,-5679996.131882487,3251088.201259544,3250861.195826156,3250861.195826156,3250861.195826156,3251088.201259544,-394741.76945321914,-393075.6185010845,-391845.4499751548,-394719.4076165693,-395949.576142499,-7237018.268086818,-7239515.327775623,-7237018.268086818,-7237018.268086818,-7239288.322350129,-7640521.725761889,-7642258.441656012,-7644646.1445902,-7641966.3332055295,-7640961.007198746,-6079021.405937896,-6081291.460201267,-6079021.405937896,-6079021.405937896,-6081291.460201267,-6852384.004020557,-6858303.839465834,-6820716.08011318,-6837419.340256739,-6837287.476221336,-7494726.982759671,-7384628.644347122,-7546927.757530239,-7478783.944958813,-7381780.249909587,-5153877.905133347,-5154654.062871961,-5158608.296452702,-5158381.291054861,-5157151.122528931,-6342536.288189962,-6354837.973438838,-6360988.8160092505,-6012851.123787046,-6352377.6363869775,-2375426.3404242387,-2725075.0870436113,-2432177.6969472026,-2259653.573079892,-2750045.683911379,-7359693.641403756,-7349208.085369175,-7380664.753489461,-7362315.030419979,-7362315.030419979,-6181697.252931477,-6165087.800238993,-6198668.744471776,-6143013.522839051,-6154978.878392631,-7046593.14252306,-7046593.14252306,-7047197.045867699,-7047197.045867699,-7048863.1967876265,-6164037.621904758,-6157128.69296303,-6151282.01159728,-6153903.40060629,-6145687.898829681,-6529895.038553592,-6530498.941898233,-6530725.947306491,-6529895.038553592,-6530725.947306491,-6927184.206010509,-6927184.206010509,-6927184.206010509,-6927184.206010509,-6927184.206010509,-6793425.841828289,-6793198.836401959,-6793425.841828289,-6793198.836401959,-6793425.841828289,381845.95464387164,224968.57110976198,231955.67748960684,267073.05547932175,311372.46158442996,-7326345.107094543,-7320675.294978407,-7335144.272582238,-7289894.319599186,-7334025.575129161,-7186641.629465032,-7188911.683722948,-7186702.0197995,-7188745.068631917,-7188745.068631917,-5074266.097728935,-5072599.9468186265,-5074266.097728935,-5074266.097728935,-5074266.097728935,-2712068.0182927144,-3605322.6208903417,-3692325.71665643,-2836128.4240950802,319480.8449500114,-7346170.304017947,-7346397.309443441,-7346624.314868934,-7346624.314868934,-7346397.309443441,8413769.015964434,6285290.074376525,8138927.034245725,6594540.052519494,7832902.467507492,-985227.0415872673,-686522.0813679826,-624950.6138424375,3204819.0454889443,1001083.8300270597,-7462811.381279999,-7496702.591319557,-7460206.1539526675,-7494250.924133992,-7463297.680452897,-6847077.687967931,-6846327.285164894,-6846190.845861265,-6845317.426211039,-6846461.482935812,-4739419.622617362,-4736959.285565502,-4764022.993135955,-4743110.12819515,-4803198.103071037,5478737.251864141,5421313.235933985,5337409.700099943,5598864.747295543,5564849.048520999,-804038.6265483794,-786539.6501945112,-555403.4064613378,-640876.8927860868,-616320.1422793848,-4070394.9639921114,-4070621.9694188074,-4070394.9639921114,-4070621.9694188074,-4070394.9639921114,-6727274.297518005,-6727274.297518005,-6727274.297518005,-6727274.297518005,-6727274.297518005,-6573340.787850447,-6573340.787850447,-6572356.653029704,-6573463.80470304,-6574324.922671191,12390518.587428564,12393015.647068989,12390458.197109729,12390745.592814036,12390518.587428564,-6828057.670939646,-6783617.074630671,-6817356.09869641,-6780884.970453929,-6817356.09869641,-8009644.346965206,-8007664.268480231,-8008921.488835958,-8000885.024284793,-8013109.810926498,-5781990.464303628,-5781990.464303628,-5781990.464303628,-5779720.410036131,-5781990.464303628,-7753279.956046442,-7753052.95062065,-7753052.95062065,-7753052.95062065,-7755323.004882272,-3718923.2764784154,-3721193.33077519,-3718319.3731858726,-3718319.3731858726,-3718923.2764784154,-265155.9638297514,-309763.9201495145,-304206.4870901632,-235041.88278712647,-126726.20448213152,14512482.226632925,16321240.642806245,13990474.478071105,15744535.060961552,8057282.485568908,8055012.431313959,8057282.485568908,8055012.431313959,8055012.431313959,-7147670.58149368,-7147066.678149043,-7147066.678149043,-7147066.678149043,-7147066.678149043,-3114552.9641536586,-3107171.952998081,-3109632.2900499403,-3107171.952998081,-3101021.1104224576,-7070458.529517224,-7090914.025732611,-7099154.667248563,-7122360.948073533,-7091434.146547124,-7219848.326057722,-7219848.326057722,-7222722.283660469,-7222118.380315829,-7220452.229397156,-2683593.8066962394,-2658452.308770421,-2617900.9833818576,-2771616.6514111343,-2714396.610855485,-7563598.598393139,-7563598.598393139,-7563371.592966913,-7563494.609819404,-7563371.592966913,-6819620.668955091,-6994109.205537774,-6900250.133700737,-6881443.257801819,-6902522.635967962,-6953886.920760105,-6955077.645979077,-6897141.517760896,-6978173.051228438,-6999841.541772122,-6016686.192324209,-6075119.197252806,-5903510.688150921,-6015086.973229888,-5914582.204884288,-5821734.190419841,-5824004.244687336,-5827229.537044017,-5824608.148031976,-5824231.250187116,2812346.2439581472,2756156.9441704843,2735122.552488885,2669517.984294221,2696758.6354790693,-5612076.723654878,-6406357.593592739,-6191403.6947964365,-5714310.895044887,-6374900.92547839,-7718197.389273655,-7718197.389273655,-7718197.389273655,-7718197.389273655,-7718197.389273655,-7654264.006853448,-7658045.052695899,-7662713.219842764,-7654718.017706531,-7657908.632771258,10384028.474747632,-2270479.8521691384,-2272589.986965076,-2272559.791831706,-2244547.3362699673,-2273856.132900866,4882543.430828401,4884813.485083349,4882543.430828401,4882543.430828401,4880273.376573454,-5667983.702380551,-7153262.715290545,-6628984.913343006,-7153262.715290545,-6851451.644420273,5370916.079167565,5370689.073688773,5370689.073688773,5370689.073688773,5370916.079167565,7303987.747052991,6955862.3564806385,7287194.97764872,6944588.255363174,7562495.178301239,-910030.7070211835,-765666.666153333,-846630.7832669728,-884400.4684806128,-478656.8345382338,-4715764.213918521,-4715764.213918521,-4715764.213918521,-4715764.213918521,-4715764.213918521,-5034978.987446178,-5034240.886309395,-5036018.8731751945,-5037975.96186652,-5036879.991132733,-3513503.6932171048,-3513503.6932171048,-3514733.861743034,-3514733.861743034,-3513503.6932171048,-5702692.749866923,-5702692.749866923,-5702692.749866923,-5702692.749866923,-5702692.749866923,-7529175.554356863,-7529115.164022395,-7529175.554356863,-7529175.554356863,-7529175.554356863,-7069799.631577058,-7114208.0266129,-7087200.165738329,-7156779.1412374135,-7080588.2853107145,-6501531.092044766,-6349590.711357953,-6698126.4430115335,-6077391.293381676,-6609699.728146754,91035.01183474608,91035.01183474608,91035.01183474608,91035.01183474608,91035.01183474608,-7801510.056842946,-7801461.968193742,-7801534.660213464,-7801534.660213464,-7801510.056842946,3928068.6151486086,3929216.031466957,3926151.7910704585,3932172.741315953,3927608.9650339577,-7083728.350940494,-7088693.7754581105,-7082987.0679450855,-7084528.140899056,-7085428.40545695,-7263485.689197695,-7263485.689197695,-7263485.689197695,-7263485.689197695,-7263258.683771364,-7779676.805325167,-7779419.045685678,-7779670.654482528,-7779939.709524097,-7779879.207380442,11778790.758878114,11775838.354118744,11774627.213842709,11782254.258852042,11773993.101276787,-6538266.690808491,-6521402.48171115,-6581589.087113229,-6181753.109729822,-6591181.550867252,-7141627.8950701915,-7146136.725072344,-7134107.604180075,-7134167.99451454,-7142627.585620561,-4712348.740020001,-4703782.284065818,-4655134.722752068,-4710402.859020207,-4637766.804319465,-6981259.614613712,-6978638.225605146,-6949100.277004613,-6913579.164432037,-6915497.88394436,1941990.3549786885,1942594.2582712318,1942594.2582712318,1940324.2040683816,1941990.3549786885,-7317203.573291317,-7316976.5678658215,-7317203.573291317,-7316976.5678658215,-7317203.573291317,-7194509.640174926,-7151541.8463806035,-7177347.685412842,-7168494.473786111,-7182187.5789147355,-6866379.4294454,-6945377.317754191,-6917832.548255239,-6964151.992425857,-6934110.163239125,-1492729.3263916639,-1492729.3263916639,-1494999.3806466113,-1492729.3263916639,-1494999.3806466113,-7335362.281199656,-7394728.221154703,-7389646.495096317,-7361690.049765268,-7410456.555211539,1254905.047883733,1223805.3045448528,1229934.4510477546,1252634.993628786,1241284.7223122225,-5889791.231161279,-5890622.139954439,-5890018.236609797,-5889791.231161279,-5886518.0138193015,-3339935.767654476,-3406328.1453599934,-2472630.235771196,-3376804.100737682,-2159977.147918755,-7254448.509747005,-7261151.643062157,-7265645.361649413,-7268069.455989679,-7255977.7366867615,-3187354.2503931974,-906889.606725033,-1261798.4104839594,-1525299.6765509425,-1022730.4861121326,-4053519.9112270437,-4036575.5271125757,-4120432.7321847915,-4083571.240395653,-4094218.842176572,-6630510.689268675,-6703046.764591606,-6682070.370208238,-6538721.567423411,-6710869.876665496,-7021929.906490764,-7021929.906490764,-7022156.91191626,-7021929.906490764,-7021929.906490764,-6566296.499562839,-6579818.662461991,-6609468.745159792,-6577602.534966316,-6606560.576609683,7329107.353058687,7329107.353058687,7329107.353058687,7329107.353058687,7329107.353058687,-7471885.0585900815,-7472556.630221703,-7497960.643011732,-7474908.753110931,-7482572.586298271,14383668.091531971,12378616.414801614,11038839.87557812,10501379.24720434,12141316.906542428,-4105768.5697905836,-4098245.405494306,-4134458.588975539,-4170590.29358295,-4262039.971861782,-7616949.040804221,-7622543.153577442,-7449180.144184053,-7705472.363796937,-7784717.937432917,-5016875.922212583,-5014605.867967905,-5016875.922212583,-5016875.922212583,-5016875.922212583,4253302.592540762,4589161.632589512,4412017.365174004,4397299.900542301,4679835.276834179,7372078.7884739665,7372305.793859441,7372078.7884739665,7372078.7884739665,7371851.782993246,-3927195.8901651995,-3929465.9444201468,-3924925.8358684247,-3927195.8901651995,-3929238.939034672,5990338.334490073,5990338.334490073,5990338.334490073,5990338.334490073,5990338.334490073,-4459998.032155745,-4457727.977900798,-4457727.977900798,-4459998.032155745,-4457727.977900798,-7808166.366843146,-7789324.916471633,-7789772.888290328,-7797945.083632539,-7807706.316957376,-5029478.190626203,-5029465.888943164,-5031521.239454456,-5029465.888943164,-5029478.190626203,-6693152.371733362,-5363330.736928665,-7224688.398768681,-7102610.935716246,-6766890.615199785,-6076913.773119288,-6077916.936199461,-6078143.94159312,-6076913.773119288,-6080604.278644979,-3993421.2850617697,-4332504.295575847,-3629170.046748101,-4318840.577815139,-4171827.9259363404,-7668272.195633691,-7668272.195633691,-7666002.141380561,-7666002.141380561,-7666002.141380561,-5412246.029226158,-5400772.741088838,-5412123.012405402,-5378195.215286737,-5400772.741088838,2042191.0283651012,2042872.0446270406,2032490.18541187,2039239.9578476078,2036742.8981659652,-4710805.306838492,-4713455.926687263,-4712035.475364422,-4714686.0952131925,-4725567.329149646,-6385226.9932103595,-6398154.943629722,-6348702.168972246,-6398154.943629722,-6356071.9991988875,-7459977.480332245,-7394992.371886351,-7370106.301550071,-7418627.712739275,-7466812.283766707,-5357365.95881106,-5356135.790285129,-5357365.95881106,-5353865.736030183,-5357365.95881106,-7237051.600970596,-7234725.4616948655,-7233182.327628787,-7234792.727630818,-7234412.496154714,-7520792.294822713,-7483844.190043531,-7480995.795605996,-7519383.045874777,-7463935.325533672,-5911195.565204202,-5953474.926152356,-5929329.630150458,-5905769.688981579,-5806999.09060577,-5590451.547654674,-5589847.644310035,-5587577.5900467215,-5589847.644310035,-5589847.644310035,-7201790.89758483,-7162267.869201032,-7179484.697476571,-7270973.6963133095,-7173813.773661884,-5735587.097060043,-5706239.431273018,-5685749.2057034895,-5678672.355807686,-5681539.778514488,-7032733.582595784,-7035193.919642242,-7022701.951621024,-7026582.739976747,-7025352.571450817,-5040859.537611446,-5053001.271618796,-5321603.500830426,-5208113.017105062,-5218687.336960222,-3441356.5563418567,-3032335.0157455755,-4453927.452676471,-207222.1040045629,-3714832.8468608274,-5336295.888351698,-5336295.888351698,-5336295.888351698,-5336295.888351698,-5336295.888351698,-7798180.090339902,-7798407.095766045,-7798180.090339902,-7798407.095766045,-7798407.095766045,-6282648.744660817,-6294219.982369448,-6296042.06485128,-6282642.705654982,-6280372.651395792,-2781230.3654190195,-2793307.383631328,-2763978.796752072,-2679997.677037952,-2587698.315110785,-7800410.324991607,-7802277.460055515,-7803129.830603587,-7799278.164229135,-7802209.118286927,-7793700.167131873,-7793096.263787235,-7791454.716241275,-7793108.565470393,-7791430.112868672,-7458557.339695747,-7456741.296284257,-7463778.46448956,-7472404.670684137,-7456741.296284257,12357038.99872071,12357038.99872071,12357038.99872071,12357038.99872071,12357038.99872071,-7518518.291050142,-7518999.177542187,-7519737.278657745,-7519849.114592017,-7519245.211247374,-6561532.723797916,-6561532.723797916,-6551881.658379024,-6726375.305986541,-6658716.037177142,-7378073.42865604,-7378073.42865604,-7377846.423229291,-7377846.423229291,-7378073.42865604,-4137995.9742717817,-4122207.405409821,-3716206.712952724,-4028320.6928295908,-3932512.751214552,-6122210.74711496,-6122814.650454392,-6122210.74711496,-6122210.74711496,-6122210.74711496,-3866328.925961505,-3657221.7085012062,-4443034.508079221,-3709045.58533308,-4314235.111867973,-6294130.350961036,-6287152.2672285335,-6288136.402027666,-6296613.049849544,-6289862.943276682,14283694.592173334,14285964.646470107,14939041.844775368,13575919.559600942,12529634.010043276,-7355914.727077077,-7074738.915069897,-7249024.13597537,-7086584.635546247,-7406401.054643395,-7139145.092891488,-7139145.092891488,-7137478.941976964,-7136875.038632324,-7136875.038632324,-6885868.256627322,-6888198.701219756,-6917709.406624873,-6903181.059350413,-6897051.912846486,-6369336.297329236,-6366839.237640427,-6369109.29190374,-6371606.351596732,-6366839.237640427,-7718046.356050455,-7718046.356050455,-7718046.356050455,-7718046.356050455,-7718046.356050455,-1724520.9722479372,-1344419.5658470006,-1580344.5767569013,-1732385.1392818827,-822411.8181743645,-6911054.719355148,-6812525.69764694,-6620072.763422304,-6642169.4026949,-7051841.417360656,-5807632.178692717,-5616584.6091639465,-6082910.244455311,-6057821.270145145,-6101131.068879295,-7272559.5262095835,-7272559.5262095835,-6481674.237720108,-7199089.487064646,-7290719.960300388,-6444835.330718114,-6444835.330718114,-6444835.330718114,-6444835.330718114,-6444835.330718114,-4181890.176787066,-4178031.0845516594,-4183933.2256567213,-4181663.171393408,-4183933.2256567213,-84832.51159681883,566660.3617995,-364056.11635371577,-401314.4664384748,351868.3592971327,-7331210.237708265,-7333111.241413796,-7331445.0904951235,-7333111.241413796,-7330841.187150486,-6345649.395650787,-6349339.901228576,-6345839.678443455,-6348300.015495314,-6349530.184021245,18802970.543914545,18802970.543914545,18802970.543914545,18803197.548727576,18802970.543914545,-5773253.054386608,-5741411.904454701,-5664230.059496709,-5680120.439343054,-5723251.470350253,-7242206.60497081,-7238172.256468088,-7181193.894502495,-7176880.791406576,-7221845.894242482,-2337627.613795711,-2391408.585967784,-2441339.306484443,-2443583.7976241983,-2372600.5186373773,-7232007.443593489,-7233275.640617231,-7233215.250282768,-7234881.401201439,-7234277.4978567995,-6692769.00676178,-6692769.00676178,-6692165.10341714,-6690498.952494284,-6692769.00676178,-4287601.939128,-4287828.944554696,-4287828.944554696,-4287828.944554696,-4287828.944554696,-7329702.306712742,-7329762.697047206,-7329762.697047206,-7329762.697047206,-7329762.697047206,-5322561.78185778,-5323165.68520242,-5322561.78185778,-5322561.78185778,-5322561.78185778,-5712593.60895299,-5712179.988396897,-5728966.365367169,-5732902.570549154,-5733506.473893796,3597965.4532193444,3597542.720883305,3595816.1795602404,3596444.8613908216,3598207.01454678,-3514809.0034079324,-3539996.5614579516,-1584456.2253017817,-2898352.664673249,-1576267.0318119668,-6074901.373678822,-6074674.368281901,-6074840.983344358,-6074613.977947437,-6074674.368281901,-7358129.963894244,-7529068.067861156,-7590175.662611853,-7591451.627698579,-7374072.447395821,274427.9024557727,573616.4024451177,348976.11498818867,509021.03996755957,968679.2664032922,-5688397.820359304,-5745074.032849311,-5676808.2419719715,-5761053.979023659,-5712491.543084595,10178660.835565146,6707346.703175069,6507570.835439689,-6868986.817361934,-6868661.398451953,-6866995.247532024,-6869265.301796592,-6868649.096764667,-3300999.141450498,-3393121.1375947935,-3339055.2503384924,-3252415.630010518,-3380015.5199677814,370713.27580751583,260161.63326488875,232702.33363879472,257210.56274739507,229751.2630800813,-5924840.9684852855,-5896540.375481646,-5996683.8647243325,-5935845.6225708425,-5908307.462685648,-7404219.466984456,-7404434.170723727,-7403980.159876051,-7404219.466984456,-7403992.461558127,-7436036.65913933,-7428463.977335123,-7466864.66067624,-7483340.794038857,-7464855.752430518,-2386148.6032279534,-2386148.6032279534,-2386148.6032279534,-2386148.6032279534,-2386148.6032279534,-5100047.708864322,-5090083.343836128,-5096357.203286533,-5070705.6261294605,-5093773.849413918,-5449946.238467488,-5447676.184204175,-5449946.238467488,-5449885.848096557,-5449885.848096557,-5650438.070335076,-5650438.070335076,-5650438.070335076,-5650438.070335076,-5650438.070335076,5571636.962645233,5572564.897311561,5571834.674279493,5570570.037150132,5571315.349418992,4848667.829774727,5415730.828996542,3318784.048114047,8241589.433976715,5241225.251093553,-6243718.69008193,-6243718.69008193,-6243718.69008193,-6241448.635818617,-6243712.651050046,-5150887.589772352,-5141089.63382259,-5135099.886082603,-5151540.730604638,-5147635.809527577,-5056119.131054565,-5005645.713495368,-5121215.644080935,-4878800.551078744,-4809033.5740146,-7035601.939597908,-7024860.266313418,-7040784.327286376,-7045891.768726926,-7022178.486966911,-7679221.39114706,-7680227.627664456,-7677644.273764788,-7658163.407691503,-7657223.476269379,-7828688.249273914,-7828084.345934484,-7828084.345934484,-7828084.345934484,-7828084.345934484,-6776550.623786815,-6810628.680918069,-6804405.1016394915,-6762647.423323381,-6795504.250201727,-7732963.091765745,-7486080.409433866,-7726704.685320076,-7762584.787574134,-7726704.685320076,-207041.7517295537,-308105.85339862807,-275931.18907549384,-117239.44944280914,-330058.60411027743,3992556.5813621953,3217550.410981597,4127887.4208434746,2911465.4540554965,3463596.417902666,-6634704.491806872,-6637951.013954541,-6635997.467277129,-6635308.395151512,-6637120.105180222,-7177735.544590436,-7175238.484905981,-7177198.182426083,-7175946.795542895,-7174401.425291374,-7288624.451189435,-7299836.2047095895,-7290598.759857404,-7310158.43938785,-7289368.591336684,-4666315.957929354,-4718050.644482529,-4706810.733936477,-4692937.560394972,-4751213.198709039,-4847620.621700096,-4845652.519143517,-4845954.470789789,-4841812.316182087,-4845652.519143517,-4714629.264897432,-4779879.892306316,-4512631.63937748,-4854198.178755085,-4424579.470058008,-7490504.112495783,-7490504.112495783,-7490504.112495783,-7490504.112495783,-7490504.112495783,-7746219.127539561,-7745727.060129729,-7743335.599627874,-7741532.837717652,-7745727.060129729,-5696767.1645870255,-5804634.809767296,-5930897.777346721,-5562804.321821309,-5796336.280112416,-7400357.967985044,-7481969.758539496,-7607268.717505084,-7499132.23346659,-7595137.102992194,-7216087.298526634,-7216087.298526634,-7216087.298526634,-7216087.298526634,-7216087.298526634,-7238474.987466724,-7224510.264320065,-7224208.312647744,-7227403.470754582,-7213996.816524416,-3746189.67481885,-3743919.6205513543,-3746189.67481885,-3743919.6205513543,-3746189.67481885,7005115.646729093,7003424.717384939,7002664.421423717,7002035.739687056,7003122.765686571,-7259608.60305801,-7286069.528005122,-7232354.612747923,-7294869.5890981015,-7250807.14060503,10073574.607494673,9957938.766163403,10099595.761465399,9999029.215897901,9880582.413743146,-7752675.926619918,-7757935.74564303,-7747758.9201788865,-7751086.888636776,-7756966.329174401,-7220623.935247085,-7252592.990071243,-7192623.146772103,-7257323.381381204,-7225639.707840268,219918.09380401453,226191.9532544196,219795.07687713663,225945.9195067852,222378.43085587406,-7724439.270333777,-7715051.932994257,-7740431.461143267,-7752733.146381342,-7715828.090667122,-6860637.648928447,-7370686.810937761,-7114603.719976553,-7004560.403735985,-7145728.242587592,5441598.15736606,5444095.217195653,5443868.2116628345,5444095.217195653,5441598.15736606,-7071374.119408549,-7073417.168237451,-7066607.005458483,-7071147.1139822155,-7070770.216063907,-6996240.207013001,-6994148.920529531,-6994148.920529531,-6993902.886824346,-6996732.274423371,-7301742.540683221,-7300193.169869298,-7321704.0709107565,-7328135.059843182,-7307296.535238946,-7060032.381294049,-7059971.990959589,-7059971.990959589,-7059971.990959589,-7060056.537432003,-2650602.892612086,-3256713.566427876,-2965280.120667435,-1041867.1833240141,-572085.9164582938,-7406600.817107141,-7406223.91918992,-7406827.822529349,-7406223.91918992,-7406223.91918992,-4084368.316950043,-4086844.320647438,-4084428.7072688793,-4086844.320647438,-4089053.984583551,-7388768.106396624,-7388900.96512932,-7388152.124988217,-7388212.515317472,-7388997.589665502,-7318224.6038748585,-7368697.008952668,-7344778.599492608,-7323368.615736792,-7316319.145839224,-4494102.569684352,-4701878.03337525,-5171679.392610655,-5130893.548568429,-5179675.487976137,7037849.359009643,-5382179.825349525,15975758.8231911,-3047093.4678847836,4501744.718590688,-7708071.855623945,-7707161.530916824,-7707678.201696499,-7708342.492699441,-7708945.275276084,-7246353.195826854,-7246353.195826854,-7244083.14157181,-7249249.51527271,-7245313.310092336,-5750914.854302818,-5745466.724036508,-5760903.093026583,-5764308.174424515,-5747509.772899482,-7534145.236234699,-7534145.236234699,-7534205.626569165,-7534372.241660195,-7534372.241660195,-6032165.679361744,-6035733.168043913,-6033463.113780599,-6040776.858978809,-6026014.836737306,-7555201.13426436,-7552931.0800074935,-7552931.0800074935,-7555201.13426436,-7555201.13426436,-7654400.989815644,-7654173.984389187,-7654400.989815644,-7654400.989815644,-7654173.984389187,-6169678.263928877,-6164805.6665173825,-6710417.87359793,-6163039.637969142,-6376946.7634695,-7430889.893066305,-7425437.341928763,-7411333.369385507,-7437382.071830718,-7434284.927003052,-7534180.899213835,-7534180.899213835,-7534180.899213835,-7497926.10533613,-7495908.61967262,-51396.77607243746,429684.20557540876,969256.244542964,3683483.4626412713,4910554.842140555,-6941558.658174938,-5893210.034881854,-6999849.617924235,-6357949.880123068,-6822806.21971454,11434931.209721796,11645819.250459693,11582257.731452864,11684637.178771064,11412003.661172587,-5380621.491246887,-5380394.485790655,-5380848.496669399,-5380848.496669399,-5380394.485790655,-639264.6154653067,-637620.8263916492,-637620.8263916492,-638224.7297362891,-638224.7297362891,2516992.9365734234,3766284.2396408427,2747886.282219232,83153.17046113349,-860547.2164035277,-7851971.90602682,-7833142.757345432,-7842437.678133508,-7854708.272819679,-7839725.914707088,-6776593.23528658,-6885183.558603175,-6770918.099637821,-6993444.200389836,-7068226.778432987,4792735.048625529,4796146.131395637,4823681.878175102,4850184.252777785,4819228.729607305,6702056.881846313,6692976.664784696,6702283.887285814,6688209.550848107,6692522.653972529,-6407086.512283853,-6440301.062425687,-6449516.14543582,-6469008.559030308,-6383523.027545093,-6288400.04923754,-6267969.560873842,-6281589.886443419,-6274779.72365863,-6274779.72365863,-6082088.77418895,-6082088.77418895,-6082088.77418895,-6082088.77418895,-6082088.77418895,18320544.147204004,18318274.09297888,18318274.09297888,18320544.147204004,18320544.147204004,10775558.322374346,8975335.200903133,10123258.350313975,10046369.399591312,9634966.49478951,-4990851.121497887,-4990851.121497887,-5002552.290485546,-5004364.000519465,-4991078.126937388,2074966.9484161767,2510366.053980332,1932230.548308658,2056931.7087096192,2307176.6546570384,-7312927.013686269,-7302103.201222615,-7333455.627053485,-7306813.381251335,-7339523.629295165,-5022392.595606892,-5021257.568528297,-5021257.568528297,-5021257.568528297,-5021257.568528297,3480573.1627529967,3483070.222447445,3411790.518655364,3491242.4178198194,3463547.7558099953,-7807898.478669983,-7779063.199563639,-7682071.8062022375,-7807904.517703431,-7807904.517703431,-2879904.9570956007,-2879904.9570956007,-2879904.9570956007,-2877634.902832288,-2879904.9570956007,1760204.4877869817,1759600.5844423417,1761434.656312911,1762474.542041929,1761643.6332577888,3991532.2335776836,3987799.3070285353,3993199.368384342,3992067.065605901,3988659.2598744486,-4925281.149332038,-4925281.149332038,-4927551.203586984,-4925281.149332038,-4927551.203586984,-7467779.67237946,-7465184.016792935,-7466414.185318863,-7467767.370697387,-7468997.539223315,-7596698.8262900915,-7602098.941755284,-7593619.344805523,-7606719.460113283,-7615156.851370721,-7503998.261285971,-7503998.261285971,-7503998.261285971,-7503998.261285971,-7503998.261285971,-7285058.767923687,-7283986.279779687,-7289110.505437583,-7272835.349119098,-7287386.054724992,-2566948.4386265045,-2454442.6712107416,-3211181.9722645134,-4754089.799894705,-2453758.493979868,1156388.1851796235,1150495.454361377,1155373.855215863,1150483.3762455138,1175098.8248278743,-7401121.558410423,-7413654.050587456,-7401110.915820778,-7409182.167060453,-7408722.402489958,10356867.082123742,10456844.91427296,12447398.479448974,11832616.18432031,12447555.613962615,-4724033.03728748,-4784604.134861969,-4845402.433001715,-4812317.775237863,-4741442.011800552,8782934.665870959,8425366.166277394,8772956.900368,8804521.127840836,8587189.615405442,-3518686.5935582956,-3403092.908560065,-3321576.9279673514,-3447754.9352161437,-3547355.4158619563,-4054599.3626103336,-4056869.4168736474,-4071821.72197335,-4060750.2052399814,-4075512.2275511385,8220058.544668431,8461351.105074475,7921816.437312835,9181242.031115644,9825460.332667548],\"xaxis\":\"x\",\"y\":[-473398.0365185377,-473426.1656934959,-473398.0365186981,-473988.69978694286,-472891.760773913,-1478592.4258088311,-1398018.0674546873,-1222008.8635823885,-1330833.0162008756,-1425754.0273826662,-95700.59655992017,-93779.36655491516,-161919.12679013287,-105666.92718953297,-80846.50439246614,-534008.7623169428,-461382.77828834543,-355187.3842509782,-596362.5754354899,-206841.540574056,-299864.02934238565,-301432.3368871618,-301429.5239696801,-175538.17017305156,-304630.15160475514,-540658.5529182265,-563626.1068839307,-507214.72553328896,-515922.0606196865,-547368.2810934796,-403640.2449828686,-400296.1634682514,-402469.29605916695,-402581.8078944291,-402491.7994392089,-300566.07230694726,-300540.7609874533,-300512.63181498775,-300594.20147941407,-300594.20147941407,1776650.1783505469,995521.4112815679,2877559.4266093145,2955839.0102246725,2118617.3474882906,-567431.5445220119,-567372.4732599711,-567158.6915503738,-566905.5289946694,-567372.4732599711,797189.5118721105,797189.5118721105,797189.5118721105,797161.3826950524,797161.3826950524,-1372219.6590771305,-1331161.8152281998,-1256146.7829108755,-1348106.2644156048,-1369903.0677150853,-683562.456892157,-684096.861807142,-684855.2704345536,-698317.81084784,-684208.8636587523,-275882.14363266545,-276670.54070473363,-275012.95220217423,-276889.9482460674,-275209.8564147053,-178806.53468665289,-178806.53468665289,-178834.66385686173,-178834.66385686173,-178806.53468665289,-416458.0029151489,-415923.5979955514,-415920.7850777063,-415920.7850777063,-415926.4109130323,-995621.7428491893,-926125.7260735779,-851773.5257889242,-919972.007508878,-907237.0069899386,-639369.9026257659,-589871.0199549795,-644701.6124595983,-607945.4743958826,-601404.8380967437,1554070.1490547538,-1049511.5385496626,-194714.18761297112,440063.91931043006,440092.0484852407,438459.8255725159,439100.91809874505,438490.76768421876,522526.1611605623,525299.2377638269,502462.1252560754,510972.345615634,510829.4771253415,3350900.6851314604,3396208.700065807,3345682.462621532,3330672.9568073303,3309808.0767238084,1061302.81305708,1204106.1041192748,1171746.398236027,1164732.790046802,1192033.292997849,-590109.9839499666,-590140.9260395605,-590166.2422946495,-590140.9260395605,-590067.7901913992,-266554.6728797068,-266504.2387010036,-266077.4883484343,-264957.171979658,-268745.6450308823,1671815.7711010047,1671843.9002298822,1677212.9629316425,1670774.2114467833,1677241.0921064538,-611963.358569323,-614343.3493808276,-613096.744486343,-614660.3960140533,-611962.2334559688,379258.9307618429,380353.9358635556,379287.05998212885,382487.6876264074,380353.9358635556,1842752.3802882326,1842877.5378589141,2541408.0911478545,2570649.801314004,2411152.89976672,2404772.8902734197,2411178.216007651,-623496.7682204391,-623496.7682204391,-623496.7682204391,-623496.7682204391,-623496.7682204391,-484926.46998286527,-378664.92782646784,-163706.25660441615,-542378.7855761404,-508334.36343556154,-500866.2322793896,-524266.6823660946,-543491.4954435996,-382891.59897607105,-381349.763340763,-381668.7638152113,-381615.5970695418,-381030.7628672603,-610037.6021662964,-609543.367328733,-621762.6972057607,-613873.479308833,-607256.5644855296,208965.505307042,208965.505307042,208937.37613683144,208965.505307042,208965.505307042,-820210.8504585173,-822132.00096018,-823104.9428792391,-822877.0435941209,-819155.3713864328,6065333.395291392,6065333.395291392,6065333.395291392,6058960.269140836,6058988.398324851,593867.5211529091,594401.9260725048,594401.9260725048,594401.9260725048,594373.7968884911,360789.62000285677,366129.62521379424,361859.30874508223,366126.8122707877,361856.49588428333,296826.5093231893,296829.3222707963,296798.380152978,296798.380152978,296798.380152978,220323.90960406448,79043.1026832814,194659.41080368962,216602.1147402261,29154.02981738091,-467751.67778340995,-468396.7289945959,-467389.6039372064,-468396.4198315626,-468354.40677711094,-2978862.5328977653,-2978862.5328977653,-2978862.5328977653,-2978862.5328977653,-2978862.5328977653,68564.42148327087,90757.94108308143,92916.28105213089,91824.52668773715,93491.92539504594,-611151.5916333275,-610617.1867146553,-610589.0575400383,-611123.4624587123,-611123.4624587123,3594537.174978398,3594537.174978398,3594537.174978398,3594537.174978398,3594537.174978398,-400573.82772039075,-400680.51528092276,-400571.0148233195,-400571.0148233195,-400680.51528092276,-649749.5363637884,-744318.7904211768,-554042.6939706242,-454122.65244782,-459537.1622083395,-344334.53560385614,-344118.3475091697,-344121.1604275713,-344651.7854498825,-343587.72248685925,-569643.7001516488,-569590.259659689,-569671.829326461,-569083.9839149058,-569109.2952320544,10523.015915941982,10790.218352689395,11214.929322319947,11240.537039184412,10813.013121947104,2782995.600132362,2782995.600132362,2782998.413535618,2782995.600132362,2782998.413535618,-628873.924793825,-594624.1290004329,-594065.0450151511,-595255.9944004411,-608032.3387770841,-479993.4869450036,-478765.1292130399,-479682.25568135513,-479107.0129836168,-480665.52204873343,-117809.28478993828,-128311.75036123864,-116715.16361061997,-125133.45002767786,-125639.72576325964,-598836.9776280633,-588762.0161684853,-589793.2867897316,-588225.0046610761,-597795.0189084236,-577375.1500804555,-576897.0035288869,-576334.4694252773,-576868.8743448731,-576897.0035288869,-700013.7914775262,-700039.1077375619,-700041.9206559642,-700041.9206559642,-700041.9206559642,-921472.4851800274,-454867.9940066142,-459919.4045732489,-423253.2705891719,-404134.15993391414,-357495.30793268944,1445492.231819046,1445492.231819046,1445464.1026442342,1445492.231819046,1445464.1026442342,-786560.9327535123,-876997.9772427997,-799953.705069087,-697583.7291663869,-834553.1211598706,-421171.8977528188,-416415.01979857055,-415855.2231670772,-422181.7921797892,-422823.1535339632,-522358.142644724,-522360.9555631261,-522358.142644724,-522358.142644724,-522358.142644724,45909.67084738752,-256965.2715307583,-238939.83511993336,-354675.8632471601,-159994.56099976148,-337464.958361971,-332198.9941989458,-299682.0975896166,-336437.86986181146,-333625.97568303655,2854319.3645906756,3243665.5218484136,3480763.375422957,3167910.5125802127,3078449.1381031657,226953.2592001097,255316.5674410676,332091.00573678344,350312.87545017165,366193.1005488193,-584189.5219504933,-584716.1720118918,-584575.8541655178,-584398.7420132754,-584912.4933080112,2061063.4969242741,1446767.4470044915,1570883.5394450095,2159803.088926429,1623097.9034664058,-2062611.4875117706,-2062105.2117761883,-2062074.2696852745,-2062639.6166957836,-2062074.2696852745,-582660.5067115668,-563980.5742636449,-574158.5701153909,-579677.1313646166,-579623.7875842672,-1112626.1745508097,-1112626.1745508097,-1113132.4502863921,-1112654.3037348236,-1167413.314472309,-197947.46950015577,-132178.71757581073,-1512213.7000893466,-548272.6414088808,-1096986.4520369745,187037.60941742535,187037.60941742535,187037.60941742535,187037.60941742535,187037.60941742535,-3449051.759326358,-3437287.995446656,-3432007.0565637527,-3429873.304800901,-3431953.616039524,661640.6067933721,662175.0117129665,661640.6067933721,662203.1408416757,657906.5412082948,-339068.7410315375,-338738.849467325,-339808.5382579417,-339043.42970517726,-338741.6623811245,-209563.82053854497,-173321.59405299008,-193261.4119253899,-247609.17066861715,-126901.15282594431,3734113.566995044,4850843.069153389,6193107.742523433,3578665.295728851,3857021.074531077,1050044.2547731658,1051299.5961082918,1050370.5532309203,1051097.06613134,1050260.8494016763,-293633.8499446834,-293631.03703088197,-293633.8499446834,-293633.8499446834,-293661.9791231216,-429181.0690503247,-430257.73472347925,-429669.8893165338,-429669.8893165338,-430790.20568530913,2304922.1947971066,2304922.1947971066,2304894.0656236764,2304894.0656236764,2304922.1947971066,-1751161.4504676063,-1751161.4504676063,-1751161.4504676063,-1751161.4504676063,-1750629.858445082,-2007885.0267312746,-2197417.4714953643,-2047753.874084686,-2010368.6380544114,-2037179.281838924,-1566754.1131800464,-1566748.769109183,-1566754.1131800464,-1566776.8982931974,-1566725.9839960325,13848517.058365695,13848289.212446641,12781467.341733206,13848889.49097088,13848865.296406288,-3977616.007365553,-2708081.2652692473,-3978606.153815246,-2043302.8512846178,-2649263.107717969,2261750.2773483708,2160201.792821321,2261218.6098916885,2219748.548218835,2267626.748543571,2207026.0829317076,2207026.0829317076,2207026.0829317076,2207026.0829317076,2207023.270030034,-1089559.544525394,-587621.6053477465,-989833.8120012323,-1124260.172784847,-806836.4694287889,70217.01491984827,70217.01491984827,70245.14409465936,70245.14409465936,70245.14409465936,1223217.323281337,1223273.5816263582,1223751.7282009325,1224314.2622907395,1224342.3914655505,-423545.34844438935,-423573.4776192014,-423545.34844438935,-423573.4776192014,-423573.4776192014,2463701.0413958137,2116966.380484463,1321076.9743209365,1866194.2904589572,1962241.2487803164,-670210.3184841326,-684220.8520488972,-680930.4789313244,-681067.7023780706,-680666.2564991243,-694053.0514879465,-707366.3763410317,-698068.6667738883,-706888.0364390746,-648915.1076082666,445973.84543325694,457518.2017844579,453977.21115819697,457141.2708642316,441731.6581951992,-334043.3415652799,-334043.3415652799,-334043.3415652799,-334043.3415652799,-334043.3415652799,2738877.9758694335,2738877.9758694335,2738877.9758694335,2738877.9758694335,2738877.9758694335,-344062.0214969895,-344062.0214969895,-344062.0214969895,-344064.83441111364,-344064.83441111364,603008.5330263594,603008.5330263594,603008.5330263594,603008.5330263594,603008.5330263594,-327768.2211028351,-327768.2211028351,-327768.2211028351,-327740.091934014,-327768.2211028351,-592567.4639896391,-590969.6486937399,-584111.4876897512,-662742.0180906281,-606916.9349787618,-446084.9692996179,-446090.59513411985,-446101.8467989923,-446115.91138593544,-446056.84012618806,-741779.4092067529,-449960.7119139553,-725758.731975105,-415164.2684337287,-717919.2648791115,-418019.90294575045,7540071.584331834,10570001.895421473,10068567.418710515,10047229.90108199,7273352.614436259,-592298.0818253487,-592219.3201429022,-592269.952653032,-592134.9326258576,-592168.6876331356,-502307.8079889413,-488135.89394511486,-499660.9663645134,-392789.7278709086,-504136.4352493605,-592413.7578577889,-592452.2938339253,-592424.1646683187,-592424.4459580267,-592424.1646683187,-938341.8566512775,-871671.0713358271,-871642.9421619979,-871108.5372424034,-880681.2889460059,227366.4713584406,220965.21606988276,227366.4713584406,224137.71454395063,222032.09195130967,31727.513960647,37381.95604937448,627791.067891956,-196829.3057685068,143194.70582750515,-586818.3385081529,-586731.1380745267,-584925.2452096961,-584652.392232529,-586534.2338665919,3949908.142504076,4130370.3980524684,4046559.7377976365,4111549.167629061,4059769.115669125,1491524.4700371174,1507527.6082125779,1477655.0836246754,1479788.8353875275,1552336.39514045,3396253.650402795,3121742.7527537635,3501707.209160289,3399737.555157165,3455810.3005557326,-590476.6878307457,-592528.8699256424,-594690.7508571296,-590423.2473387873,-590423.2473387873,-3966430.639149918,-3966430.639149918,-3968884.453686404,-3966430.639149918,-3966430.639149918,-729415.4184191845,-733086.3875932342,-720799.3189273108,-730478.7533335222,-722407.4537746967,-649469.8002271125,-646982.5124856881,-648829.674703786,-649537.6898845863,-646903.9540707838,-445238.1541932372,-444700.93632603594,-445235.34124563105,-445263.4704158404,-445235.34124563105,-639539.3860597606,-639483.1276917321,-639539.3860597606,-639539.3860597606,-639539.3860597606,-589681.6670346578,-589692.3357934258,-589697.6701730636,-589697.6701730636,-589697.6701730636,-289201.7347439681,-241332.14891866205,-249975.60847676173,-241101.11074082152,-265589.0722817267,-781501.5436227998,-780913.6981789737,-780699.9362203556,-781715.3055814176,-780732.0005072325,-529947.1586137465,-474582.1295606813,-474666.5170841425,-474413.35452659114,-536545.3180964282,-711361.7263247734,-619884.4614282068,-696233.4101287901,-728878.7486313425,-665084.3235787667,-105895.34019165234,-105895.34019165234,-105895.34019165234,-105895.34019165234,-105895.34019165234,-511302.22585781914,-491976.91361435293,-518003.67941915744,-525130.7615269056,-528626.8617833828,-529342.1460566281,-529395.5865485877,-529367.4573724522,-529367.4573724522,-529367.4573724522,-151196.10213270708,-270637.4315869044,-268768.1448219185,-275786.17819639866,-280662.00353342836,-106428.2685399492,-106428.2685399492,-106428.2685399492,-106428.2685399492,-106428.2685399492,-1236146.0900570909,-1236143.2771503588,-1236146.0900570909,-1236146.0900570909,-1236146.0900570909,50097.88978001856,50148.517371958565,50097.88978001856,50097.88978001856,50095.076893829115,-586226.3503107078,-583022.7337155468,-584088.7306359642,-583025.5466324755,-583019.9207986173,-489653.3942507025,-489583.07131924806,-489642.14257807616,-489583.07131924806,-489625.26507687237,678649.550185209,697863.9847609189,721229.5335246307,698796.0439083808,679300.3444425068,-829782.9784170911,-829782.9784170911,-829782.9784170911,-829782.9784170911,-829782.9784170911,-544647.7239071927,-544644.9109901714,-544644.9109901714,-544647.7239071927,-544647.7239071927,692625.089684919,1411756.5710605746,362998.24183542596,1515199.9305425268,1404266.1126396093,6270636.031872231,6259967.273057968,6270636.031872231,6270636.031872231,6270636.031872231,452746.8386441229,452746.8386441229,452746.8386441229,452746.8386441229,452746.8386441229,-626388.0294547854,-626334.588962828,-626388.0294547854,-626388.0294547854,-626416.1586249988,49165.65223666441,49165.65223666441,49165.65223666441,49165.65223666441,49165.65223666441,-44488.71895465048,-44488.71895465048,-44488.71895465048,-44488.71895465048,-44488.71895465048,-251933.89269196815,-243395.34469172964,-268996.8248419145,-239663.0495903541,-216730.52963144032,-482773.3008886364,-482770.4879702363,-482236.08305064106,-482773.3008886364,-482773.3008886364,-638458.7232716625,-638458.7232716625,-638458.7232716625,-638458.7232716625,-638430.594101451,1257728.831526622,1226300.2365810908,1177555.0409353497,1223048.5201124195,1248631.9385936975,-568356.5142526655,-568359.3271710667,-568356.5142526655,-568359.3271710667,-568359.3271710667,1540292.2799919653,1744953.3092867287,1659382.9777058489,1744984.2514070135,1668927.675712434,-591880.3716336763,-595111.9413130296,-594014.1233504276,-590838.8119833522,-596173.1913445496,-591802.3788290531,-591844.4709537557,-591302.3909953604,-591656.4120327673,-591600.1536881343,251889.7950294687,249244.42350627133,249756.04326661624,249784.1724506295,249249.76753103436,813218.134253318,761137.9879549758,1176305.4856124092,883924.342930267,1246340.6096038555,-498418.0331645537,-482734.37754786847,-497264.0671685886,-485825.311290746,-469766.7986472375,-518781.9461485153,-518781.9461485153,-518781.9461485153,-518781.9461485153,-518781.9461485153,-601705.4642913084,-601132.2614415028,-601132.2614415028,-601652.0237993476,-601160.3906138197,-336094.0000411088,-336448.0479768545,-335922.40715631086,-334912.4741699528,-336238.143367916,2475321.25119571,-415454.08202418836,-381465.92919782747,-404900.993808062,-399343.1826534867,-389349.81067087484,-354825.50925211696,-397437.0981557189,-480667.46037514013,-332486.4999836392,-385040.771255032,-622529.9646747762,-623067.1825195363,-620095.1614263165,-619560.7565067208,-619557.9435815557,376259.99082427315,376288.1199944838,376288.1199944838,376288.1199944838,376259.99082427315,-283700.1764391958,-311436.1364286076,-284792.3685908111,-283697.3635345742,-283697.3635345742,1430506.8605775426,1432110.075290229,1434247.6949686122,1433176.9511716557,1435312.6368922726,167467.24160204723,178882.81352410634,168747.7739366361,172814.25879052913,146984.91246947186,1495331.840787561,1495168.6915212474,1495528.7450056681,1495219.324089289,1495275.5824343103,662546.4952966915,662515.5532610804,662518.3661218794,661479.6194152653,661451.4902404534,-573023.067977685,-576546.5712926674,-463564.4156981121,-508370.3897289116,-579851.0736004065,-450890.5277710961,-450918.65694590745,-450890.5277710961,-450890.5277710961,-450918.65694590745,-518731.07906088996,-518762.0211531295,-518759.20823932934,-518731.07906088996,-518759.20823932934,-379240.49223904446,-379027.11706275993,-379212.3630665798,-379061.9362576037,-379211.29887916223,203280.5518253533,203308.6809995105,203308.6809995105,203280.5518253533,203308.6809995105,4431084.122085853,4522088.634596653,4646778.295758189,4496348.796707078,4557508.913804786,-2465216.488288104,-2462015.8606438246,-2453480.853592415,-2443878.9706595773,-2425742.0807673647,-597581.8654827734,-597581.8654827734,-597581.8654827734,-597584.6784011748,-597581.8654827734,-2121685.0864702184,-2121713.2156542335,-2121713.2156542335,-2122247.6205738294,-2122247.6205738294,-288715.77478503046,-288220.16779491754,-288743.9039584604,-289288.97763411026,-288715.77478503046,-674213.9643826196,-672978.6001861522,-674037.0274486296,-674945.2636289676,-669024.5910936632,-3466496.0609330675,-3466467.9317950667,-3466496.0609330675,-3466467.9317950667,-3466496.0609330675,-353556.5587697348,-353556.5587697348,-354090.9636847197,-353556.5587697348,-353556.5587697348,-494473.4762168702,-494476.28913067124,-494473.4762168702,-494473.4762168702,-493409.41324924486,-458419.8270300674,-408735.4623239445,-427725.75628323166,-440273.39633726806,-449378.57277427986,-542665.0823800135,-542113.0957243482,-478299.6403956177,-559568.1666309029,-495029.1143705399,-645687.4933312964,-645369.6336827214,-645699.0218500259,-645425.8920313609,-645490.5891269869,-1435741.3010244186,-1324088.3218261912,-1939644.4989520255,-2073685.9923722544,-1438528.9208413449,35669.99062940053,22550.63675752167,23555.4251893724,27177.1773448096,29804.98620455991,-984170.1393728887,-984226.3976488045,-984620.2060869642,-984423.3018908896,-985151.8474464373,-447034.3519178486,-447034.3519178486,-447062.4810902993,-447062.4810902993,-447062.4810902993,-746006.2838510242,-746540.6887706207,-746540.6887706207,-746034.4130294631,-746084.8422689555,10828528.768111145,16426701.702013299,11913734.376446845,-50560.92916401954,-50484.980404913,-46147.25322227213,-50259.947019412495,-50428.722054423946,-394937.3901506192,-395106.1651856293,-394937.34079319146,-394909.21162297414,-394459.24357329204,1549243.2617973925,1543374.4774706645,1550839.7956928746,1540145.7206515733,1548708.8568777964,-646120.0961086384,-646117.2832054481,-646120.0961086384,-646120.0961086384,-646117.2832054481,-530833.1734211174,-528428.3512875473,-530911.925231604,-530726.292437199,-527547.9871602417,-568438.0779203511,-567903.6730007558,-567903.6730007558,-567903.6730007558,-568438.0779203511,-527599.4286062351,-545714.4466355869,-547418.6217374608,-541618.1775926736,-535121.5869086738,-2984732.308256429,-2984760.437440442,-2984704.179072415,-2984704.179072415,-2984732.308256429,-514447.7440483699,-514450.55694544,-514492.7458256222,-514669.9645217248,-514605.2674986649,-503732.04273862334,-503788.296148985,-503732.04273862334,-503785.48323058407,-503785.48323058407,-412992.26117483806,-526472.675799636,-926682.1931436292,-299895.76289491984,-308996.0424771422,-628658.9736423427,-627562.0346345217,-626574.7944605283,-626147.2705248501,-626706.9867631686,-503252.6669141009,-477938.70249723375,-496803.4641642424,-514532.8259949079,-503178.3047403242,7639796.490500764,4759203.486817459,6039454.542320228,4762404.114461738,7639796.490500764,-524482.460757165,-501969.21484489593,-448062.73778791924,-506877.43679705134,-535761.246892168,-276088.63036390115,-146996.64893219763,-113923.4966632011,-153395.09128854005,-157665.4077280542,1754258.9225041715,1754287.0516421748,1754258.9225041715,1754258.9225041715,1754230.793320158,175911.82217162033,95917.1594325843,317004.16455055086,122510.99207703194,109639.49252366053,3543031.693293475,3247663.7990550883,3234674.7069668444,3110230.925131101,3122192.7542196307,3815274.1531910487,3816343.8420155584,3816872.621048898,3816341.0290724747,3816341.0290724747,-548341.8532311036,-549060.4404749472,-546603.9097308314,-547221.1500666266,-540472.0896455743,-937580.9557238306,-933355.7452456434,-918440.9271852873,-919532.3913066451,-915810.7190805358,-312236.12802773935,-311111.010519843,-311757.9814301593,-311814.19045149937,-312562.42640772194,-273112.12030988914,-274072.30860317266,-273164.93295887625,-273325.4954861739,-273112.12030988914,-1090740.3879941278,-1090571.6129360558,-1089260.793585453,-1089159.4791564972,-1091128.5211995882,-523931.0602301995,-523877.61480818904,-523902.93106459966,-523396.6553152151,-523905.7439784003,-768016.0862501499,-767847.0197582557,-767681.3490921386,-767821.7035018457,-767714.8126532062,-386746.48810869135,-386383.6266523322,-386608.6600324209,-386608.6600324209,-386605.84223463375,-534557.0773557435,-534557.0773557435,-534554.2644382615,-534557.0773557435,-534557.0773557435,-169993.97398392143,-170022.10315413855,-168955.2272773053,-168955.2272773053,-168955.2272773053,-626219.866215898,-626219.866215898,-626219.866215898,-626219.866215898,-626219.866215898,-769445.0052076835,-761819.3504033359,-763001.5558718783,-773367.1298206159,-833494.1255640826,1081276.0408469138,1081247.9116629004,1081247.9116629004,1081278.8537439855,1081247.9116629004,-485659.5737234673,-485659.5737234673,-485664.90810609504,-485664.90810609504,-485654.23934543197,2127019.5250518033,2531171.790751896,2669082.9715553164,2812915.750399577,2863709.3045587777,713284.7119323517,713310.0281699775,713842.4991318083,714379.7169412746,714351.5878137785,-591401.3849685051,-591232.1083315461,-591335.6033583721,-591341.2291936969,-591248.9858340347,-373178.9591409948,-336980.1797575446,-380935.84043386416,-360250.8236473037,-358311.60331990453,1807508.457835237,1807452.2044663148,1825645.3478194848,1495500.5708946227,1495472.4415257052,1495500.5708946227,1495497.757986978,1495528.700215861,-95065.57471583839,-95119.01520779716,-95119.01520779716,-95093.70388467477,-95093.70388467477,1803463.8677463222,1803998.272665918,1803970.1434819044,1803998.272665918,1803463.8677463222,-449293.2363602802,-449290.42344187794,-449287.6105234763,-449290.42344187794,-449287.6105234763,-212650.71891296352,-183980.09011392185,-200912.27132648494,-212791.3647814486,-184005.40640156926,-2339326.3795844163,-2339858.8505462455,-2340393.2554658423,-2341488.260531284,-2340393.2554658423,-719743.5194510686,-719822.2811340907,-719684.4481886114,-719923.5461541546,-719926.3590725563,-459284.78132701066,-470925.4376517305,-455411.6750604156,-466400.5902230812,-467046.9970025076,-528906.3877134209,-509276.42716689,-525972.6716510385,-507225.1846945836,-532475.7442476461,-162063.30554951905,-162035.17637470743,-162063.30554951905,-162063.30554951905,-162063.30554951905,-614214.0247956095,-615293.3399207451,-571151.417062903,-571693.0673869911,-612929.9058269763,-431226.95842285216,-430167.16447317903,-434392.37495136436,-430670.7027826548,-430139.0352891646,-600991.2666037539,-601905.7621678116,-602228.253784709,-602927.1247109829,-600884.2478737873,-606160.0127378205,-606404.7365372401,-606061.5606344859,-606455.3690473688,-606433.9908759961,-629537.1083288378,-629565.2375016137,-629565.2375016137,-629537.1083288378,-629565.2375016137,-563505.88439153,-421078.92144387914,-540031.8021185608,-562436.1955917005,-542165.5538814138,-301930.4374836679,-171263.37046798877,-300355.35189969226,-149393.38191444575,-157928.38895205891,119803.05996212148,119803.05996212148,119831.18913555141,119803.05996212148,119800.24705841848,-772795.2510343231,-772795.2510343231,-772795.2510343231,-772795.2510343231,-772795.2510343231,4408641.279661532,4080990.1903844792,2992875.7415701547,4074078.5134436986,6647340.643450422,-611210.2761103278,-626172.4056790747,-650067.3183307045,-592825.2016665005,-619487.4768049938,1824888.547945187,1824888.547945187,1824888.547945187,1824888.547945187,1824888.547945187,-776561.6652017919,-776561.6652017919,-776561.6652017919,-776561.6652017919,-776561.6652017919,1721052.1164779512,1785939.7585437407,1758367.1036310468,1676704.974031112,1646866.9349583753,-1886827.7695170362,-1493419.1667351644,-1317968.9056097197,-1232904.9252313406,-2126106.254873227,-166499.99043754043,-168665.7392847451,-166528.11961097183,-167034.39535713676,-167596.92944555305,-255399.92031341008,-255284.59071709233,-255371.79113859744,-255374.60408620353,-255411.17201719584,-1749803.9378054652,-1377636.717103415,-1797091.4750044819,-1217563.2768263146,-1435546.9346777385,-440388.25614992867,-365299.8700912829,-337334.57157382224,-333817.5272811427,-393772.9910319783,-440553.16124258324,-440553.16124258324,-440553.16124258324,-440553.16124258324,-440553.16124258324,2152732.0168769145,2152732.0168769145,2151131.7030546917,2153798.8927583406,2154332.3306989702,-693453.9600399014,-693453.9600399014,-693453.9600399014,-693453.9600399014,-693453.9600399014,-572546.6790320632,-572546.6790320632,-572518.5498536244,-572546.6790320632,-572518.5498536244,415840.35774940404,352970.34964666254,106632.65242337572,122879.23019053739,256615.09456065312,-476129.05923495634,-477167.8059415705,-477195.9351163827,-476100.9300647546,-477167.8059415705,-238284.69799334614,-237750.29307836053,-237750.29307836053,-238284.69799334614,-237750.29307836053,-1043802.0521677727,-739691.83963628,-1042788.616810576,-1043727.5338704233,-896651.6326696785,-545011.6725474374,-545065.1130393968,-545065.1130393968,-545011.6725474374,-545065.1130393968,-562287.9360687308,112929.73589840645,-276796.5597907071,-275092.3713217935,-272745.24436889245,-277439.4982333708,-274668.43388303125,-490201.82396558777,-490201.82396558777,-490229.9531403991,-490201.82396558777,-490201.82396558777,150281.30824323083,108852.87073103733,210822.40926985178,309171.9147133253,149124.6222320712,-1444464.3327294088,-1443901.7986257991,-1444464.3327294088,-1443929.927809813,-1444436.203545395,-2454212.512063812,-2587065.7213224536,-2454265.952588042,-2587653.566720178,-2587625.4375361656,-731381.2472868782,-730056.412566838,-730337.6549775638,-730880.5973827611,-731229.3497641615,-142781.06717491453,-142752.9380010218,-142752.9380010218,-142781.06717491453,-142727.62668295376,-648456.3283261897,-648484.4575010024,-648484.4575010024,-648456.3283261897,-648484.4575010024,898944.0881908061,898915.9590159942,898915.9590159942,898915.9590159942,898944.0881908061,-50236.11267619886,-51361.856541701876,-48693.69985925372,-49202.99182108004,-50143.28639524161,-917911.6791784851,-853079.115902412,-895287.4214865786,-877987.3455186414,-905212.6388983369,-71384.86413116277,-71244.21826268971,-71469.25165001303,-71328.6057861407,-71809.61463200404,92008.99966611281,144319.39098593892,124549.6809686679,177898.81900037333,108012.13785989853,116024.41427376284,115968.15602077666,115968.15602077666,115996.2851450528,115996.2851450528,-524277.1039022226,-568405.5029384006,-568405.5029384006,-434956.97092498455,-532252.115777697,-531041.3892887685,-296328.69577533414,-136302.6578853015,-483031.9747074152,-504374.83634694206,-588931.0633698752,-519282.6263456956,-552777.6762222364,-516092.6215956553,-521940.96363905404,-487764.8395721418,-487227.6217341453,-487764.8395721418,-487227.6217341453,-487230.4346525455,485398.31786379556,484751.9110879947,484751.9110879947,485395.50497392373,484751.9110879947,-609469.0452109517,-637235.9472476343,-643822.4485330645,-619070.928129991,-649718.3950419151,-562924.6279173011,-562896.4987449832,-562921.8150002784,-562789.6078905838,-562789.6078905838,-130985.45357066888,-129918.5776938381,-135224.82791833335,-139520.46060826845,-133119.2053335226,-441127.2989712413,-434405.9809320519,-438350.6087666455,-438460.109272269,-438886.8596248391,209508.0328724985,224868.232639731,219429.9785789675,235646.4919214262,235354.5583318087,2602150.8006457943,860399.7340288514,859485.5359213674,859460.219680436,859980.6093956941,859367.3934273517,-670425.6489561487,-674224.1408622258,-618336.9274163353,-701242.4447807973,-881490.7464874348,-542375.7980302549,-544084.733393693,-541708.5103100718,-544832.5134900344,-540666.8626622079,961791.4324242249,2906589.1145974863,910319.2210683868,1792559.729651863,906584.8606068427,96252.25252279596,96252.25252279596,96252.25252279596,96252.25252279596,96252.25252279596,-615406.2001092975,-614874.5326526088,-590588.5814810133,-602648.994025344,-588923.2561753099,-622656.1915381652,-624421.3629090553,-631694.5383282213,-624634.0298918037,-626816.6793854975,-1391144.0810014969,-1390901.6097175297,-1391969.4525779225,-1390582.5139228646,-1392182.8277449205,-588180.8616741032,-558778.0411712356,-528424.2074166037,-530725.3061978102,-479295.7001033653,-582078.7725123202,-582661.0675452985,-583839.4958267388,-583839.4958267388,-582022.5191033391,360924.7064250485,339612.50508054224,357749.39506478974,400399.1140378227,386526.91468848917,-540826.4279450874,-528448.1955293448,-508012.6739262222,-546809.303198616,-503783.94996409974,-198808.93117318393,-198808.93117318393,-197213.92879730085,-197213.92879730085,-197745.5962589914,1089875.1053126922,1085468.9885639036,1093243.7277592062,1090184.5262448213,1090522.0762229187,2420308.1752374,2420842.5801569954,2428858.653904831,2440643.6913199527,2426749.163456563,-520926.4626366515,-539178.4183508743,-538466.6842600614,-546949.6853342995,-532842.6582726267,-207630.0932424518,-207638.25020866448,-207632.906160852,-207632.906160852,-207641.06312706665,-293987.4462188494,-271583.0527640848,-195297.64746999263,-167561.6875255939,-161160.43224164503,214597.87325808147,213520.3286206852,214170.15594511898,213520.3286206852,213103.28006369248,274403.40717443393,274400.5942266603,274400.5942266603,274403.40717443393,274428.7234014725,-117897.57542942834,-118047.2088096811,-96709.69121796793,-129889.72447088266,-118052.55285749359,124181.38462893497,158321.41275637335,184486.1550805095,182327.08704890858,136476.74045781427,4919748.875170675,4868861.318414071,3995321.200884844,4429564.473067821,4070314.734794485,-2113361.3850133223,-2113365.3231061213,-2133613.46147309,-2133503.757726051,-1977875.4618996985,661746.3328004066,530548.7287070397,533721.2272133158,503848.70262541214,530520.5995690365,724150.3166945181,724615.0105965544,723394.4858839893,724178.3052433707,724181.5400958451,2576924.1350084757,2594504.5707550514,2572181.817913855,2511040.060249443,2550907.8391469875,-295740.12627819943,-283336.2369027653,-245995.58111726717,-166515.17402306295,-273734.3539883337,-641852.9616609452,-647184.5281525645,-640786.0857795189,-646120.4651820405,-638649.5211103747,-430620.9742762247,-442891.01387310325,-434888.4777927263,-436489.75859374774,-439155.9813092275,-597453.7652877645,-597721.5550085085,-597752.4970925272,-597518.4623787949,-597453.7652877645,-534808.0459462815,-535856.4944346775,-535874.9218277069,-539378.1518130634,-531589.957892448,-504567.0037148467,-504673.6913029887,-504673.6913029887,-504701.8204814288,-504673.6913029887,81229.66048299895,48156.508250817365,-25486.056645775458,196424.12632276412,-56369.19886211709,1385887.7957820254,2618330.3430940825,1265881.7656222729,2160348.7326259115,1265571.2833484483,-190846.18442321348,-189748.36645087355,-314685.36108372937,-191099.34697748642,-312582.5513656893,479058.0496692078,476604.23513272323,468288.86780832574,475566.8694179797,469353.9731597037,-503159.0072626614,-503159.0072626614,-503159.0072626614,-503159.0072626614,-503159.0072626614,-476510.4940050496,-476510.4940050496,-476513.30692345067,-476510.4940050496,-476513.30692345067,-658157.4106680776,-659476.4596511382,-658264.0982511666,-657517.285139684,-659426.9929623769,4610036.950067467,3432578.627515672,4171140.0132751884,3686969.5759987617,3943557.619080891,-592808.3558454426,-592858.9834200185,-592808.3558454426,-592858.9834200185,-592754.915353484,-473510.98003630654,-481514.1210819923,-450649.27933342045,-450677.40851185954,-450649.27933342045,-556106.2905045795,-556095.6217457645,-556095.6217457645,-556095.6217457645,-556095.6217457645,-1384973.663871578,-1384476.6212999204,-1384828.236049219,-1384369.730542065,-1384915.4364983316,-569450.8997312244,-568316.1341926157,-569223.9456717625,-568288.0050246995,-569372.3413156834,1857973.8147950876,1858001.943968519,1857973.8147950876,1857973.8147950876,1857973.8147950876,-245076.0299448786,-245047.90077466881,-245047.90077466881,-245045.0878562678,-245076.0299448786,-526182.4190112615,-526337.7123732001,-526969.7832155437,-527090.7386602687,-527013.0546067086,-2306271.0838766634,-1702507.9913464393,-2767540.1225827103,-1705377.9301506334,-2701338.5615535323,-1494831.6658135834,-1494803.5366295697,-1494828.8529165124,-1494803.5366295697,-1494800.7237324982,-596655.068679022,-596655.068679022,-596655.068679022,-596655.068679022,-596655.068679022,-311970.19643353415,-219875.8176223749,-216018.584145115,-204002.84204690251,-262850.45404811826,-198366.741408048,-371734.0719097409,-94559.71836623258,-265366.5467248086,90009.80879848509,-1096712.1633695667,-1098366.1258502405,-1098304.241641969,-1097192.3591286752,-1098208.602482228,-504780.40580730117,-500005.8764345753,-506521.1482612421,-489649.1580458534,-512642.647752324,-763316.4166747497,-799548.729535419,-882691.5672222178,-961612.208591255,-779202.046500714,302604.7680937159,303111.04382929805,308445.42319049506,305216.66645414766,308417.29405249225,-284213.936180675,-282158.7428304288,-283253.7478873915,-284213.936180675,-284320.62376881775,694116.8051072209,690916.1774629417,696143.8693095412,695610.4313228105,695048.8642510558,-589909.2414296848,-589909.2414296848,-589909.2414296848,-589909.2414296848,-589909.2414296848,-1399609.3192376634,-1402707.1272369407,-1399607.385279898,-1406555.6162134425,-1405379.15183492,95036.67342725447,28890.368870856528,274271.82118484145,-101268.48843298643,116374.19100984784,-1860358.1358783836,-1860330.006740382,-1860330.006740382,-1860330.006740382,-1860386.2650623985,-418021.88593905297,-467276.37370188604,-224778.502455938,-199434.06631030192,-444593.2981552637,260342.42422929322,260280.54500418776,258418.57635713584,260311.48709510037,260331.1725852444,750556.2033090414,698876.5820682592,677109.4036107238,825772.4593690118,765992.7268157456,-1842464.9795869808,-1842439.6682467645,-1842411.5390627508,-1842439.6682467645,-1842411.5390627508,-496630.92307498696,-496633.7359720578,-496096.51815539063,-496099.33105246245,-496096.51815539063,2663547.5157580767,2702440.3577058143,2599214.9001908987,2616071.539080621,2648611.253418106,-950735.880656479,-975059.6148743432,-1004848.3142662705,-1021583.5430102944,-950735.880656479,4853536.834012097,-630874.8500257342,-631330.6965688119,-630796.2916492163,-631544.0716898761,-631224.9759411456,6108623.3974310635,8871831.925218098,7717472.223446696,2282166.367485619,5485567.88355266,-602946.9269489165,-602975.0561221513,-606349.5986800153,-602946.9269489165,-602946.9269489165,-328660.8622283447,-329279.6546677752,-328944.9668280583,-329004.03812085337,-328520.2163226163,-497874.4663409003,-497902.5955111169,-497902.5955111169,-497902.5955111169,-497368.19059152243,-460444.9043287435,-437755.89231931197,-460746.45265145926,-434130.1843471793,-452726.1636002616,-172255.03237819343,-142579.41195680102,-188387.56476455324,-68931.22125521186,-136192.22126393317,-467696.84660484066,-462918.3688899256,-467195.05458352074,-464857.557945468,-467177.49063403805,-500525.18943266926,-498922.0626921287,-498498.12526255293,-499138.25078681554,-499885.0639038144,-367737.8023822047,160472.0625485587,-352638.98216789536,-354229.59421294776,-1626.1490208032003,-541156.055331025,-552427.3379146695,-553424.5804544035,-551670.030095975,-534698.2809370605,-449141.4215408826,-449113.2923624457,-449113.2923624457,-449141.4215408826,-449141.4215408826,-592704.8526816412,-592704.8526816412,-592676.7235093242,-592142.3185906033,-592704.8526816412,-366514.6539101282,-367709.55489180423,-367818.9587050615,-366664.01653168874,-363508.8768484302,-224391.31706951838,-224169.1015480615,-224278.800380449,-224112.84320764968,-224140.9723732495,1080381.162368021,1088916.1694194325,1113454.314692238,1086785.2305459904,1083581.7900122993,-514316.9674639827,-514311.6330873309,-514311.6330873309,-514311.6330873309,-514316.9674639827,-446481.2196157568,-446491.88837181026,-446542.51594536763,-446542.51594536763,-446478.40669735475,-230735.63504980374,-230162.4322007228,-230696.8371157085,-230707.5058809662,-230735.63504980374,-122042.23057372558,-122042.23057372558,-122042.23057372558,-122042.23057372558,-122042.23057372558,-673288.0497280839,-673259.9205578811,-673288.0497280839,-673794.3254728672,-673259.9205578811,325227.11894353444,357205.26611947746,293220.84254684433,271855.1957894407,466054.73501570645,1799221.658884679,1779163.53919089,1837841.0492571392,1968991.6981944225,2108325.87528868,-558012.2771913749,-558107.9163719283,-558079.7872030924,-558065.7226161461,-558091.0388679623,-261918.41450851766,-242714.64867506345,-257093.1287116573,-262427.50810958515,-251200.08313623205,-1121222.7661639042,-386254.23246983753,-753717.1391777763,-566701.7192026937,-679863.3547755224,248398.679706175,303689.28245578037,293055.93323632923,288805.40652077744,303692.0953419693,3577052.4929349716,-3251056.849081738,-3251110.289559866,-3251056.849081738,-3251110.289559866,-3251056.849081738,1377224.8521700718,2298111.188133539,1568521.7370461817,1123568.3693597403,3677127.9489299874,-479014.5274763948,-479014.5274763948,-479014.5274763948,-479014.5274763948,-479014.5274763948,-723188.4429518146,-676813.1852444467,-800007.3742011933,-677319.4609856037,-733890.0778022774,476374.01251614455,674278.5212198095,661982.2864334101,608666.6216289415,495015.24428741075,-582615.2371767414,-582612.4242592616,-582612.4242592616,-582609.6113417816,-582615.2371767414,-266708.58546527807,-253969.9807311444,-185539.33449120936,-269591.3406631674,-247470.1077879466,1687692.0254661737,1689932.4647895577,1693559.8428141011,1692706.342099673,1691852.8414313458,-500641.5666622644,-498071.07900499983,-503848.8012223691,-498639.00762417377,-500394.3314763938,-472053.14176795824,-472010.3700412554,-472021.03879730956,-472010.3700412554,-472010.3700412554,-1463470.275753238,-1311908.508343125,-1306082.6696629357,-1341041.53113873,-1484421.9273960858,-704164.7147129456,-704161.9017945449,-704161.9017945449,-704161.9017945449,-704164.7147129456,7909108.844630016,7908546.310479805,7908546.310479805,7909080.715722107,7908546.310479805,-319501.8074562157,-33202.98738833027,-363368.4789078402,-44818.101812957335,-205696.84220273173,-523157.94348423084,-522613.1522418951,-523332.5207303069,-512941.1496654631,-516742.52198577265,-597680.879092369,-596125.7752195833,-585962.5284570185,-599551.2329700448,-595892.7096236898,10145489.421826074,11016088.269245224,12189623.607141618,10813353.722862685,9842524.801516948,-537586.7683851441,-538551.7035608673,-537918.4668891001,-538159.9712080372,-538579.8327310774,-502608.0382455327,-501598.299668799,-502129.8916699932,-502101.76249615493,-502129.8916699932,545326.2805190167,545860.6854386124,545860.6854386124,545326.2805190167,545860.6854386124,100682.93124678303,100682.93124678303,100148.52633179816,100682.93124678303,100148.52633179816,-586516.8984552599,-586516.8984552599,-586516.8984552599,-586516.8984552599,-586516.8984552599,-37133.58313900885,-37133.58313900885,-37133.58313900885,-37133.58313900885,-37080.14266087933,3281423.17950806,2214264.315642701,2917875.5202678167,3093060.399368826,2200043.366538833,-436892.2762692419,-446462.29051421065,-432107.2691437407,-432107.2691437407,-454437.3023869224,-453852.05632145976,47632.77385244349,-472497.34664559073,-427180.1593318187,-373836.3653525373,-323059.6936694318,-331011.08174790797,-335174.49565716047,-328034.2560592801,-328484.71062309,-663018.6127365056,-677082.1140367762,-680510.1983618841,-667041.7311554637,-650976.9681000565,-558539.8343643447,-564898.895927768,-561164.8302967593,-556375.1405204077,-536079.1825783987,26598.13118978016,-134500.12662949317,-103501.65492072391,11692.81091541369,-19218.460380077246,3246854.074493287,3965731.513071673,3312360.253502422,4309155.842545771,3319109.090854044,330201.9507540689,328825.68090108054,330212.6195561399,329252.4312352451,329561.82529884187,-362379.5187855871,-362264.18917995825,-362556.7325725818,-362697.37843462336,-362520.16464716714,-399827.453637476,-391018.752732935,-395857.8996497561,-393037.0418792574,-402280.66812149197,7497533.0772638535,7501073.287618665,7491810.987535242,7489229.202021585,7501460.997939309,3156464.4501307392,3142862.4162198803,3156191.571046566,3156214.1498471284,3157534.1389235007,1296457.2062920963,1549683.9898709422,705795.637238445,803105.2674483955,753018.5984237383,4012846.832787808,4779598.788613805,2993126.867013954,6407258.4788863575,-739382.6007619835,-740454.2234982462,-740426.0943142325,-739919.8185786504,-743657.8400726483,-538034.3568651034,-544221.2699892897,-542408.5479743412,-543797.3325551206,-537182.7020994803,-390237.25315524195,-390237.25315524195,-390237.25315524195,-390237.25315524195,-390237.25315524195,-876717.3670665562,-872021.5294112093,-904271.2485912504,-871850.7853479184,-935226.1037366408,-480240.7467042806,-480240.7467042806,-480240.7467042806,-480240.7467042806,-480240.7467042806,-638677.7851465116,-638146.1176852295,-660504.2801018652,-647184.4644750322,-600929.3956125316,-635402.189081477,-636469.0649629035,-636575.7525695367,-637535.9408443299,-636469.0649629035,-466990.2539060228,-491928.2706106979,-467046.2335690759,-466671.25342706416,-491396.6031536001,-950306.2666610581,-770042.8692324285,-740801.1590154383,-825251.3035720574,-909871.4106812972,-85736.49978292233,-127554.61154954425,-111321.83047621415,5776.79356753254,-124997.07626465023,-163052.38312015883,-163052.38312015883,-163052.38312015883,-163052.38312015883,-163052.38312015883,230143.31144664984,230649.58722824292,230143.31144664984,230649.58722824292,230115.18230864705,-652689.4482049902,-828671.3768826114,-1439557.2864198806,-778694.6358206932,-652689.4482049902,-521639.1800998311,-659786.2543257193,-637418.811945437,-700553.3053684093,-677688.2265584017,-229195.98044125427,-115427.9569091341,-150678.53841378845,-204239.3289850909,-157703.10518873032,-758540.6264331598,-758327.2512385024,-755980.1243269242,-755660.0615579021,-756300.1870959447,219143.43513358562,211410.78337020025,204527.23556724784,204315.63088056206,211141.86602280452,-617551.5688155746,-617868.8186620616,-617762.1310739198,-617655.4434862352,-617444.8812274323,-2313679.9096829714,-2314825.3439868493,-2312051.466676735,-2314960.1607313966,-2314960.1607313966,-534721.012310544,-529541.9673795544,-547055.7701302213,-529503.1694716571,-539113.0458520805,-348139.90397886746,-348111.774805436,-348111.774805436,-348111.774805436,-348139.90397886746,-375001.1734429518,-407594.80562466703,-400690.61929130263,-339570.31827610655,-414477.632330273,-373917.181291499,-392304.42800386535,-385097.80621347757,-383401.2291621932,-338778.9289913904,-742190.3159015037,-721991.8616731737,-743922.3290281289,-742547.2724716481,-742880.5167591879,-2891080.1250364287,-2699679.840166875,-3273880.6949181263,-3103747.108369326,-2035067.3881931808,-519589.3351186107,-493384.3344182588,-434110.4347619653,-515476.30734374997,-528947.7304051486,-1357246.0126427978,-1348573.1231392368,-1347589.8544619803,-1346017.4836532727,-1348184.2097800453,-2073064.3085905123,-2072785.8298314144,-2072771.7651983486,-2073004.9560676399,-2072858.9656474618,-999143.2230638649,-999171.3522018674,-999143.2230638649,-999171.3522018674,-999171.3522018674,-343609.15819027956,-327448.98880479165,-319017.5715948468,-327448.98880479165,-328095.3955805919,-261859.43872531733,-261859.43872531733,-261887.56786331962,-261892.90226443842,-261859.43872531733,174037.35464439218,174065.4838284058,174037.35464439218,174037.35464439218,174037.35464439218,-466714.8857035025,-475142.6249702365,-461405.82256561075,-472234.1292542407,-476100.00034511904,-539853.5993209764,-540950.5383357051,-540388.0042405708,-540950.5383357051,-540950.5383357051,-604367.5206423767,-604666.2458888987,-605680.8448502035,-605744.857403043,-606405.2535723102,-419527.3598001615,-439798.00151503994,-439798.00151503994,-439798.00151503994,-422727.98743983,-652629.3871566089,-668632.5253365615,-657932.824456704,-646197.1897886419,-614193.7263148733,-757942.251073156,-820249.4291904639,-764496.4209855103,-767302.9481744709,-772960.3464347619,-1833209.2097084655,-1663075.623111375,-1375978.008545662,-1418511.4052234408,-1413194.7307049136,-488342.429442878,-487808.0245232815,-487808.0245232815,-487808.0245232815,-487808.0245232815,-787580.0044603427,-751772.764598355,-620997.6737016733,-867144.9873817699,-626726.5895718832,3631994.184066208,7579491.197248087,3623308.8876812095,3632022.3132396396,5445711.308627266,-562423.6987774918,-562426.5116945117,-562429.3246115326,-561681.1577254821,-561518.0233325823,1365328.138022962,2603269.112866819,943301.6114666427,-534034.6883466658,-546665.2950060241,-540787.7124425633,-558181.2176522273,-587334.2514371529,-1020967.8396130655,-1020959.4008660889,-1020959.4008660889,-1020962.2137631602,-1020962.2137631602,-223752.09326404813,-223695.8349190259,-223752.09326404813,-223721.15117543656,-223749.2803502467,-389188.57934423874,-389242.01983619865,-390255.4552210546,-389245.39533860586,-389242.01983619865,-1373616.0589675002,-1478883.4782427286,-1566076.941351917,-1526764.416143454,-1431593.2035715955,-387142.46358974377,-387145.2765026139,-387142.46358974377,-387142.46358974377,-387142.46358974377,1266166.5968674726,1266234.1073229031,1266166.5968674726,1266169.4099060977,1266132.8419193448,2640452.248935306,2024867.6792254923,2158224.3513589157,2209437.2064361437,2021664.2387204128,326048.63720794633,570882.343670436,497834.80303758493,560291.1882580178,192074.70097801142,-1643490.6683330894,-1647765.9076437545,-1649340.9931822561,-1644559.4781261797,-1646162.6928849674,-379685.4293227874,-410624.82982893084,-381976.297915063,-385070.2379619958,-389343.57058770786,-593043.2256112748,-594141.984382098,-585788.9825522604,-593980.1825183025,-585194.1780897116,-379028.65099133085,-379000.5218188656,-379028.65099133085,-379028.65099133085,-379000.5218188656,-555290.2662994327,-551346.1549404323,-538771.814626688,-530696.9966153728,-537872.2434466386,266559.9371917736,266326.4649824237,266616.1958819296,266616.1958819296,266399.6010647483,-1377534.5184992354,-1377531.7062437006,-1377559.834897703,-1378097.0532176048,-1377534.5184992354,-409385.156422339,-405703.5643596271,-402397.989689195,-406184.5287872628,-410612.3537796441,320812.20547141886,320680.2016268656,320677.3887406754,317479.5739825865,326545.2060425026,5384735.6283941055,5385533.090736335,5385898.770082517,5386264.448969355,5385139.282482244,-3355900.470564207,-2183193.0075137783,-3070365.9494092637,-2551720.6554004466,-2180710.096814482,-395398.7218325903,-396576.7960650724,-396576.7960650724,-390946.584603304,-396045.1285991867,-150888.0762049917,-637610.608106625,-765607.5694198129,106783.98473982346,46968.863196984115,5015804.995444856,5006156.7120886035,5004961.006170357,5013750.005378922,5015182.511182586,-629340.4290821523,-629933.6185415221,-629930.805623119,-629391.0566557102,-629933.6185415221,-23286.5790656204,-24332.749928763376,-25444.190972517776,-21666.26532980675,-24378.043151864953,1213871.6783122572,1014337.7596696574,1281112.9879340965,1014365.8888536714,1613978.2623869048,2119401.972421339,2118864.754610952,2118864.754610952,2118867.567501744,2118864.754610952,-381869.0372156658,-381334.6322960707,-378128.2027831071,-381840.90804085496,-377565.6686886994,-764169.4682366683,-763635.0633170739,-763635.0633170739,-764172.2811550712,-764141.3390582299,-91613.63369378384,177763.48307654427,166861.59245536043,-619885.1995463625,-619885.1995463625,-619885.1995463625,-619885.1995463625,-619885.1995463625,-1077804.695826533,-1077799.3517556696,-1077804.695826533,-1077807.5087696153,-1077804.695826533,-703838.0815892183,-864812.6297896167,-1248437.3633373445,-1260468.572886121,-708934.9860358721,-178163.70344048575,-170759.58480682079,-175030.96547189297,-161332.37585408223,-174625.64930168056,-2374360.4928537332,-2395726.139528227,-2473579.9496423127,-2383962.375740471,-2358357.3546323394,-494185.9433703671,-494308.31793170905,-494635.377857224,-495380.52819116955,-493720.17613546766,-90439.61777938399,-87976.10147952585,-87453.33229947678,-89176.82713904946,-87868.44691249967,-505182.7326403846,-505172.0638797208,-505717.1375553705,-505172.0638797208,-505717.1375553705,-817126.908892907,-573941.2494088598,-821755.1055877255,-582193.0298955089,-598654.1751899988,-475095.05986158294,-478028.96853090246,-473388.05845129944,-467306.86594557576,-462079.1741357917,-518893.67975357623,-433170.20282362326,-581978.0505127925,-483846.8071085439,-574531.2568733231,-511205.3208248212,-503677.5888954083,-507074.69039707084,-504171.4029368277,-508337.3128025424,153373.94869976552,153880.22444454848,153880.22444454848,153373.94869976552,153373.94869976552,7315808.250716873,7315805.437769101,7315805.437769101,7315805.437769101,7315808.250716873,-1364967.0754480234,-1365473.3512296167,-1364406.4753481909,-1364969.0094057885,-1366035.8852872152,-438073.02206694195,-438103.96416015376,-438073.02206694195,-438073.02206694195,-438101.15124175267,-539203.1898208912,-542647.5192253768,-542776.9339221837,-542397.0644784584,-539581.7083527342,-236077.3717079539,-236105.5008817909,-236077.3717079539,-236077.3717079539,-236105.5008817909,-388396.3508744843,-386156.1147968162,-386741.98182875256,-385897.32640705444,-386947.3247872748,-667633.8944420753,-689963.9276930952,-656997.7323686387,-670831.7550343614,-690492.7822313755,1168473.3495711721,1167412.0994713274,1166311.4686381088,1166314.281524299,1167381.157405726,-457823.6374131988,-468492.396218241,-473826.7755748286,-171900.90166494373,-466358.644455388,2212161.019697134,2207775.686676959,2211457.7903734813,2213595.6074877437,2207466.265731563,-588084.0838852143,-590210.7537172895,-583830.744212618,-587552.4164239317,-587552.4164239317,7930.773338190205,8557.240847348192,9193.863473361818,8306.061564677388,7631.977784384723,-366722.48835835076,-366722.48835835076,-367256.89327794715,-367256.89327794715,-366750.61753178324,33854.11493156484,32284.504264206276,31755.574274293245,32287.241726145574,30132.442724827248,-311317.61287917325,-311852.01779876946,-311854.8306941788,-311317.61287917325,-311854.8306941788,-33163.13792108795,-33163.13792108795,-33163.13792108795,-33163.13792108795,-33163.13792108795,-74726.81621931682,-74724.00330183601,-74726.81621931682,-74724.00330183601,-74726.81621931682,1867401.4946447893,1762397.5916526287,1739348.2598736843,1789210.1345526832,1852857.0081017446,-509965.28137463925,-517351.16076036764,-514709.70097644225,-516283.40669968387,-506111.4020602069,-538107.6059972104,-538135.7351674293,-538161.0464891711,-538186.362740988,-538186.362740988,-469020.78004010854,-469527.0557756901,-469020.78004010854,-469020.78004010854,-469020.78004010854,3313804.8594530257,2537202.7227235744,2461930.7528272485,3204476.3650114937,5941015.809113002,-639874.2665211306,-639877.0794395325,-639879.8923579329,-639879.8923579329,-639877.0794395325,7877649.704090615,6031898.179299573,7639677.316894355,6301845.901169086,7374081.476172697,879172.2656159494,1238871.3214936845,719151.0369327073,349176.3084068576,829946.6078872681,-481636.66270983533,-506844.47902980825,-476120.5584237969,-505536.80699230166,-478521.2061962064,-304831.7575505116,-304180.9632610097,-304051.97117726743,-303294.4893042172,-304286.6838702694,118071.17145333225,120204.92321618524,96733.65382480551,114870.54380905424,64699.248299237996,268204.38504999684,247511.80577266775,234904.16675039084,455831.8612975998,342885.69661170564,1357386.2020903202,1354218.1380821448,1307437.0276044281,1324430.6958627487,1319093.4869444808,-1145031.4966392205,-1145034.30950002,-1145031.4966392205,-1145034.30950002,-1145031.4966392205,-717477.3908559093,-717477.3908559093,-717477.3908559093,-717477.3908559093,-717477.3908559093,64142.57994304202,64142.57994304202,64996.08064818357,64035.89235490005,63289.07923790125,-3288297.4048927445,-3288266.462811655,-3288350.845370872,-3288294.591995673,-3288297.4048927445,-270639.64840085706,-279784.68277687137,-273443.4712132146,-280220.33140510804,-273443.4712132146,-809171.0535920722,-802901.073407121,-803817.9314838921,-800879.6554386853,-811955.1395583798,356578.3430046302,356578.3430046302,356578.3430046302,356606.4721748408,356578.3430046302,-570465.7566559662,-570462.9437389448,-570462.9437389448,-570462.9437389448,-570491.0729112603,-777847.3978638895,-777875.5270018924,-777312.992990395,-777312.992990395,-777847.3978638895,-1482420.134614884,-1483564.5146813805,-1476698.373831751,-1497033.4533850742,-1501808.3547246798,-4296538.000201739,-4663388.5471501155,-4190176.379881632,-4546421.705386321,-2095836.463823964,-2095864.59300798,-2095836.463823964,-2095864.59300798,-2095864.59300798,-365594.8743534068,-365060.46943381237,-365060.46943381237,-365060.46943381237,-365060.46943381237,-1249339.039305665,-1242937.7840171074,-1245071.5357799598,-1242937.7840171074,-1237603.4046559087,-430852.8222455459,-462123.92159006844,-464860.64328268083,-481655.5132466412,-450564.6217404621,-597810.0537976493,-597810.0537976493,-598372.5878874473,-597838.182967851,-598344.4587126352,-650040.2451218656,-612711.2475309678,-571720.9136481016,-671848.1296580405,-643375.9984638463,-550006.0785538695,-550006.0785538695,-550003.2656364795,-550109.953224531,-550003.2656364795,-412277.7048690762,-380628.0824695818,-412185.7457328188,-412516.85219114216,-402623.352458536,-173275.73790643824,-175135.81256677269,-124424.14738691729,-194251.7324207204,-213122.8751280691,307106.6285377883,256430.0242160545,405259.2094449414,308493.5671928463,395657.32651210506,24253.781659434226,24225.65248922349,24222.915026309776,23691.247569627718,24222.839506397766,1974613.4687269116,1973291.9617648355,1972504.3942448655,1971691.4612196495,1972029.0112897817,-1038884.4751042,-877789.235293705,-921385.966855533,-1018149.4442285751,-884169.2447807271,-620161.094907078,-620161.094907078,-620161.094907078,-620161.094907078,-620161.094907078,-550293.3777590166,-547895.3135343336,-548163.9273872393,-550299.0035935198,-547972.6613548875,-3458087.24433163,-1655523.959359729,-1656328.1564422261,-1656301.4362262117,-1645300.6521836685,-1656134.8717320208,-2659433.2662966494,-2659405.137112636,-2659433.2662966494,-2659433.2662966494,-2659461.3954806644,-510060.16912782245,-208817.3873127638,-315150.8789531739,-208817.3873127638,-270518.9416389884,-1512591.2959237369,-1512594.1088306378,-1512594.1088306378,-1512594.1088306378,-1512591.2959237369,193853.92977632442,-108061.27540508458,181036.7716780657,-119779.44967280696,415912.41110627,33171.09337432036,142226.4677745204,71815.47268152346,50314.80589084177,395019.792936473,29190.855459745737,29190.855459745737,29190.855459745737,29190.855459745737,29190.855459745737,-1008757.0151252708,-1008116.8895780075,-1007718.268427858,-1009426.2367894116,-1008465.0815356527,-62769.29765187218,-62769.29765187218,-63836.17353329805,-63836.17353329805,-62769.29765187218,236257.81593281066,236257.81593281066,236257.81593281066,236257.81593281066,236257.81593281066,-496064.1032825693,-496010.6627906081,-496064.1032825693,-496064.1032825693,-496064.1032825693,-603278.8950725902,-606243.4126442305,-605238.9915658172,-604747.7459606867,-603397.1179881286,394304.33460279513,526084.6912630594,224441.6674724468,762399.7205438213,300975.990609987,342942.55663741875,342942.55663741875,342942.55663741875,342942.55663741875,342942.55663741875,-600203.0217621409,-600160.2500289964,-600224.359279769,-600224.359279769,-600203.0217621409,4171658.9611809747,4172674.330495937,4170006.1738134874,4173288.3711199993,4171075.862638086,-579818.0242705555,-584198.9842273607,-581147.7284054679,-582516.2304666595,-583318.3213354864,-486253.7508298854,-486253.7508298854,-486253.7508298854,-486253.7508298854,-486250.937912405,-598938.6973814161,-598909.2125669015,-598933.3630020085,-598973.6036029798,-598920.1727808102,6267657.820167938,6265097.317794818,6264241.003771952,6270855.634365644,6263497.00392666,-313672.1346899794,-302714.4028043999,-328340.632790581,44508.20129194567,-316564.99603745237,-740103.4376001315,-740528.1535510923,-739588.7132308298,-739642.1537227883,-739799.6721541814,-797911.5125170184,-790439.5134774371,-748302.7511016105,-796319.9015507561,-731256.9983132064,-395953.73615463986,-396485.40360810846,-403453.3389125099,-408654.68388442433,-409242.60969200893,2099370.3430747273,2099904.747948222,2099904.747948222,2099876.618810309,2099370.3430747273,-505750.3161260985,-505747.50320769835,-505750.3161260985,-505747.50320769835,-505750.3161260985,-432499.0370180045,-430385.8403680422,-429651.7676786314,-429542.0639069971,-430765.5841956349,-360536.83442242205,-361515.7296245632,-361701.3328069659,-378574.49202616006,-378729.1531245601,-564236.0711089943,-564236.0711089943,-564264.2002930085,-564236.0711089943,-564264.2002930085,-543056.9631691079,-535625.0451455845,-534022.9608435403,-541497.9753933258,-532435.0403919168,-222458.77186984915,-222844.141514931,-222768.19275587777,-222486.9010538628,-222627.54692792083,629777.2896913432,629240.071835941,629774.4767555384,629777.2896913432,630869.481810395,1032748.4913337948,973034.3841470418,1782793.1767691104,998639.4053012728,2055885.2727700644,-571986.2206843836,-575854.7162306546,-578359.4505521526,-579398.6984759549,-565801.8181032997,1207020.6321389796,1498756.7117033629,1356562.5772152697,1235090.052938637,1503288.7934183825,9486.497376396776,8004.011677991484,17683.75582925906,13627.32034855381,12367.081180065083,-546073.1422215226,-632515.1701279962,-686401.4349345244,-627865.4802021022,-657232.8250745203,-655519.15941053,-655519.15941053,-655521.9723289313,-655519.15941053,-655519.15941053,-647840.0784172714,-677032.6901400945,-672667.7508573252,-653764.154099951,-664323.8189230948,-2488699.0696349177,-2488699.0696349177,-2488699.0696349177,-2488699.0696349177,-2488699.0696349177,-526406.9619819578,-527100.2819122768,-527199.0355456603,-527002.9668234073,-527050.5095680535,11564599.074329073,9825698.07838589,8663763.557976844,8197645.485906275,9619897.72119928,1487945.4009125857,1463975.4714659315,1486325.279028187,1477182.7703530667,1486325.130944841,-637317.9282996632,-635694.7967520818,-671344.6456204457,-618706.8298016053,-603291.21097495,-769608.4587266414,-769580.3296347394,-769608.4587266414,-769608.4587266414,-769608.4587266414,5330731.368203729,5684390.943274847,5530760.816625559,5560073.34605602,5770773.406370466,-3088872.001817949,-3088869.1889208755,-3088872.001817949,-3088872.001817949,-3088874.814724682,-909815.8445304454,-909843.9737144591,-909787.715392443,-909815.8445304454,-909841.1608173881,-3051553.005671355,-3051553.005671355,-3051553.005671355,-3051553.005671355,-3051553.005671355,-984382.8208249906,-984354.6916409773,-984354.6916409773,-984382.8208249906,-984354.6916409773,-588384.9501101961,-588151.4779797867,-588151.7597650926,-588253.024785448,-588373.9802265359,-372682.0432694014,-372671.3745134325,-372707.35959261673,-372671.3745134325,-372682.0432694014,-8080.593015070665,-373684.77008396,-342145.3898030452,-262287.17283717287,-323728.7986471597,297380.4671150563,296316.4041705224,296313.59127973154,297380.4671150563,294179.8395168783,154144.94920658553,-138209.6747460707,470987.70418003434,-127524.03852988742,-3712.9909612737374,-532858.7937915591,-532858.7937915591,-532830.6646266057,-532830.6646266057,-532830.6646266057,-745062.4727943077,-744815.1393597177,-744955.7852337759,-744640.5352642464,-744815.1393597177,-2383677.7952477387,-2383669.3564547515,-2383745.310196802,-2383714.3632150027,-2383745.3052598154,-516740.6326745832,-520980.00701627514,-517807.5085560092,-522046.88289770053,-529543.1432516982,-520030.8565203818,-531232.0862780681,-488343.67591835663,-531232.0862780681,-494745.898176595,-495322.4999626894,-439524.537360747,-414295.22443867126,-459742.01233314164,-504335.6536158907,-738728.8638306728,-737661.9879492469,-738728.8638306728,-737633.8587652324,-738728.8638306728,-693188.9018775192,-691160.870728538,-691773.8340614652,-693159.8057284357,-692840.7099428904,-562339.1840964931,-570907.7476113192,-571436.6021495986,-562358.9499752234,-574120.4066055138,-563544.2674915481,-601570.3990996483,-605575.0916151839,-601743.9018650727,-570015.193954735,429442.0047227028,429976.40964229766,430004.5388171099,429976.40964229766,429976.40964229766,-433171.40228279616,-396179.9435381308,-415765.61950428126,-483403.96082603483,-400790.38790074404,-4361.693831387149,-13435.25174899403,-18116.308758631774,-17578.362870743626,-17260.070581454835,-657752.9500615075,-659886.7018197662,-647112.3204404633,-652418.570663579,-651351.6947821523,-534371.7447261367,-540196.3810658912,-642611.2995891946,-599851.050370838,-601507.8953878629,2152753.7457013703,2474890.3604719085,1259465.5710446564,4893948.046297832,1879095.4730738224,-702665.8852588676,-702665.8852588676,-702665.8852588676,-702665.8852588676,-702665.8852588676,-584875.3782617023,-584878.1911791653,-584875.3782617023,-584878.1911791653,-584878.1911791653,23538.539392608156,23400.424658096963,23372.577240102677,23543.88341737024,23572.012595807864,-1394468.9817662796,-1402400.7125512147,-1377954.9089939587,-1308032.34516379,-1230119.4638306173,-585254.6600935523,-585594.2392176361,-585802.0073559616,-584373.3626663291,-585343.7392561319,-613501.6581876292,-612967.253268034,-613494.8665334051,-612977.9220250065,-613473.5290139334,-463037.88426512334,-463015.3809261945,-463102.5813583945,-463209.4722084133,-463015.3809261945,7813576.177427777,7813576.177427777,7813576.177427777,7813576.177427777,7813576.177427777,-581900.4010451103,-582328.118376564,-582968.243905419,-583075.8984724451,-582541.4935528488,228548.95875766003,228548.95875766003,234978.3432210301,85587.5908950738,144265.76427228437,-538805.7266498064,-538805.7266498064,-538802.9137327857,-538802.9137327857,-538805.7266498064,1099939.6670885913,1086464.08906166,1416449.408440792,1196997.2429818134,1256024.2180631072,-327794.4061847578,-328328.8110997447,-327794.4061847578,-327794.4061847578,-327794.4061847578,-1198282.6370954572,-1241350.4387871334,-1081315.7964040826,-1230182.684595857,-1107927.2984756667,135709.31381614401,137901.25788540178,137047.7571986357,133577.4960110574,137500.59244783237,-4877021.3368207235,-4876993.207682721,-5009938.201642713,-4733471.123239498,-4520776.01087264,-547310.773029159,-611040.3249345878,-589330.4332209233,-614705.7806146696,-551273.0585018733,-357993.54894907033,-357993.54894907033,-358499.82469982764,-357965.4197802324,-357965.4197802324,-655358.2609235132,-655439.8305847179,-655805.5098231024,-655625.4831246162,-655549.5343563517,-601377.2072251809,-601346.2651319666,-601374.3943067786,-601405.3363953902,-601346.2651319666,-597176.0177826191,-597176.0177826191,-597176.0177826191,-597176.0177826191,-597176.0177826191,4066302.0842000702,3989210.302751072,4037060.3739630636,4067897.0865677325,3882848.6819467866,-292167.04971062584,-294107.6664670714,-274334.4870472585,-274081.3738600352,-278103.94421253225,-624959.1426420204,-622281.5734579926,-626951.2961385521,-628480.8755525247,-627229.7700050214,-532534.9300937228,-532534.9300937228,-697658.5255661141,-555979.211427876,-532759.9634764544,-189679.35605091212,-189679.35605091212,-189679.35605091212,-189679.35605091212,-189679.35605091212,787151.4408231118,787199.2604119538,787126.1245390893,787154.2537139019,787126.1245390893,-22035.38278238877,544008.3031348295,-263746.99285211926,-294895.30847029394,-123389.79615411423,-524439.1518783413,-524147.2182887248,-524653.494033509,-524147.2182887248,-524119.08911391394,-115739.40523661408,-118940.03288089391,-117845.02782102667,-119978.77958388042,-121045.65546530731,9627281.02114915,9627281.02114915,9627281.02114915,9627283.833632054,9627281.02114915,-721371.1749907437,-720923.9260887088,-719967.5342233971,-720164.4384332661,-720698.8927086391,-325898.9081340735,-316384.22564821446,-315678.18342145305,-315624.73799484107,-317760.4730715123,187259.50324716515,199546.770283647,210211.0615057488,211274.32096609028,194250.0124844944,-520267.7788604289,-521390.0291915792,-521336.5886996197,-520830.3129548346,-520295.90803523903,-455044.82565024355,-455044.82565024355,-454510.42073064833,-455016.69648003345,-455044.82565024355,-709237.794464403,-709240.6073252017,-709240.6073252017,-709240.6073252017,-709240.6073252017,-409504.989516226,-409558.4300081853,-409558.4300081853,-409558.4300081853,-409558.4300081853,-681832.0499046916,-682366.4548242873,-681832.0499046916,-681832.0499046916,-681832.0499046916,-410606.495797357,-412177.7134658021,-428687.12743198214,-428208.98086200794,-428743.38578160567,-2520229.3137021293,-2520603.397141237,-2520150.561883874,-2517613.5474261665,-2520015.551743512,1204026.3519475202,1151132.6246363788,2868439.929469357,1684899.675752356,2858077.7737434255,-691611.7096770362,-691608.8967615349,-691558.2691850775,-691555.4562695746,-691608.8967615349,-603443.408453767,-567419.5266140456,-559802.7166415637,-559249.2214079023,-603244.2200657085,1105882.304014192,1369237.7002918306,1170534.9823090667,1309335.5342709536,1709919.2978722688,-113065.94511108566,-111181.22769106049,-112911.8175884215,-112620.16797099946,-111450.52937867421,-2834459.637156081,-2070026.9540373378,-1993333.8747669922,-196424.2980104624,-196336.13502201618,-196842.41076817992,-196870.53994161068,-196325.46626135247,-1344700.1492506324,-1327146.2494656078,-1338463.0082551783,-1351911.2776165667,-1332275.8855019403,-258684.9572030325,-260054.84787457384,-280376.1220937857,-260091.4158418374,-280412.690024776,159450.8331586092,159161.95401783352,154701.28163365313,152681.1733947356,152077.38602880752,-486245.66786028654,-486237.81201666035,-486232.1861867535,-486245.66786028654,-486242.85494280705,-483542.517160661,-539551.5776969711,-557100.4959782191,-559093.1111106839,-562697.4269712787,396255.9602687212,396255.9602687212,396255.9602687212,396255.9602687212,396255.9602687212,-904099.2189892607,-895457.5243773174,-900898.5913449818,-903336.825700895,-898658.1520215973,433002.86551586405,433030.99469067523,433002.86551586405,433056.30604009354,433056.30604009354,-230881.30118959656,-230881.30118959656,-230881.30118959656,-230881.30118959656,-230881.30118959656,-2957180.3329837737,-2957074.1876849555,-2957125.301456148,-2957193.553725062,-2957226.3835489773,-1658005.1764769447,-1824813.5548445694,-1288763.3379551785,-2612036.518245701,-1508357.77389274,-675007.5601540278,-675007.5601540278,-675007.5601540278,-674979.4309792161,-675002.216106215,134475.25619546333,132493.40195531832,134106.7379203067,133520.69376534768,133015.44737319887,756027.6260736638,765734.4141721424,661729.8510164629,778622.4374114961,789236.5925237567,-464777.5939851126,-466479.552799433,-463660.8185807481,-462279.65362674964,-466957.77976415347,-608652.3587191274,-608711.5503324461,-606471.1109855905,-591203.0902685688,-588760.9713842864,-617657.3260757532,-617122.9211607685,-617122.9211607685,-617122.9211607685,-617122.9211607685,-112227.70050086726,-105316.02355106895,-105313.36154407362,-108478.65369462226,-109040.43321835731,-629079.1835375812,-679508.8402504267,-630114.4696738989,-623071.3412588888,-630114.4696738989,3223312.839775496,3133723.3950577555,3163567.7905076556,3301194.7790275845,3116625.251816932,8744097.353230797,8071965.5487605175,8861464.368897734,7806316.267728361,8285351.3938478585,-750614.6246853449,-753289.462192515,-753739.4845361334,-751149.0296049415,-752752.2443591176,-484016.91317819775,-483985.97109280084,-483541.283132728,-482830.26214669936,-483443.41887632245,-451743.9455726356,-461456.8931487499,-453456.29102613823,-470419.6175132062,-452389.41514932225,-602727.5403774715,-599907.0370940373,-596382.8577613829,-592826.0486315504,-588547.4824476257,-826809.0283923125,-827048.1016911477,-827315.3041278954,-825630.5197069647,-827048.1016911477,134524.83253455622,32435.303334948938,-48425.50133206306,181787.89268562754,25715.70397084985,-538924.4387563055,-538924.4387563055,-538924.4387563055,-538924.4387563055,-538924.4387563055,-645596.6411205928,-645169.8907684822,-646181.4753230686,-646020.5587044419,-645169.8907684822,771201.7244716485,665761.6291179328,660370.0587939579,726627.5276646821,812999.9932287475,-550373.2663738392,-537863.6041272196,-478224.7837712699,-473340.828212635,-489279.7703785071,-621805.7554333673,-621805.7554333673,-621805.7554333673,-621805.7554333673,-621805.7554333673,-457704.926338585,-445149.2236686146,-444882.02120881615,-448103.0434241546,-436239.2542275692,1834498.2550162498,1834526.3841864609,1834498.2550162498,1834526.3841864609,1834498.2550162498,-397341.39579839725,-398837.7295548235,-397529.84641688934,-400066.8608745053,-399104.9320376729,-367022.615839357,-389971.11600926326,-341445.7238999801,-395875.7333383077,-357448.8620937645,-1980204.4082498786,-2080490.7410119215,-1960742.2605851751,-1962836.5038518384,-1904700.062813128,-594960.6701413983,-589820.3770974708,-594372.8197951125,-594940.9797209686,-595013.8342776286,-513393.3654164769,-503788.14006585244,-510685.6531697887,-505950.02099890733,-512327.21758012,-2031518.9149246013,-2026077.8479569373,-2031625.602577168,-2026291.2231700362,-2029385.1631617486,-567105.9595100915,-558576.5783060675,-580975.3459447025,-591644.1047405596,-559637.8283529893,-753936.3215587067,-649267.0386859596,-702086.2234078825,-725035.6575418714,-695418.1574243736,875660.369887074,875691.3119779115,875688.499025078,875691.3119779115,875660.369887074,-313741.26769368775,-313766.58394865424,-313682.1964339357,-313738.45477620617,-313206.86277409137,-500155.9191834692,-498342.2301942479,-498342.2301942479,-498128.85501796333,-500582.6695360394,-481880.46405512374,-483428.2994681688,-488397.1037960873,-482508.81172409817,-481192.8902722823,-201345.5826897848,-201292.14219782647,-201292.14219782647,-201292.14219782647,-201366.95889025705,2844190.15456828,2301693.425720952,2599323.4683775324,4293532.789518559,4692550.6469541425,-498726.31993922254,-498194.72794534545,-498729.13286033017,-498194.72794534545,-498194.72794534545,62885.86073590736,60694.80057939433,62832.42025777791,60694.80057939433,60720.11187351161,-501730.1532449942,-501847.72232453927,-501185.0602297728,-501238.50071712205,-501933.2271125962,-476695.49202786904,-477784.62949441315,-476447.1306458804,-477286.15529610624,-477188.2860981909,1376719.9092836496,1196524.5732053365,789084.6747972858,826397.2013767331,782149.9816140323,-1866656.131006736,687242.9860142691,-3511019.100856471,454745.47056580795,-1231843.6678940211,-632676.7735386356,-631887.2853881737,-632335.3732573149,-632911.4862323647,-633434.2554133426,-490390.7201342364,-490390.7201342364,-490362.59096177033,-490951.3202694982,-491429.4668386036,-806931.9562401137,-806864.4462592688,-807055.7246257944,-807097.9183742156,-806889.7624870974,-554792.5600417254,-554792.5600417254,-554846.000533684,-554795.3729601256,-554795.3729601256,-273375.1413357104,-276469.0813550828,-276440.9521802721,-280843.27245054074,-268040.7619331883,-594217.6593999851,-594189.5302306892,-594189.5302306892,-594217.6593999851,-594217.6593999851,-585163.8051068392,-585160.992189495,-585163.8051068392,-585163.8051068392,-585160.992189495,-830325.995296258,-828905.2798933912,-716692.9201511074,-828238.1692658461,-786538.7062767873,-528233.2426970241,-528755.8081009776,-528554.638637469,-527581.335101904,-528465.047982766,-543809.7430137271,-543809.7430137271,-543809.7430137271,-550506.0155305798,-551572.087903183,-1866801.8529610946,-1958398.8770558122,-2075648.688831038,-2612894.6799171236,-2865147.340012723,-150512.9332817717,502549.8601500945,-200872.2877151518,116330.16886097807,-225109.0632069991,4596754.216471268,4599367.416379642,4598579.799917471,4599848.425589042,4596470.111365904,-774432.000165849,-774429.1872412481,-774434.8130312489,-774434.8130312489,-774429.1872412481,-1450954.1317717049,-1451458.4735495215,-1451458.4735495215,-1451992.8784691175,-1451992.8784691175,2425020.4205025746,-2046720.0721782788,-1804884.2365931885,-1114203.4838757114,-419013.7873539187,-641821.7330746375,-641598.9297080104,-641703.5905564026,-641866.1568355622,-641680.5043102449,-536825.8828014035,-516169.61361725704,-536755.5598653404,-494945.10903697385,-478947.26570542104,-2410058.364799952,-2405180.798914863,-2380125.12626235,-2356343.1118757348,-2383232.251993922,3537946.571301201,3537834.054611157,3537949.384244207,3537774.9833823307,3537828.4288532874,-491871.13174400444,-520676.7804918888,-528679.3165676728,-543643.7080548421,-469494.86744567787,-334026.57429942425,-333773.4117418896,-333942.1867795907,-333857.79926073976,-333857.79926073976,-3617.456028965976,-3617.456028965976,-3617.456028965976,-3617.456028965976,-3617.456028965976,3458506.26228703,3458478.133633026,3458478.133633026,3458506.26228703,3458506.26228703,2687923.7552757193,2019153.2181772003,2490545.087621045,2474234.010385686,2231974.5559798,-337621.00743240013,-337621.00743240013,-347777.51384772646,-349380.728606513,-337623.82037540607,-756386.6959225617,-864928.1009677042,-897200.8761359794,-770281.3986680459,-990848.510487258,-469974.20846397494,-487336.17588763713,-460781.6964136341,-485575.8020025612,-461607.7890873324,569659.6894375943,569673.7539789825,569673.7539789825,569673.7539789825,569673.7539789825,-2155922.170742146,-2155891.228615127,-2156774.4846316976,-2155789.9635691317,-2156133.13947934,-588922.569001651,-594770.9110417312,-614442.6069945619,-588927.9130508481,-588927.9130508481,705953.2459863505,705953.2459863505,705953.2459863505,705981.3751611619,705953.2459863505,359592.6688085335,359058.2638889379,360659.54468995973,359620.7979925474,359083.5801299458,351133.81215955847,352379.459862552,351284.2248730683,350536.79881605617,351227.96650504065,-564801.5922016454,-564801.5922016454,-564829.7213856585,-564801.5922016454,-564829.7213856585,-402475.99895832466,-400224.890851276,-401291.76673270215,-402465.33020227164,-403532.2060836979,-523606.7964551268,-528991.8027484834,-525813.2093670216,-527752.9445263643,-534419.0077340619,-523147.94603346975,-523147.94603346975,-523147.94603346975,-523147.94603346975,-523147.94603346975,-490594.7132856007,-489643.2597998079,-494151.27788259054,-479919.1856421749,-492751.7045345567,964387.8655691469,954539.7330269169,1073002.4738326273,1430355.4056878067,953763.9469338168,-1672193.2840717782,-1677303.600170184,-1673073.5050022204,-1677314.288311911,-1655966.082587758,-524347.6060421583,-535018.8489822161,-524136.3185487275,-531152.506935293,-530557.6856359454,-2883047.0576608293,-2796068.605287191,-1069935.3004803737,-1602917.2967971952,-1069701.9941988252,-155295.11768883007,-205893.93717118332,-258807.39424404557,-232053.927592255,-168657.34938053868,-1372475.9272608384,-1292284.1805388376,-1361316.5626102528,-1349642.4340821302,-1324127.9697633223,-925061.8500575791,-947361.0166631723,-964487.8546290688,-938408.0199686923,-918193.9877844825,1157003.6679616044,1156975.5387867922,1142067.405621635,1151669.2885544726,1138866.7779773565,234819.49336043498,195420.1099229796,193053.5122426581,38735.65461701203,-124448.86140490333],\"yaxis\":\"y\",\"type\":\"scattergl\"},{\"hovertemplate\":\"color=2\\u003cbr\\u003ePC1=%{x}\\u003cbr\\u003ePC2=%{y}\\u003cextra\\u003e\\u003c\\u002fextra\\u003e\",\"legendgroup\":\"2\",\"marker\":{\"color\":\"#EF553B\",\"symbol\":\"circle\"},\"mode\":\"markers\",\"name\":\"2\",\"showlegend\":true,\"x\":[40072065.45174404,40072065.45174404,40072065.45174404,40072065.45174404,40069795.39747708,20605815.563651472,21264449.494013812,47851732.75742418,47862789.71755656,47844653.69791102,47860823.68407693,47848888.81309681,36362967.4456777,36362967.4456777,36362967.4456777,36363194.45150711,36363194.45150711,50364070.018033646,50366340.071888395,50361799.96376669,50366340.071888395,50364070.018033646,34531049.10576333,23269978.00591389,22837375.973693732,23023944.30126821,22529606.837604377,41237182.711649336,39233743.03592132,41060750.389887854,39898954.066999465,40017991.87971455,29015581.66418328,28704539.310098298,28859196.70114375,28690077.738572232,28753629.213949233,25387839.38090748,25390109.43528319,25390109.43528319,25387839.38090748,25387839.38090748,31484971.74946065,25391606.14248253,24209901.102256835,30189557.73998588,31109319.5334582,30970869.07143501,32739720.692565992,32155414.800675564,53324769.54439792,53322499.49044048,67102934.79682218,67933115.48518369,70574007.86705819,59809739.57034791,64138341.818334,53315285.93995905,61259256.140403755,70455792.1033054,58597475.20098168,63105090.282054566,25992085.13675977,25710764.132138547,27776274.578185875,27776047.57328965,27773777.51891394,27776047.57328965,27776047.57328965,22530210.722488612,22532253.771569114,22532253.771569114,22532253.771569114,22532480.776883613,72431459.80932954,32422391.95860139,32596306.897975784,32545617.773971003,32714089.834962416,32694588.377557736,37715270.64757368,37719039.62664437,37717540.70184063,37715270.64757368,37723579.73528703,28226460.203091703,30285734.479195036,26563882.841844298,32503478.56916521,32891107.506758213,36961266.07180517,36965806.179926865,36965806.179926865,36963309.120885655,36963309.120885655,24294403.786861856,24294403.786861856,24294403.786861856,24294403.786861856,24294403.786861856,20378156.538334828,20375886.483418863,20378156.538334828,20373616.429151908,24590887.951105885,25163766.466240715,24033965.97004073,23975846.091275614,25210782.345204625,67536627.24177398,67536627.24177398,67538897.29616901,67538897.29616901,67538897.29616901,26750825.79395601,26731155.399478868,26767009.49793122,26744866.464368004,26756977.866526667,17686632.981396448,19313834.856928334,34113161.61851168,41848357.02533035,17878239.493494134,101519988.86664692,101197258.11197245,101380501.13025475,101299606.48822019,101289809.54816054,86512512.14970896,86171755.46867283,86222192.37791756,86330447.20829585,86293542.15251797,96912111.83707637,96878061.02230631,96875790.96845156,96932542.32429768,96887141.23919871,27979150.163702592,26919169.80544349,31328961.186453015,27990244.38181126,26964261.131402433,110635744.75039755,110473967.87113495,111293357.42604734,110882716.19005735,30399310.57604037,30399310.57604037,30399537.58122682,30399310.57604037,30399310.57604037,22118557.921107613,23617632.562168162,25752426.06204328,24119885.570082743,25884592.651950423,111628929.31610236,37893796.79458793,30908737.239631787,22127821.97810526,22125551.92466878,22125551.92466878,22126155.827857133,22125551.92466878,31377991.614051294,31380261.667487763,31380261.667487763],\"xaxis\":\"x\",\"y\":[3419823.0871524876,3419823.0871524876,3419823.0871524876,3419823.0871524876,3419794.9585444904,-4383936.596682853,-4687909.8530708905,-4549836.078408179,-4540445.144171416,-4555970.131259654,-4542152.338995835,-4552500.841732777,-6763319.446090387,-6763319.446090387,-6763319.446090387,-6763316.632592415,-6763316.632592415,-2108373.1346229385,-2108345.0056522153,-2108401.263230932,-2108345.0056522153,-2108373.1346229385,4864737.917983412,9443722.910981849,9070291.037050517,9230347.735155923,8803569.254029667,-32384.74487911881,-471919.8740228558,-338261.4844426131,-586695.5317321409,-88508.29498830771,-1367104.1852941928,-1634918.16068616,-1506805.8540455496,-1651923.4775562426,-1598554.3669944282,-6350856.7955121,-6350828.666080374,-6350828.666080374,-6350856.7955121,-6350856.7955121,-5414018.521902047,-4050479.686307298,-3841084.1501053185,7912078.5311019765,7688564.049023017,7708746.166428203,7338142.079803098,7473763.314367946,-8545316.94578245,-8545345.07567428,-10490773.968315065,-10652689.163938735,-11183671.7274375,-9099086.601168625,-9884210.567044623,-10423100.90077545,-10543070.500217576,-11547741.754125385,-10357647.129244706,-10289169.888408095,-6416645.959947917,-6339873.934807953,9888753.882016385,9888751.068616705,9888722.939184982,9888751.068616705,9888751.068616705,-103270.29676012987,-103244.9802696394,-103244.9802696394,-103244.9802696394,-103242.1673300721,-10388188.925932202,-4128871.03579704,-4158568.9935125727,-4156921.8875326104,-4185322.1611113055,-4180103.295662041,9446627.812303074,9451943.732067306,9446655.940911068,9446627.812303074,9451999.990107019,-2934327.401411759,-3031669.096774468,-1597524.957157276,-2914400.9723747517,-2703676.241150542,-5118514.1484831935,-5118457.890904488,-5118457.890904488,-5118488.83199271,-5118488.83199271,-1584827.3500592846,-1584827.3500592846,-1584827.3500592846,-1584827.3500592846,-1584827.3500592846,-4832113.847902372,-4832141.9777934365,-4832113.847902372,-4832170.106401429,6257248.540325653,6755032.199717687,6479396.434514505,6427743.937370024,6657695.943526179,-12661389.849362036,-12661389.849362036,-12661361.719931984,-12661361.719931984,-12661361.719931984,-5943812.54128598,-5960871.886401828,-5927836.465347525,-5947040.231306069,-5938477.095191077,-4939827.496004696,-5264945.755283476,-8264820.457627585,-9833372.425727038,-4974738.196768999,82550001.69063765,82629380.40898983,82766582.0260292,82901506.52746227,82688854.29599957,-11171786.922837604,-11467311.541441308,-11423569.630578946,-11329684.552920558,-11361690.82936333,2312137.2817746103,2311715.3439656473,2311687.2149949316,2312390.4440864148,2311827.8604061236,5658549.114341371,4753296.077730161,8268287.338452049,5668151.278251562,4778376.513545159,-23541907.704473086,-23514691.626231156,-23634135.638732046,-23602202.064506013,-131215.19302589862,-131215.19302589862,-131212.38090840224,-131215.19302589862,-131215.19302589862,7802649.03625099,8513666.86074853,8390302.177072147,8461164.568863569,8084160.99654184,-19838427.22213645,-4850633.052071128,-4092119.068809004,373686.3592253067,373658.2297944816,373658.2297944816,374192.6345757778,373658.2297944816,-3354802.451809787,-3354774.322378963,-3354774.322378963],\"yaxis\":\"y\",\"type\":\"scattergl\"},{\"hovertemplate\":\"color=1\\u003cbr\\u003ePC1=%{x}\\u003cbr\\u003ePC2=%{y}\\u003cextra\\u003e\\u003c\\u002fextra\\u003e\",\"legendgroup\":\"1\",\"marker\":{\"color\":\"#00cc96\",\"symbol\":\"circle\"},\"mode\":\"markers\",\"name\":\"1\",\"showlegend\":true,\"x\":[293660849.16621286,298197477.95999247,290415502.5934196,365660453.7387996,325725045.6580503,220025037.9244943,218085115.7113119,218091822.4807424,216448020.5251614,218067878.40521687,278482599.0232284,299621918.9850091,272487810.54689765,183377044.19270426,305705615.493102,179756762.73234665,214049694.73350412,232583897.33802086,242092365.5486923,238898128.8745926,244249948.40367305,235849203.17506295,237368954.6524953,267428922.796435,271030337.88785833,269651888.0639792,267691307.0240651,255676052.29830313,255672683.8155195,255637130.6372034,255627816.0332798,255687422.31203374],\"xaxis\":\"x\",\"y\":[-35210404.48296759,-34958744.11116397,-33476850.08077015,-45271712.18904781,-37680494.54635836,49583553.08361593,47394771.62571038,46809763.80098902,46593563.579384334,48164410.29009035,13403383.63847067,4998129.187823651,10121715.530831702,27927169.9745186,7207318.402272024,-19693553.85661926,-25133477.741541274,-25198320.950317856,19977526.692956157,22186304.469955686,22104442.748291302,19509174.748132937,19174491.315078355,26461734.73965909,25357367.540017977,30181815.935474016,23847087.669085998,-53708091.19964563,-53691411.006482415,-53682939.43936424,-53693854.70856151,-53672973.94604373],\"yaxis\":\"y\",\"type\":\"scattergl\"}],                        {\"template\":{\"data\":{\"histogram2dcontour\":[{\"type\":\"histogram2dcontour\",\"colorbar\":{\"outlinewidth\":0,\"ticks\":\"\"},\"colorscale\":[[0.0,\"#0d0887\"],[0.1111111111111111,\"#46039f\"],[0.2222222222222222,\"#7201a8\"],[0.3333333333333333,\"#9c179e\"],[0.4444444444444444,\"#bd3786\"],[0.5555555555555556,\"#d8576b\"],[0.6666666666666666,\"#ed7953\"],[0.7777777777777778,\"#fb9f3a\"],[0.8888888888888888,\"#fdca26\"],[1.0,\"#f0f921\"]]}],\"choropleth\":[{\"type\":\"choropleth\",\"colorbar\":{\"outlinewidth\":0,\"ticks\":\"\"}}],\"histogram2d\":[{\"type\":\"histogram2d\",\"colorbar\":{\"outlinewidth\":0,\"ticks\":\"\"},\"colorscale\":[[0.0,\"#0d0887\"],[0.1111111111111111,\"#46039f\"],[0.2222222222222222,\"#7201a8\"],[0.3333333333333333,\"#9c179e\"],[0.4444444444444444,\"#bd3786\"],[0.5555555555555556,\"#d8576b\"],[0.6666666666666666,\"#ed7953\"],[0.7777777777777778,\"#fb9f3a\"],[0.8888888888888888,\"#fdca26\"],[1.0,\"#f0f921\"]]}],\"heatmap\":[{\"type\":\"heatmap\",\"colorbar\":{\"outlinewidth\":0,\"ticks\":\"\"},\"colorscale\":[[0.0,\"#0d0887\"],[0.1111111111111111,\"#46039f\"],[0.2222222222222222,\"#7201a8\"],[0.3333333333333333,\"#9c179e\"],[0.4444444444444444,\"#bd3786\"],[0.5555555555555556,\"#d8576b\"],[0.6666666666666666,\"#ed7953\"],[0.7777777777777778,\"#fb9f3a\"],[0.8888888888888888,\"#fdca26\"],[1.0,\"#f0f921\"]]}],\"heatmapgl\":[{\"type\":\"heatmapgl\",\"colorbar\":{\"outlinewidth\":0,\"ticks\":\"\"},\"colorscale\":[[0.0,\"#0d0887\"],[0.1111111111111111,\"#46039f\"],[0.2222222222222222,\"#7201a8\"],[0.3333333333333333,\"#9c179e\"],[0.4444444444444444,\"#bd3786\"],[0.5555555555555556,\"#d8576b\"],[0.6666666666666666,\"#ed7953\"],[0.7777777777777778,\"#fb9f3a\"],[0.8888888888888888,\"#fdca26\"],[1.0,\"#f0f921\"]]}],\"contourcarpet\":[{\"type\":\"contourcarpet\",\"colorbar\":{\"outlinewidth\":0,\"ticks\":\"\"}}],\"contour\":[{\"type\":\"contour\",\"colorbar\":{\"outlinewidth\":0,\"ticks\":\"\"},\"colorscale\":[[0.0,\"#0d0887\"],[0.1111111111111111,\"#46039f\"],[0.2222222222222222,\"#7201a8\"],[0.3333333333333333,\"#9c179e\"],[0.4444444444444444,\"#bd3786\"],[0.5555555555555556,\"#d8576b\"],[0.6666666666666666,\"#ed7953\"],[0.7777777777777778,\"#fb9f3a\"],[0.8888888888888888,\"#fdca26\"],[1.0,\"#f0f921\"]]}],\"surface\":[{\"type\":\"surface\",\"colorbar\":{\"outlinewidth\":0,\"ticks\":\"\"},\"colorscale\":[[0.0,\"#0d0887\"],[0.1111111111111111,\"#46039f\"],[0.2222222222222222,\"#7201a8\"],[0.3333333333333333,\"#9c179e\"],[0.4444444444444444,\"#bd3786\"],[0.5555555555555556,\"#d8576b\"],[0.6666666666666666,\"#ed7953\"],[0.7777777777777778,\"#fb9f3a\"],[0.8888888888888888,\"#fdca26\"],[1.0,\"#f0f921\"]]}],\"mesh3d\":[{\"type\":\"mesh3d\",\"colorbar\":{\"outlinewidth\":0,\"ticks\":\"\"}}],\"scatter\":[{\"fillpattern\":{\"fillmode\":\"overlay\",\"size\":10,\"solidity\":0.2},\"type\":\"scatter\"}],\"parcoords\":[{\"type\":\"parcoords\",\"line\":{\"colorbar\":{\"outlinewidth\":0,\"ticks\":\"\"}}}],\"scatterpolargl\":[{\"type\":\"scatterpolargl\",\"marker\":{\"colorbar\":{\"outlinewidth\":0,\"ticks\":\"\"}}}],\"bar\":[{\"error_x\":{\"color\":\"#2a3f5f\"},\"error_y\":{\"color\":\"#2a3f5f\"},\"marker\":{\"line\":{\"color\":\"#E5ECF6\",\"width\":0.5},\"pattern\":{\"fillmode\":\"overlay\",\"size\":10,\"solidity\":0.2}},\"type\":\"bar\"}],\"scattergeo\":[{\"type\":\"scattergeo\",\"marker\":{\"colorbar\":{\"outlinewidth\":0,\"ticks\":\"\"}}}],\"scatterpolar\":[{\"type\":\"scatterpolar\",\"marker\":{\"colorbar\":{\"outlinewidth\":0,\"ticks\":\"\"}}}],\"histogram\":[{\"marker\":{\"pattern\":{\"fillmode\":\"overlay\",\"size\":10,\"solidity\":0.2}},\"type\":\"histogram\"}],\"scattergl\":[{\"type\":\"scattergl\",\"marker\":{\"colorbar\":{\"outlinewidth\":0,\"ticks\":\"\"}}}],\"scatter3d\":[{\"type\":\"scatter3d\",\"line\":{\"colorbar\":{\"outlinewidth\":0,\"ticks\":\"\"}},\"marker\":{\"colorbar\":{\"outlinewidth\":0,\"ticks\":\"\"}}}],\"scattermapbox\":[{\"type\":\"scattermapbox\",\"marker\":{\"colorbar\":{\"outlinewidth\":0,\"ticks\":\"\"}}}],\"scatterternary\":[{\"type\":\"scatterternary\",\"marker\":{\"colorbar\":{\"outlinewidth\":0,\"ticks\":\"\"}}}],\"scattercarpet\":[{\"type\":\"scattercarpet\",\"marker\":{\"colorbar\":{\"outlinewidth\":0,\"ticks\":\"\"}}}],\"carpet\":[{\"aaxis\":{\"endlinecolor\":\"#2a3f5f\",\"gridcolor\":\"white\",\"linecolor\":\"white\",\"minorgridcolor\":\"white\",\"startlinecolor\":\"#2a3f5f\"},\"baxis\":{\"endlinecolor\":\"#2a3f5f\",\"gridcolor\":\"white\",\"linecolor\":\"white\",\"minorgridcolor\":\"white\",\"startlinecolor\":\"#2a3f5f\"},\"type\":\"carpet\"}],\"table\":[{\"cells\":{\"fill\":{\"color\":\"#EBF0F8\"},\"line\":{\"color\":\"white\"}},\"header\":{\"fill\":{\"color\":\"#C8D4E3\"},\"line\":{\"color\":\"white\"}},\"type\":\"table\"}],\"barpolar\":[{\"marker\":{\"line\":{\"color\":\"#E5ECF6\",\"width\":0.5},\"pattern\":{\"fillmode\":\"overlay\",\"size\":10,\"solidity\":0.2}},\"type\":\"barpolar\"}],\"pie\":[{\"automargin\":true,\"type\":\"pie\"}]},\"layout\":{\"autotypenumbers\":\"strict\",\"colorway\":[\"#636efa\",\"#EF553B\",\"#00cc96\",\"#ab63fa\",\"#FFA15A\",\"#19d3f3\",\"#FF6692\",\"#B6E880\",\"#FF97FF\",\"#FECB52\"],\"font\":{\"color\":\"#2a3f5f\"},\"hovermode\":\"closest\",\"hoverlabel\":{\"align\":\"left\"},\"paper_bgcolor\":\"white\",\"plot_bgcolor\":\"#E5ECF6\",\"polar\":{\"bgcolor\":\"#E5ECF6\",\"angularaxis\":{\"gridcolor\":\"white\",\"linecolor\":\"white\",\"ticks\":\"\"},\"radialaxis\":{\"gridcolor\":\"white\",\"linecolor\":\"white\",\"ticks\":\"\"}},\"ternary\":{\"bgcolor\":\"#E5ECF6\",\"aaxis\":{\"gridcolor\":\"white\",\"linecolor\":\"white\",\"ticks\":\"\"},\"baxis\":{\"gridcolor\":\"white\",\"linecolor\":\"white\",\"ticks\":\"\"},\"caxis\":{\"gridcolor\":\"white\",\"linecolor\":\"white\",\"ticks\":\"\"}},\"coloraxis\":{\"colorbar\":{\"outlinewidth\":0,\"ticks\":\"\"}},\"colorscale\":{\"sequential\":[[0.0,\"#0d0887\"],[0.1111111111111111,\"#46039f\"],[0.2222222222222222,\"#7201a8\"],[0.3333333333333333,\"#9c179e\"],[0.4444444444444444,\"#bd3786\"],[0.5555555555555556,\"#d8576b\"],[0.6666666666666666,\"#ed7953\"],[0.7777777777777778,\"#fb9f3a\"],[0.8888888888888888,\"#fdca26\"],[1.0,\"#f0f921\"]],\"sequentialminus\":[[0.0,\"#0d0887\"],[0.1111111111111111,\"#46039f\"],[0.2222222222222222,\"#7201a8\"],[0.3333333333333333,\"#9c179e\"],[0.4444444444444444,\"#bd3786\"],[0.5555555555555556,\"#d8576b\"],[0.6666666666666666,\"#ed7953\"],[0.7777777777777778,\"#fb9f3a\"],[0.8888888888888888,\"#fdca26\"],[1.0,\"#f0f921\"]],\"diverging\":[[0,\"#8e0152\"],[0.1,\"#c51b7d\"],[0.2,\"#de77ae\"],[0.3,\"#f1b6da\"],[0.4,\"#fde0ef\"],[0.5,\"#f7f7f7\"],[0.6,\"#e6f5d0\"],[0.7,\"#b8e186\"],[0.8,\"#7fbc41\"],[0.9,\"#4d9221\"],[1,\"#276419\"]]},\"xaxis\":{\"gridcolor\":\"white\",\"linecolor\":\"white\",\"ticks\":\"\",\"title\":{\"standoff\":15},\"zerolinecolor\":\"white\",\"automargin\":true,\"zerolinewidth\":2},\"yaxis\":{\"gridcolor\":\"white\",\"linecolor\":\"white\",\"ticks\":\"\",\"title\":{\"standoff\":15},\"zerolinecolor\":\"white\",\"automargin\":true,\"zerolinewidth\":2},\"scene\":{\"xaxis\":{\"backgroundcolor\":\"#E5ECF6\",\"gridcolor\":\"white\",\"linecolor\":\"white\",\"showbackground\":true,\"ticks\":\"\",\"zerolinecolor\":\"white\",\"gridwidth\":2},\"yaxis\":{\"backgroundcolor\":\"#E5ECF6\",\"gridcolor\":\"white\",\"linecolor\":\"white\",\"showbackground\":true,\"ticks\":\"\",\"zerolinecolor\":\"white\",\"gridwidth\":2},\"zaxis\":{\"backgroundcolor\":\"#E5ECF6\",\"gridcolor\":\"white\",\"linecolor\":\"white\",\"showbackground\":true,\"ticks\":\"\",\"zerolinecolor\":\"white\",\"gridwidth\":2}},\"shapedefaults\":{\"line\":{\"color\":\"#2a3f5f\"}},\"annotationdefaults\":{\"arrowcolor\":\"#2a3f5f\",\"arrowhead\":0,\"arrowwidth\":1},\"geo\":{\"bgcolor\":\"white\",\"landcolor\":\"#E5ECF6\",\"subunitcolor\":\"white\",\"showland\":true,\"showlakes\":true,\"lakecolor\":\"white\"},\"title\":{\"x\":0.05},\"mapbox\":{\"style\":\"light\"}}},\"xaxis\":{\"anchor\":\"y\",\"domain\":[0.0,1.0],\"title\":{\"text\":\"PC1\"}},\"yaxis\":{\"anchor\":\"x\",\"domain\":[0.0,1.0],\"title\":{\"text\":\"PC2\"}},\"legend\":{\"title\":{\"text\":\"color\"},\"tracegroupgap\":0},\"title\":{\"text\":\"PCA Representation of Clusters\"}},                        {\"responsive\": true}                    ).then(function(){\n",
       "                            \n",
       "var gd = document.getElementById('16f950b4-58ff-49b0-bb14-2c4e077983b6');\n",
       "var x = new MutationObserver(function (mutations, observer) {{\n",
       "        var display = window.getComputedStyle(gd).display;\n",
       "        if (!display || display === 'none') {{\n",
       "            console.log([gd, 'removed!']);\n",
       "            Plotly.purge(gd);\n",
       "            observer.disconnect();\n",
       "        }}\n",
       "}});\n",
       "\n",
       "// Listen for the removal of the full notebook cells\n",
       "var notebookContainer = gd.closest('#notebook-container');\n",
       "if (notebookContainer) {{\n",
       "    x.observe(notebookContainer, {childList: true});\n",
       "}}\n",
       "\n",
       "// Listen for the clearing of the current output cell\n",
       "var outputEl = gd.closest('.output');\n",
       "if (outputEl) {{\n",
       "    x.observe(outputEl, {childList: true});\n",
       "}}\n",
       "\n",
       "                        })                };                });            </script>        </div>"
      ]
     },
     "metadata": {},
     "output_type": "display_data"
    }
   ],
   "source": [
    "# Create scatter plot of `PC2` vs `PC1`\n",
    "fig = px.scatter(\n",
    "    data_frame=X_pca,\n",
    "    x=\"PC1\",\n",
    "    y=\"PC2\",\n",
    "    color=labels.astype(str),\n",
    "    title=\"PCA Representation of Clusters\"\n",
    ")\n",
    "fig.update_layout(xaxis_title=\"PC1\", yaxis_title=\"PC2\")\n",
    "\n",
    "fig.show();"
   ]
  }
 ],
 "metadata": {
  "kaggle": {
   "accelerator": "none",
   "dataSources": [
    {
     "datasetId": 4736245,
     "sourceId": 8034662,
     "sourceType": "datasetVersion"
    },
    {
     "datasetId": 4736220,
     "sourceId": 8034632,
     "sourceType": "datasetVersion"
    }
   ],
   "dockerImageVersionId": 30673,
   "isGpuEnabled": false,
   "isInternetEnabled": true,
   "language": "python",
   "sourceType": "notebook"
  },
  "kernelspec": {
   "display_name": "Python 3",
   "language": "python",
   "name": "python3"
  },
  "language_info": {
   "codemirror_mode": {
    "name": "ipython",
    "version": 3
   },
   "file_extension": ".py",
   "mimetype": "text/x-python",
   "name": "python",
   "nbconvert_exporter": "python",
   "pygments_lexer": "ipython3",
   "version": "3.10.13"
  },
  "papermill": {
   "default_parameters": {},
   "duration": 38.568961,
   "end_time": "2024-04-06T05:27:03.941291",
   "environment_variables": {},
   "exception": null,
   "input_path": "__notebook__.ipynb",
   "output_path": "__notebook__.ipynb",
   "parameters": {},
   "start_time": "2024-04-06T05:26:25.372330",
   "version": "2.5.0"
  }
 },
 "nbformat": 4,
 "nbformat_minor": 5
}
